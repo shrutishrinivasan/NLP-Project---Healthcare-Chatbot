{
  "nbformat": 4,
  "nbformat_minor": 0,
  "metadata": {
    "colab": {
      "provenance": []
    },
    "kernelspec": {
      "name": "python3",
      "display_name": "Python 3"
    },
    "language_info": {
      "name": "python"
    }
  },
  "cells": [
    {
      "cell_type": "markdown",
      "source": [
        "### Defining helper functions"
      ],
      "metadata": {
        "id": "7OOeCfs14wJ4"
      }
    },
    {
      "cell_type": "code",
      "source": [
        "import re\n",
        "import nltk\n",
        "nltk.download('punkt')\n",
        "nltk.download('stopwords')\n",
        "\n",
        "from nltk.corpus import stopwords\n",
        "from nltk.tokenize import word_tokenize\n",
        "\n",
        "def introduce():\n",
        "    print(\"Hello there! I'm here to help you with your health queries. Type bye to end conversation.\")\n",
        "\n",
        "def get_user_input():\n",
        "    return input(\"You: \")\n",
        "\n",
        "def preprocess_text(text):\n",
        "    # Convert text to lowercase\n",
        "    text = text.lower()\n",
        "\n",
        "    # Remove special characters and punctuation\n",
        "    text = re.sub(r'[^a-zA-Z0-9\\s]', '', text)\n",
        "\n",
        "    # Tokenize the text\n",
        "    tokens = word_tokenize(text)\n",
        "\n",
        "    # Remove stopwords\n",
        "    stop_words = set(stopwords.words('english'))\n",
        "    tokens = [token for token in tokens if token not in stop_words]\n",
        "\n",
        "    return tokens"
      ],
      "metadata": {
        "id": "AhIiPTeYDDgN",
        "colab": {
          "base_uri": "https://localhost:8080/"
        },
        "outputId": "da9bc610-9ae1-4f76-8669-6313df372013"
      },
      "execution_count": null,
      "outputs": [
        {
          "output_type": "stream",
          "name": "stderr",
          "text": [
            "[nltk_data] Downloading package punkt to /root/nltk_data...\n",
            "[nltk_data]   Unzipping tokenizers/punkt.zip.\n",
            "[nltk_data] Downloading package stopwords to /root/nltk_data...\n",
            "[nltk_data]   Unzipping corpora/stopwords.zip.\n"
          ]
        }
      ]
    },
    {
      "cell_type": "markdown",
      "source": [
        "### Importing Necessary Libraries"
      ],
      "metadata": {
        "id": "ZbTsgxfP_I4D"
      }
    },
    {
      "cell_type": "code",
      "source": [
        "import pandas as pd\n",
        "import numpy as np\n",
        "import string, os\n",
        "import warnings\n",
        "warnings.filterwarnings(\"ignore\")\n",
        "warnings.simplefilter(action='ignore', category=FutureWarning)"
      ],
      "metadata": {
        "id": "zbGwdlv5KISF"
      },
      "execution_count": null,
      "outputs": []
    },
    {
      "cell_type": "code",
      "source": [
        "# set seeds for reproducability\n",
        "import tensorflow as tf\n",
        "\n",
        "# Set random seed\n",
        "tf.random.set_seed(42)\n",
        "\n",
        "# keras module for building LSTM\n",
        "from keras.preprocessing.sequence import pad_sequences\n",
        "from keras.layers import Embedding, LSTM, Dense, Dropout\n",
        "from keras.preprocessing.text import Tokenizer\n",
        "from keras.callbacks import EarlyStopping\n",
        "from keras.models import Sequential\n",
        "import keras.utils as ku"
      ],
      "metadata": {
        "id": "6dW-X_y0KLbN"
      },
      "execution_count": null,
      "outputs": []
    },
    {
      "cell_type": "markdown",
      "source": [
        "### Loading Webscrapped Data"
      ],
      "metadata": {
        "id": "_hYh2qC2_R6K"
      }
    },
    {
      "cell_type": "code",
      "source": [
        "# Function to load text data from file\n",
        "def load_text_data(bucket_file):\n",
        "    with open(bucket_file, 'r', encoding='utf-8') as file:\n",
        "        text_data = file.readlines()\n",
        "    return text_data\n",
        "\n",
        "# Load text data for each bucket\n",
        "diabetes_data = load_text_data('diabetes.txt')\n",
        "bp_data = load_text_data('bp.txt')\n",
        "heart_data = load_text_data('heart.txt')"
      ],
      "metadata": {
        "id": "q4Ug1s1vKP-c"
      },
      "execution_count": null,
      "outputs": []
    },
    {
      "cell_type": "code",
      "source": [
        "len(diabetes_data)"
      ],
      "metadata": {
        "colab": {
          "base_uri": "https://localhost:8080/"
        },
        "id": "zo_laZTcN2nv",
        "outputId": "05eeba9c-d73b-49bf-ccaa-d3ad129a0ade"
      },
      "execution_count": null,
      "outputs": [
        {
          "output_type": "execute_result",
          "data": {
            "text/plain": [
              "76"
            ]
          },
          "metadata": {},
          "execution_count": 5
        }
      ]
    },
    {
      "cell_type": "code",
      "source": [
        "diabetes_data"
      ],
      "metadata": {
        "colab": {
          "base_uri": "https://localhost:8080/"
        },
        "collapsed": true,
        "id": "ofxJvdFxN6lg",
        "outputId": "ed026e47-eea9-479d-ef2e-1914537dc7f6"
      },
      "execution_count": null,
      "outputs": [
        {
          "output_type": "execute_result",
          "data": {
            "text/plain": [
              "['Diabetes is a common condition that affects people of all ages. There are several forms of diabetes. Type 2 is the most common. A combination of treatment strategies can help you manage the condition to live a healthy life and prevent complications.\\n',\n",
              " 'Diabetes is a condition that happens when your blood sugar (glucose) is too high. It develops when your pancreas doesn’t make enough insulin or any at all, or when your body isn’t responding to the effects of insulin properly. Diabetes affects people of all ages. Most forms of diabetes are chronic (lifelong), and all forms are manageable with medications and/or lifestyle changes.\\n',\n",
              " 'Glucose (sugar) mainly comes from carbohydrates in your food and drinks. It’s your body’s go-to source of energy. Your blood carries glucose to all your body’s cells to use for energy.\\n',\n",
              " 'When glucose is in your bloodstream, it needs help — a “key” — to reach its final destination. This key is insulin (a hormone). If your pancreas isn’t making enough insulin or your body isn’t using it properly, glucose builds up in your bloodstream, causing high blood sugar (hyperglycemia).\\n',\n",
              " 'Over time, having consistently high blood glucose can cause health problems, such as heart disease, nerve damage and eye issues.\\n',\n",
              " '\\n',\n",
              " 'The technical name for diabetes is diabetes mellitus. Another condition shares the term “diabetes” — diabetes insipidus — but they’re distinct. They share the name “diabetes” because they both cause increased thirst and frequent urination. Diabetes insipidus is much rarer than diabetes mellitus.\\n',\n",
              " 'There are several types of diabetes. The most common forms include:\\n',\n",
              " 'Type 2 diabetes: With this type, your body doesn’t make enough insulin and/or your body’s cells don’t respond normally to the insulin (insulin resistance). This is the most common type of diabetes. It mainly affects adults, but children can have it as well.\\n',\n",
              " 'Prediabetes: This type is the stage before Type 2 diabetes. Your blood glucose levels are higher than normal but not high enough to be officially diagnosed with Type 2 diabetes.\\n',\n",
              " 'Type 1 diabetes: This type is an autoimmune disease in which your immune system attacks and destroys insulin-producing cells in your pancreas for unknown reasons. Up to 10% of people who have diabetes have Type 1. It’s usually diagnosed in children and young adults, but it can develop at any age.\\n',\n",
              " 'Gestational diabetes: This type develops in some people during pregnancy. Gestational diabetes usually goes away after pregnancy. However, if you have gestational diabetes, you’re at a higher risk of developing Type 2 diabetes later in life.\\n',\n",
              " '\\n',\n",
              " 'Other types of diabetes include:\\n',\n",
              " 'Type 3c diabetes: This form of diabetes happens when your pancreas experiences damage (other than autoimmune damage), which affects its ability to produce insulin. Pancreatitis, pancreatic cancer, cystic fibrosis and hemochromatosis can all lead to pancreas damage that causes diabetes. Having your pancreas removed (pancreatectomy) also results in Type 3c.\\n',\n",
              " 'Latent autoimmune diabetes in adults (LADA): Like Type 1 diabetes, LADA also results from an autoimmune reaction, but it develops much more slowly than Type 1. People diagnosed with LADA are usually over the age of 30.\\n',\n",
              " 'Maturity-onset diabetes of the young (MODY): MODY, also called monogenic diabetes, happens due to an inherited genetic mutation that affects how your body makes and uses insulin. There are currently over 10 different types of MODY. It affects up to 5% of people with diabetes and commonly runs in families.\\n',\n",
              " 'Neonatal diabetes: This is a rare form of diabetes that occurs within the first six months of life. It’s also a form of monogenic diabetes. About 50% of babies with neonatal diabetes have the lifelong form called permanent neonatal diabetes mellitus. For the other half, the condition disappears within a few months from onset, but it can come back later in life. This is called transient neonatal diabetes mellitus.\\n',\n",
              " 'Brittle diabetes: Brittle diabetes is a form of Type 1 diabetes that’s marked by frequent and severe episodes of high and low blood sugar levels. This instability often leads to hospitalization. In rare cases, a pancreas transplant may be necessary to permanently treat brittle diabetes.\\n',\n",
              " 'Diabetes is common. Approximately 37.3 million people in the United States have diabetes, which is about 11% of the population. Type 2 diabetes is the most common form, representing 90% to 95% of all diabetes cases.\\n',\n",
              " 'About 537 million adults across the world have diabetes. Experts predict this number will rise to 643 million by 2030 and 783 million by 2045.\\n',\n",
              " '\\n',\n",
              " 'Symptoms of diabetes include: Increased thirst (polydipsia) and dry mouth, Frequent urination, Fatigue, Blurred vision, Unexplained weight loss, Numbness or tingling in your hands or feet, Slow-healing sores or cuts, Frequent skin and/or vaginal yeast infections.\\n',\n",
              " 'Additional details about symptoms per type of diabetes include:\\n',\n",
              " 'Type 1 diabetes: Symptoms of T1D can develop quickly — over a few weeks or months. You may develop additional symptoms that are signs of a severe complication called diabetes-related ketoacidosis (DKA). DKA is life-threatening and requires immediate medical treatment. DKA symptoms include vomiting, stomach pains, fruity-smelling breath and labored breathing.\\n',\n",
              " 'Type 2 diabetes and prediabetes: You may not have any symptoms at all, or you may not notice them since they develop slowly. Routine bloodwork may show a high blood sugar level before you recognize symptoms. Another possible sign of prediabetes is darkened skin on certain parts of your body (acanthosis nigricans).\\n',\n",
              " 'Gestational diabetes: You typically won’t notice symptoms of gestational diabetes. Your healthcare provider will test you for gestational diabetes between 24 and 28 weeks of pregnancy.\\n',\n",
              " 'Too much glucose circulating in your bloodstream causes diabetes, regardless of the type. However, the reason why your blood glucose levels are high differs depending on the type of diabetes.\\n',\n",
              " '\\n',\n",
              " 'Causes of diabetes include:\\n',\n",
              " 'Insulin resistance: Type 2 diabetes mainly results from insulin resistance. Insulin resistance happens when cells in your muscles, fat and liver don’t respond as they should to insulin. Several factors and conditions contribute to varying degrees of insulin resistance, including obesity, lack of physical activity, diet, hormonal imbalances, genetics and certain medications.\\n',\n",
              " 'Autoimmune disease: Type 1 diabetes and LADA happen when your immune system attacks the insulin-producing cells in your pancreas.\\n',\n",
              " 'Hormonal imbalances: During pregnancy, the placenta releases hormones that cause insulin resistance. You may develop gestational diabetes if your pancreas can’t produce enough insulin to overcome the insulin resistance. Other hormone-related conditions like acromegaly and Cushing syndrome can also cause Type 2 diabetes.\\n',\n",
              " 'Pancreatic damage: Physical damage to your pancreas — from a condition, surgery or injury — can impact its ability to make insulin, resulting in Type 3c diabetes.\\n',\n",
              " 'Genetic mutations: Certain genetic mutations can cause MODY and neonatal diabetes.\\n',\n",
              " 'Long-term use of certain medications can also lead to Type 2 diabetes, including HIV/AIDS medications and corticosteroids.\\n',\n",
              " '\\n',\n",
              " 'Diabetes can lead to acute (sudden and severe) and long-term complications — mainly due to extreme or prolonged high blood sugar levels.\\n',\n",
              " 'Acute diabetes complications that can be life-threatening include:\\n',\n",
              " 'Hyperosmolar hyperglycemic state (HHS): This complication mainly affects people with Type 2 diabetes. It happens when your blood sugar levels are very high (over 600 milligrams per deciliter or mg/dL) for a long period, leading to severe dehydration and confusion. It requires immediate medical treatment.\\n',\n",
              " 'Diabetes-related ketoacidosis (DKA): This complication mainly affects people with Type 1 diabetes or undiagnosed T1D. It happens when your body doesn’t have enough insulin. If your body doesn’t have insulin, it can’t use glucose for energy, so it breaks down fat instead. This process eventually releases substances called ketones, which turn your blood acidic. This causes labored breathing, vomiting and loss of consciousness. DKA requires immediate medical treatment.\\n',\n",
              " 'Severe low blood sugar (hypoglycemia): Hypoglycemia happens when your blood sugar level drops below the range that’s healthy for you. Severe hypoglycemia is very low blood sugar. It mainly affects people with diabetes who use insulin. Signs include blurred or double vision, clumsiness, disorientation and seizures. It requires treatment with emergency glucagon and/or medical intervention.\\n',\n",
              " 'Blood glucose levels that remain high for too long can damage your body’s tissues and organs. This is mainly due to damage to your blood vessels and nerves, which support your body’s tissues.\\n',\n",
              " 'Cardiovascular (heart and blood vessel) issues are the most common type of long-term diabetes complication. They include: Coronary artery disease, Heart attack, Stroke, Atherosclerosis.\\n',\n",
              " '\\n',\n",
              " 'Other diabetes complications include:\\n',\n",
              " 'Nerve damage (neuropathy), which can cause numbness, tingling and/or pain, Nephropathy, which can lead to kidney failure or the need for dialysis or transplant, Retinopathy, which can lead to blindness, Diabetes-related foot conditions, Skin infections, Amputations, Sexual dysfunction due to nerve and blood vessel damage, such as erectile dysfunction or vaginal dryness, Gastroparesis, Oral health issues, such as gum (periodontal) disease.\\n',\n",
              " 'Living with diabetes can also affect your mental health. People with diabetes are two to three times more likely to have depression than people without diabetes.\\n',\n",
              " 'Healthcare providers diagnose diabetes by checking your glucose level in a blood test. Three tests can measure your blood glucose level:\\n',\n",
              " 'Fasting blood glucose test: For this test, you don’t eat or drink anything except water (fast) for at least eight hours before the test. As food can greatly affect blood sugar, this test allows your provider to see your baseline blood sugar.\\n',\n",
              " 'Random blood glucose test: “Random” means that you can get this test at any time, regardless of if you’ve fasted.\\n',\n",
              " 'A1c: This test, also called HbA1C or glycated hemoglobin test, provides your average blood glucose level over the past two to three months.\\n',\n",
              " 'To screen for and diagnose gestational diabetes, providers order an oral glucose tolerance test.\\n',\n",
              " 'The following test results typically indicate if you don’t have diabetes, have prediabetes or have diabetes. These values may vary slightly. In addition, healthcare providers rely on more than one test to diagnose diabetes.\\n',\n",
              " 'Diabetes is a complex condition, so its management involves several strategies. In addition, diabetes affects everyone differently, so management plans are highly individualized.\\n',\n",
              " '\\n',\n",
              " 'The four main aspects of managing diabetes include:\\n',\n",
              " 'Blood sugar monitoring: Monitoring your blood sugar (glucose) is key to determining how well your current treatment plan is working. It gives you information on how to manage your diabetes on a daily — and sometimes even hourly — basis. You can monitor your levels with frequent checks with a glucose meter and finger stick and/or with a continuous glucose monitor (CGM). You and your healthcare provider will determine the best blood sugar range for you.\\n',\n",
              " 'Oral diabetes medications: Oral diabetes medications (taken by mouth) help manage blood sugar levels in people who have diabetes but still produce some insulin — mainly people with Type 2 diabetes and prediabetes. People with gestational diabetes may also need oral medication. There are several different types. Metformin is the most common.\\n',\n",
              " 'Insulin: People with Type 1 diabetes need to inject synthetic insulin to live and manage diabetes. Some people with Type 2 diabetes also require insulin. There are several different types of synthetic insulin. They each start to work at different speeds and last in your body for different lengths of time. The four main ways you can take insulin include injectable insulin with a syringe (shot), insulin pens, insulin pumps and rapid-acting inhaled insulin.\\n',\n",
              " 'Diet: Meal planning and choosing a healthy diet for you are key aspects of diabetes management, as food greatly impacts blood sugar. If you take insulin, counting carbs in the food and drinks you consume is a large part of management. The amount of carbs you eat determines how much insulin you need at meals. Healthy eating habits can also help you manage your weight and reduce your heart disease risk.\\n',\n",
              " 'Exercise: Physical activity increases insulin sensitivity (and helps reduce insulin resistance), so regular exercise is an important part of management for all people with diabetes.\\n',\n",
              " 'Due to the increased risk for heart disease, it’s also important to maintain a healthy: Weight, Blood pressure, Cholesterol.\\n',\n",
              " '\\n',\n",
              " 'You can’t prevent autoimmune and genetic forms of diabetes. But there are some steps you can take to lower your risk for developing prediabetes, Type 2 diabetes and gestational diabetes, including:\\n',\n",
              " 'Eat a healthy diet, such as the Mediterranean diet, Get physically active. Aim for 30 minutes a day at least five days a week, Work to achieve a weight that’s healthy for you, manage your stress, Limit alcohol intake, Get adequate sleep (typically 7 to 9 hours) and seek treatment for sleep disorders, Quit smoking, Take medications as directed by your healthcare provider to manage existing risk factors for heart disease.\\n',\n",
              " 'It’s important to note that there are some diabetes risk factors you can’t change, such as your genetics/family history, age and race. Know that Type 2 diabetes is a complex condition that involves many contributing factors.\\n',\n",
              " 'The prognosis (outlook) for diabetes varies greatly depending on several factors, including: The type of diabetes, How well you manage the condition over time and your access to diabetes care, Your age at diagnosis/how long you’ve had diabetes, If you have other health conditions, If you develop diabetes complications.\\n',\n",
              " 'Chronic high blood sugar can cause severe complications, which are usually irreversible. Several studies have shown that untreated chronic high blood sugar shortens your lifespan and worsens your quality of life.\\n',\n",
              " '\\n',\n",
              " 'However, it’s important to know that you can live a healthy life with diabetes. The following are key to a better prognosis: Lifestyle changes, Regular exercise, Dietary changes, Regular blood sugar monitoring.\\n',\n",
              " 'Studies show that people with diabetes may be able to reduce their risk of complications by consistently keeping their A1c levels below 7%.\\n',\n",
              " 'If you haven’t been diagnosed with diabetes, you should see a healthcare provider if you have any symptoms of diabetes, such as increased thirst and frequent urination.\\n',\n",
              " 'If you have diabetes, you should see your provider who helps you manage diabetes (such as an endocrinologist) regularly.\\n',\n",
              " 'Being diagnosed with diabetes is a life-changing event, but it doesn’t mean you can’t live a happy and healthy life. Managing diabetes involves consistent care and diligence. While it’ll likely be very overwhelming at first, over time you’ll get a better grasp on managing the condition and being in tune with your body.\\n',\n",
              " 'Be sure to see your healthcare provider(s) regularly. Managing diabetes involves a team effort — you’ll want medical professionals, friends and family on your side. Don’t be afraid to reach out to them if you need help.']"
            ]
          },
          "metadata": {},
          "execution_count": 6
        }
      ]
    },
    {
      "cell_type": "code",
      "source": [
        "len(bp_data)"
      ],
      "metadata": {
        "colab": {
          "base_uri": "https://localhost:8080/"
        },
        "id": "NqPgjDodN9xS",
        "outputId": "10f2c7d5-02a0-4ee6-dd24-4742002624a8"
      },
      "execution_count": null,
      "outputs": [
        {
          "output_type": "execute_result",
          "data": {
            "text/plain": [
              "34"
            ]
          },
          "metadata": {},
          "execution_count": 7
        }
      ]
    },
    {
      "cell_type": "code",
      "source": [
        "bp_data"
      ],
      "metadata": {
        "collapsed": true,
        "colab": {
          "base_uri": "https://localhost:8080/"
        },
        "id": "RMJPGSGTOVse",
        "outputId": "b229eaff-c27b-46bb-9194-026cef91c667"
      },
      "execution_count": null,
      "outputs": [
        {
          "output_type": "execute_result",
          "data": {
            "text/plain": [
              "['Blood pressure is the pressure of blood pushing against the walls of your arteries. Arteries carry blood from your heart to other parts of your body. \\n',\n",
              " 'Your blood pressure normally rises and falls throughout the day. Blood pressure is measured using two numbers: \\n',\n",
              " 'The first number, called systolic blood pressure, measures the pressure in your arteries when your heart beats. The second number, called diastolic blood pressure, measures the pressure in your arteries when your heart rests between beats. \\n',\n",
              " 'If the measurement reads 120 systolic and 80 diastolic, you would say, “120 over 80,” or write, “120/80 mmHg.” A normal blood pressure level is less than 120/80 mmHg.1 \\n',\n",
              " '\\n',\n",
              " 'No matter your age, you can take steps each day to keep your blood pressure in a healthy range. High blood pressure, also called hypertension, is blood pressure that is higher than normal. \\n',\n",
              " 'Your blood pressure changes throughout the day based on your activities. Having blood pressure measures consistently above normal may result in a diagnosis of high blood pressure (or hypertension). \\n',\n",
              " 'The higher your blood pressure levels, the more risk you have for other health problems, such as heart disease, heart attack, and stroke. Your health care team can diagnose high blood pressure and make treatment decisions by reviewing your systolic and diastolic blood pressure levels and comparing them to levels found in certain guidelines.\\n',\n",
              " '\\n',\n",
              " 'The guidelines used to diagnose high blood pressure may differ from health care professional to health care professional: Some health care professionals diagnose patients with high blood pressure if their blood pressure is consistently 140/90 mm Hg or higher.\\n',\n",
              " 'Other health care professionals diagnose patients with high blood pressure if their blood pressure is consistently 130/80 mm Hg or higher.\\n',\n",
              " '\\n',\n",
              " 'If you are diagnosed with high blood pressure, talk with your health care team about your blood pressure levels and how these levels affect your treatment plan.\\n',\n",
              " 'High blood pressure usually has no warning signs or symptoms, and many people do not know they have it. Measuring your blood pressure is the only way to know whether you have high blood pressure. \\n',\n",
              " 'High blood pressure usually develops over time. It can happen because of unhealthy lifestyle choices, such as not getting enough regular physical activity. Certain health conditions, such as diabetes and having obesity, can also increase the risk for developing high blood pressure. \\n',\n",
              " 'High blood pressure can also happen during pregnancy.\\n',\n",
              " '\\n',\n",
              " 'You can manage your blood pressure to lower your risk for serious health problems that may affect your heart, brain, kidneys, and eyes. High blood pressure can damage your health in many ways. \\n',\n",
              " 'It can seriously hurt important organs like your heart, brain, kidneys, and eyes. The good news is that, in most cases, you can manage your blood pressure to lower your risk for serious health problems. \\n',\n",
              " 'High blood pressure can damage your arteries by making them less elastic, which decreases the flow of blood and oxygen to your heart and leads to heart disease. In addition, decreased blood flow to the heart can cause: Chest pain, also called angina. \\n',\n",
              " 'Heart attack, which happens when the blood supply to your heart is blocked and heart muscle begins to die without enough oxygen. The longer the blood flow is blocked, the greater the damage to the heart. \\n',\n",
              " 'Heart failure, a condition that means your heart can’t pump enough blood and oxygen to your other organs. High blood pressure can cause the arteries that supply blood and oxygen to the brain to burst or be blocked, causing a stroke. \\n',\n",
              " 'Brain cells die during a stroke because they do not get enough oxygen. Stroke can cause serious disabilities in speech, movement, and other basic activities. A stroke can also kill you. \\n',\n",
              " 'Having high blood pressure, especially in midlife, is linked to having poorer cognitive function and dementia later in life.  \\n',\n",
              " '\\n',\n",
              " 'Adults with diabetes, high blood pressure, or both have a higher risk of developing chronic kidney disease than those without these conditions. \\n',\n",
              " 'Cholesterol, Heart Disease, High Blood Pressure During Pregnancy, High Blood Pressure in Kids and Teens, Pulmonary Hypertension, Stroke\\n',\n",
              " '\\n',\n",
              " 'There’s only one way to know if you have high blood pressure: Have a doctor or other health professional measure it. \\n',\n",
              " 'Measuring your blood pressure is quick and painless. Talk with your health care team about regularly measuring your blood pressure at home, also called self-measured blood pressure (SMBP) monitoring. \\n',\n",
              " 'High blood pressure is called the “silent killer” because it usually has no warning signs or symptoms, and many people do not know they have it. \\n',\n",
              " 'Many people with high blood pressure can lower their blood pressure into a healthy range or keep their numbers in a healthy range by making lifestyle changes. Talk with your health care team about.\\n',\n",
              " 'Getting at least 150 minutes of physical activity each week (about 30 minutes a day, 5 days a week) Not smoking, Eating a healthy diet, including limiting sodium (salt) and alcohol, Keeping a healthy weight, Managing stress.\\n',\n",
              " 'In addition to making positive lifestyle changes, some people with high blood pressure need to take medicine to manage their blood pressure.']"
            ]
          },
          "metadata": {},
          "execution_count": 8
        }
      ]
    },
    {
      "cell_type": "code",
      "source": [
        "len(heart_data)"
      ],
      "metadata": {
        "colab": {
          "base_uri": "https://localhost:8080/"
        },
        "id": "TdHDbZMROXIm",
        "outputId": "0bf56887-3270-4f59-f050-c60d11c9b889"
      },
      "execution_count": null,
      "outputs": [
        {
          "output_type": "execute_result",
          "data": {
            "text/plain": [
              "42"
            ]
          },
          "metadata": {},
          "execution_count": 9
        }
      ]
    },
    {
      "cell_type": "code",
      "source": [
        "heart_data"
      ],
      "metadata": {
        "colab": {
          "base_uri": "https://localhost:8080/"
        },
        "collapsed": true,
        "id": "bRFUODRYOZjC",
        "outputId": "2f6a9bd6-1bda-411c-b4d5-5e329be4fc8c"
      },
      "execution_count": null,
      "outputs": [
        {
          "output_type": "execute_result",
          "data": {
            "text/plain": [
              "['An estimated 17.9 million people died from CVDs in 2019, representing 32% of all global deaths. Of these deaths, 85% were due to heart attack and stroke. \\n',\n",
              " 'Over three quarters of CVD deaths take place in low- and middle-income countries. Out of the 17 million premature deaths (under the age of 70) due to noncommunicable diseases in 2019, 38% were caused by CVDs.\\n',\n",
              " '\\n',\n",
              " 'Most cardiovascular diseases can be prevented by addressing behavioural risk factors such as tobacco use, unhealthy diet and obesity, physical inactivity and harmful use of alcohol. \\n',\n",
              " 'It is important to detect cardiovascular disease as early as possible so that management with counselling and medicines can begin. Cardiovascular diseases (CVDs) are a group of disorders of the heart and blood vessels. \\n',\n",
              " 'They include: coronary heart disease – a disease of the blood vessels supplying the heart muscle; cerebrovascular disease – a disease of the blood vessels supplying the brain; peripheral arterial disease – a disease of blood vessels supplying the arms and legs; rheumatic heart disease – damage to the heart muscle and heart valves from rheumatic fever, caused by streptococcal bacteria; congenital heart disease – birth defects that affect the normal development and functioning of the heart caused by malformations of the heart structure from birth; and deep vein thrombosis and pulmonary embolism – blood clots in the leg veins, which can dislodge and move to the heart and lungs.\\n',\n",
              " '\\n',\n",
              " 'Heart attacks and strokes are usually acute events and are mainly caused by a blockage that prevents blood from flowing to the heart or brain. \\n',\n",
              " 'The most common reason for this is a build-up of fatty deposits on the inner walls of the blood vessels that supply the heart or brain. \\n',\n",
              " 'Strokes can be caused by bleeding from a blood vessel in the brain or from blood clots.\\n',\n",
              " '\\n',\n",
              " 'The most important behavioural risk factors of heart disease and stroke are unhealthy diet, physical inactivity, tobacco use and harmful use of alcohol. \\n',\n",
              " 'The effects of behavioural risk factors may show up in individuals as raised blood pressure, raised blood glucose, raised blood lipids, and overweight and obesity. \\n',\n",
              " 'These “intermediate risks factors” can be measured in primary care facilities and indicate an increased risk of heart attack, stroke, heart failure and other complications.\\n',\n",
              " 'Cessation of tobacco use, reduction of salt in the diet, eating more fruit and vegetables, regular physical activity and avoiding harmful use of alcohol have been shown to reduce the risk of cardiovascular disease. \\n',\n",
              " 'Health policies that create conducive environments for making healthy choices affordable and available are essential for motivating people to adopt and sustain healthy behaviours.\\n',\n",
              " '\\n',\n",
              " 'There are also a number of underlying determinants of CVDs. These are a reflection of the major forces driving social, economic and cultural change – globalization, urbanization and population ageing. \\n',\n",
              " 'Other determinants of CVDs include poverty, stress and hereditary factors. In addition, drug treatment of hypertension, diabetes and high blood lipids are necessary to reduce cardiovascular risk and prevent heart attacks and strokes among people with these conditions. \\n',\n",
              " '\\n',\n",
              " 'Often, there are no symptoms of the underlying disease of the blood vessels. A heart attack or stroke may be the first sign of underlying disease. \\n',\n",
              " 'Symptoms of a heart attack include: pain or discomfort in the centre of the chest; and/or pain or discomfort in the arms, the left shoulder, elbows, jaw, or back.\\n',\n",
              " 'In addition the person may experience difficulty in breathing or shortness of breath; nausea or vomiting; light-headedness or faintness; a cold sweat; and turning pale. \\n',\n",
              " 'Women are more likely than men to have shortness of breath, nausea, vomiting, and back or jaw pain.\\n',\n",
              " '\\n',\n",
              " 'The most common symptom of a stroke is sudden weakness of the face, arm, or leg, most often on one side of the body. \\n',\n",
              " 'Other symptoms include sudden onset of: numbness of the face, arm, or leg, especially on one side of the body; confusion, difficulty speaking or understanding speech; difficulty seeing with one or both eyes; difficulty walking, dizziness and/or loss of balance or coordination; severe headache with no known cause; and/or fainting or unconsciousness. \\n',\n",
              " 'People experiencing these symptoms should seek medical care immediately. \\n',\n",
              " 'Rheumatic heart disease is caused by damage to the heart valves and heart muscle from the inflammation and scarring caused by rheumatic fever. \\n',\n",
              " 'Rheumatic fever is caused by an abnormal response of the body to infection with streptococcal bacteria, which usually begins as a sore throat or tonsillitis in children.\\n',\n",
              " 'Rheumatic fever mostly affects children in developing countries, especially where poverty is widespread. \\n',\n",
              " '\\n',\n",
              " 'Globally, about 2% of deaths from cardiovascular diseases are related to rheumatic heart disease. \\n',\n",
              " 'Symptoms of rheumatic heart disease include: shortness of breath, fatigue, irregular heartbeats, chest pain and fainting. \\n',\n",
              " 'Symptoms of rheumatic fever include: fever, pain and swelling of the joints, nausea, stomach cramps and vomiting.\\n',\n",
              " '\\n',\n",
              " 'Patients with cardiovascular disease should have access to appropriate technology and medication. \\n',\n",
              " 'Basic medicines that should be available include: aspirin; beta-blockers; angiotensin-converting enzyme inhibitors; and statins.\\n',\n",
              " 'An acute event such as a heart attack or stroke should be promptly managed.  \\n',\n",
              " 'Sometimes, surgical operations are required to treat CVDs. \\n',\n",
              " 'They include: coronary artery bypass; balloon angioplasty (where a small balloon-like device is threaded through an artery to open the blockage); valve repair and replacement; heart transplantation; and artificial heart operations. \\n',\n",
              " 'Medical devices are required to treat some CVDs. Such devices include pacemakers, prosthetic valves, and patches for closing holes in the heart.']"
            ]
          },
          "metadata": {},
          "execution_count": 10
        }
      ]
    },
    {
      "cell_type": "markdown",
      "source": [
        "### Cleaning the Data"
      ],
      "metadata": {
        "id": "CeyKHEO9Oyt0"
      }
    },
    {
      "cell_type": "code",
      "source": [
        "import string\n",
        "import nltk\n",
        "from nltk.tokenize import sent_tokenize\n",
        "\n",
        "def clean_text(txt):\n",
        "    # Remove punctuation\n",
        "    txt = \"\".join(t for t in txt if t not in string.punctuation)\n",
        "\n",
        "    # Remove newline characters\n",
        "    txt = txt.replace(\"\\n\", \" \")\n",
        "\n",
        "    # Convert to lowercase\n",
        "    txt = txt.lower()\n",
        "\n",
        "    # Remove non-ASCII characters\n",
        "    txt = txt.encode(\"utf8\").decode(\"ascii\", \"ignore\")\n",
        "\n",
        "    return txt\n",
        "\n",
        "def preprocess_paragraph(paragraph):\n",
        "    sentences = sent_tokenize(paragraph)  # Split paragraph into sentences\n",
        "    cleaned_sentences = [clean_text(sentence) for sentence in sentences]  # Clean each sentence\n",
        "    return cleaned_sentences\n",
        "\n",
        "def preprocess_corpus(corpus):\n",
        "    preprocessed_sentences = [preprocess_paragraph(paragraph) for paragraph in corpus]\n",
        "    flattened_sentences = [sentence for paragraph in preprocessed_sentences for sentence in paragraph]\n",
        "    return flattened_sentences\n",
        "\n",
        "diabetes_corpus = preprocess_corpus(diabetes_data)\n",
        "heart_corpus = preprocess_corpus(heart_data)\n",
        "bp_corpus = preprocess_corpus(bp_data)"
      ],
      "metadata": {
        "id": "D1UJdf7DOybD"
      },
      "execution_count": null,
      "outputs": []
    },
    {
      "cell_type": "code",
      "source": [
        "diabetes_corpus[1]"
      ],
      "metadata": {
        "colab": {
          "base_uri": "https://localhost:8080/",
          "height": 35
        },
        "id": "KO7FssX6RXry",
        "outputId": "0f01cab4-0ffd-474f-fc0a-cbdad6377dc5"
      },
      "execution_count": null,
      "outputs": [
        {
          "output_type": "execute_result",
          "data": {
            "text/plain": [
              "'there are several forms of diabetes'"
            ],
            "application/vnd.google.colaboratory.intrinsic+json": {
              "type": "string"
            }
          },
          "metadata": {},
          "execution_count": 12
        }
      ]
    },
    {
      "cell_type": "code",
      "source": [
        "len(diabetes_corpus[1])"
      ],
      "metadata": {
        "colab": {
          "base_uri": "https://localhost:8080/"
        },
        "id": "dfNNoI-fSLwT",
        "outputId": "8ed0992b-7834-459c-fa8e-027de597dd89"
      },
      "execution_count": null,
      "outputs": [
        {
          "output_type": "execute_result",
          "data": {
            "text/plain": [
              "35"
            ]
          },
          "metadata": {},
          "execution_count": 13
        }
      ]
    },
    {
      "cell_type": "code",
      "source": [
        "diabetes_corpus[:10]"
      ],
      "metadata": {
        "colab": {
          "base_uri": "https://localhost:8080/"
        },
        "id": "pcGmZY7vvabc",
        "outputId": "fde8b99e-7aa5-46f4-cc20-c68483fbc30b"
      },
      "execution_count": null,
      "outputs": [
        {
          "output_type": "execute_result",
          "data": {
            "text/plain": [
              "['diabetes is a common condition that affects people of all ages',\n",
              " 'there are several forms of diabetes',\n",
              " 'type 2 is the most common',\n",
              " 'a combination of treatment strategies can help you manage the condition to live a healthy life and prevent complications',\n",
              " 'diabetes is a condition that happens when your blood sugar glucose is too high',\n",
              " 'it develops when your pancreas doesnt make enough insulin or any at all or when your body isnt responding to the effects of insulin properly',\n",
              " 'diabetes affects people of all ages',\n",
              " 'most forms of diabetes are chronic lifelong and all forms are manageable with medications andor lifestyle changes',\n",
              " 'glucose sugar mainly comes from carbohydrates in your food and drinks',\n",
              " 'its your bodys goto source of energy']"
            ]
          },
          "metadata": {},
          "execution_count": 14
        }
      ]
    },
    {
      "cell_type": "code",
      "source": [
        "len(diabetes_corpus)"
      ],
      "metadata": {
        "colab": {
          "base_uri": "https://localhost:8080/"
        },
        "id": "w6i0bvdFZ1l_",
        "outputId": "40d0ba53-2a72-49e4-c7ef-df28b8321915"
      },
      "execution_count": null,
      "outputs": [
        {
          "output_type": "execute_result",
          "data": {
            "text/plain": [
              "154"
            ]
          },
          "metadata": {},
          "execution_count": 15
        }
      ]
    },
    {
      "cell_type": "markdown",
      "source": [
        "### Generating n-gram sequence for LSTM training"
      ],
      "metadata": {
        "id": "mb614jczOiRz"
      }
    },
    {
      "cell_type": "code",
      "source": [
        "tokenizer = Tokenizer()\n",
        "def get_sequence_of_tokens(corpus):\n",
        "    # tokenization\n",
        "    tokenizer.fit_on_texts(corpus)\n",
        "    total_words = len(tokenizer.word_index) + 1\n",
        "\n",
        "    # convert data to a token sequence\n",
        "    input_sequences = []\n",
        "    for line in corpus:\n",
        "        token_list = tokenizer.texts_to_sequences([line])[0]\n",
        "        for i in range(1, len(token_list)):\n",
        "            n_gram_sequence = token_list[:i+1]\n",
        "            input_sequences.append(n_gram_sequence)\n",
        "    return input_sequences, total_words\n",
        "\n",
        "diabetes_sequences, total_words = get_sequence_of_tokens(diabetes_corpus)\n",
        "heart_sequences, total_words = get_sequence_of_tokens(heart_corpus)\n",
        "bp_sequences, total_words = get_sequence_of_tokens(bp_corpus)"
      ],
      "metadata": {
        "id": "2VnwypqEOage"
      },
      "execution_count": null,
      "outputs": []
    },
    {
      "cell_type": "code",
      "source": [
        "diabetes_sequences[:20]"
      ],
      "metadata": {
        "colab": {
          "base_uri": "https://localhost:8080/"
        },
        "id": "Q7Jmpgw4Rzmn",
        "outputId": "0c971b4f-7971-497b-fb09-6d5cd2486c8b"
      },
      "execution_count": null,
      "outputs": [
        {
          "output_type": "execute_result",
          "data": {
            "text/plain": [
              "[[1, 12],\n",
              " [1, 12, 8],\n",
              " [1, 12, 8, 52],\n",
              " [1, 12, 8, 52, 34],\n",
              " [1, 12, 8, 52, 34, 25],\n",
              " [1, 12, 8, 52, 34, 25, 35],\n",
              " [1, 12, 8, 52, 34, 25, 35, 21],\n",
              " [1, 12, 8, 52, 34, 25, 35, 21, 5],\n",
              " [1, 12, 8, 52, 34, 25, 35, 21, 5, 41],\n",
              " [1, 12, 8, 52, 34, 25, 35, 21, 5, 41, 189],\n",
              " [58, 17],\n",
              " [58, 17, 53],\n",
              " [58, 17, 53, 86],\n",
              " [58, 17, 53, 86, 5],\n",
              " [58, 17, 53, 86, 5, 1],\n",
              " [9, 26],\n",
              " [9, 26, 12],\n",
              " [9, 26, 12, 6],\n",
              " [9, 26, 12, 6, 59],\n",
              " [9, 26, 12, 6, 59, 52]]"
            ]
          },
          "metadata": {},
          "execution_count": 17
        }
      ]
    },
    {
      "cell_type": "markdown",
      "source": [
        "### Padding the sequences"
      ],
      "metadata": {
        "id": "Uyt8HWqUS1IF"
      }
    },
    {
      "cell_type": "code",
      "source": [
        "def generate_padded_sequences(input_sequences):\n",
        "    max_sequence_len = max([len(x) for x in input_sequences])\n",
        "    input_sequences = np.array(pad_sequences(input_sequences, maxlen=max_sequence_len, padding='pre'))\n",
        "\n",
        "    predictors, label = input_sequences[:,:-1],input_sequences[:,-1]\n",
        "    label = ku.to_categorical(label, num_classes=total_words)\n",
        "    return predictors, label, max_sequence_len\n",
        "\n",
        "diabetes_predictors, diabetes_label, diabetes_max_sequence_len = generate_padded_sequences(diabetes_sequences)\n",
        "heart_predictors, heart_label, heart_max_sequence_len = generate_padded_sequences(heart_sequences)\n",
        "bp_predictors, bp_label, bp_max_sequence_len = generate_padded_sequences(bp_sequences)"
      ],
      "metadata": {
        "id": "GqPNEblzSibG"
      },
      "execution_count": null,
      "outputs": []
    },
    {
      "cell_type": "code",
      "source": [
        "from keras.models import Sequential\n",
        "from keras.layers import Embedding, LSTM, Dropout, Dense\n",
        "from keras.metrics import Accuracy\n",
        "\n",
        "def create_model(max_sequence_len, total_words):\n",
        "    input_len = max_sequence_len - 1\n",
        "    model = Sequential()\n",
        "    # ----------Add Input Embedding Layer\n",
        "    model.add(Embedding(total_words, 100, input_length=input_len))\n",
        "    # ----------Add Hidden Layer 1 - LSTM Layer\n",
        "    model.add(LSTM(100))\n",
        "    model.add(Dropout(0.1))\n",
        "    # ----------Add Output Layer\n",
        "    model.add(Dense(total_words, activation='softmax'))\n",
        "    model.compile(loss='categorical_crossentropy', optimizer='adam', metrics=[Accuracy()])\n",
        "    return model"
      ],
      "metadata": {
        "id": "FGqHDoFLdHFE"
      },
      "execution_count": null,
      "outputs": []
    },
    {
      "cell_type": "markdown",
      "source": [
        "### Training Diabetes Model"
      ],
      "metadata": {
        "id": "bXO6VjN1dKlq"
      }
    },
    {
      "cell_type": "code",
      "source": [
        "diabetes_model = create_model(diabetes_max_sequence_len, total_words)\n",
        "diabetes_model.summary()"
      ],
      "metadata": {
        "colab": {
          "base_uri": "https://localhost:8080/"
        },
        "id": "Of6EWdiUTEc5",
        "outputId": "e37290c6-0d4e-4aa4-919b-7d96d9c0494b"
      },
      "execution_count": null,
      "outputs": [
        {
          "output_type": "stream",
          "name": "stdout",
          "text": [
            "Model: \"sequential\"\n",
            "_________________________________________________________________\n",
            " Layer (type)                Output Shape              Param #   \n",
            "=================================================================\n",
            " embedding (Embedding)       (None, 60, 100)           99100     \n",
            "                                                                 \n",
            " lstm (LSTM)                 (None, 100)               80400     \n",
            "                                                                 \n",
            " dropout (Dropout)           (None, 100)               0         \n",
            "                                                                 \n",
            " dense (Dense)               (None, 991)               100091    \n",
            "                                                                 \n",
            "=================================================================\n",
            "Total params: 279591 (1.07 MB)\n",
            "Trainable params: 279591 (1.07 MB)\n",
            "Non-trainable params: 0 (0.00 Byte)\n",
            "_________________________________________________________________\n"
          ]
        }
      ]
    },
    {
      "cell_type": "code",
      "source": [
        "# Train the model\n",
        "history = diabetes_model.fit(diabetes_predictors, diabetes_label, epochs=100, verbose=1)"
      ],
      "metadata": {
        "colab": {
          "base_uri": "https://localhost:8080/"
        },
        "id": "hBZ3veucTVfZ",
        "outputId": "727c83dd-c111-4f21-9806-a03e9adef157",
        "collapsed": true
      },
      "execution_count": null,
      "outputs": [
        {
          "output_type": "stream",
          "name": "stdout",
          "text": [
            "Epoch 1/100\n",
            "69/69 [==============================] - 8s 67ms/step - loss: 6.2971 - accuracy: 0.0000e+00\n",
            "Epoch 2/100\n",
            "69/69 [==============================] - 4s 54ms/step - loss: 5.7770 - accuracy: 0.0000e+00\n",
            "Epoch 3/100\n",
            "69/69 [==============================] - 5s 66ms/step - loss: 5.6669 - accuracy: 0.0000e+00\n",
            "Epoch 4/100\n",
            "69/69 [==============================] - 8s 117ms/step - loss: 5.5560 - accuracy: 0.0000e+00\n",
            "Epoch 5/100\n",
            "69/69 [==============================] - 7s 98ms/step - loss: 5.4716 - accuracy: 0.0000e+00\n",
            "Epoch 6/100\n",
            "69/69 [==============================] - 6s 84ms/step - loss: 5.3922 - accuracy: 0.0000e+00\n",
            "Epoch 7/100\n",
            "69/69 [==============================] - 4s 54ms/step - loss: 5.3125 - accuracy: 0.0000e+00\n",
            "Epoch 8/100\n",
            "69/69 [==============================] - 5s 74ms/step - loss: 5.2287 - accuracy: 0.0000e+00\n",
            "Epoch 9/100\n",
            "69/69 [==============================] - 5s 77ms/step - loss: 5.1395 - accuracy: 0.0000e+00\n",
            "Epoch 10/100\n",
            "69/69 [==============================] - 5s 66ms/step - loss: 5.0353 - accuracy: 0.0000e+00\n",
            "Epoch 11/100\n",
            "69/69 [==============================] - 5s 67ms/step - loss: 4.9269 - accuracy: 0.0000e+00\n",
            "Epoch 12/100\n",
            "69/69 [==============================] - 5s 69ms/step - loss: 4.8123 - accuracy: 0.0000e+00\n",
            "Epoch 13/100\n",
            "69/69 [==============================] - 5s 77ms/step - loss: 4.6970 - accuracy: 0.0000e+00\n",
            "Epoch 14/100\n",
            "69/69 [==============================] - 6s 81ms/step - loss: 4.5783 - accuracy: 0.0000e+00\n",
            "Epoch 15/100\n",
            "69/69 [==============================] - 5s 76ms/step - loss: 4.4448 - accuracy: 0.0000e+00\n",
            "Epoch 16/100\n",
            "69/69 [==============================] - 9s 129ms/step - loss: 4.3193 - accuracy: 0.0000e+00\n",
            "Epoch 17/100\n",
            "69/69 [==============================] - 8s 110ms/step - loss: 4.1932 - accuracy: 0.0000e+00\n",
            "Epoch 18/100\n",
            "69/69 [==============================] - 5s 78ms/step - loss: 4.0573 - accuracy: 0.0000e+00\n",
            "Epoch 19/100\n",
            "69/69 [==============================] - 4s 54ms/step - loss: 3.9378 - accuracy: 0.0000e+00\n",
            "Epoch 20/100\n",
            "69/69 [==============================] - 5s 71ms/step - loss: 3.8177 - accuracy: 0.0000e+00\n",
            "Epoch 21/100\n",
            "69/69 [==============================] - 4s 57ms/step - loss: 3.6953 - accuracy: 0.0000e+00\n",
            "Epoch 22/100\n",
            "69/69 [==============================] - 4s 54ms/step - loss: 3.5865 - accuracy: 0.0000e+00\n",
            "Epoch 23/100\n",
            "69/69 [==============================] - 5s 68ms/step - loss: 3.4580 - accuracy: 0.0000e+00\n",
            "Epoch 24/100\n",
            "69/69 [==============================] - 6s 82ms/step - loss: 3.3428 - accuracy: 0.0000e+00\n",
            "Epoch 25/100\n",
            "69/69 [==============================] - 6s 92ms/step - loss: 3.2426 - accuracy: 0.0000e+00\n",
            "Epoch 26/100\n",
            "69/69 [==============================] - 6s 89ms/step - loss: 3.1224 - accuracy: 0.0000e+00\n",
            "Epoch 27/100\n",
            "69/69 [==============================] - 4s 64ms/step - loss: 3.0180 - accuracy: 0.0000e+00\n",
            "Epoch 28/100\n",
            "69/69 [==============================] - 5s 66ms/step - loss: 2.9110 - accuracy: 0.0000e+00\n",
            "Epoch 29/100\n",
            "69/69 [==============================] - 4s 56ms/step - loss: 2.8122 - accuracy: 0.0000e+00\n",
            "Epoch 30/100\n",
            "69/69 [==============================] - 6s 93ms/step - loss: 2.7143 - accuracy: 0.0000e+00\n",
            "Epoch 31/100\n",
            "69/69 [==============================] - 7s 97ms/step - loss: 2.6065 - accuracy: 0.0000e+00\n",
            "Epoch 32/100\n",
            "69/69 [==============================] - 6s 85ms/step - loss: 2.5170 - accuracy: 0.0000e+00\n",
            "Epoch 33/100\n",
            "69/69 [==============================] - 4s 56ms/step - loss: 2.4305 - accuracy: 0.0000e+00\n",
            "Epoch 34/100\n",
            "69/69 [==============================] - 5s 67ms/step - loss: 2.3284 - accuracy: 0.0000e+00\n",
            "Epoch 35/100\n",
            "69/69 [==============================] - 7s 97ms/step - loss: 2.2517 - accuracy: 0.0000e+00\n",
            "Epoch 36/100\n",
            "69/69 [==============================] - 7s 109ms/step - loss: 2.1557 - accuracy: 0.0000e+00\n",
            "Epoch 37/100\n",
            "69/69 [==============================] - 11s 165ms/step - loss: 2.0655 - accuracy: 0.0000e+00\n",
            "Epoch 38/100\n",
            "69/69 [==============================] - 8s 121ms/step - loss: 1.9870 - accuracy: 0.0000e+00\n",
            "Epoch 39/100\n",
            "69/69 [==============================] - 6s 83ms/step - loss: 1.9126 - accuracy: 0.0000e+00\n",
            "Epoch 40/100\n",
            "69/69 [==============================] - 6s 91ms/step - loss: 1.8343 - accuracy: 0.0000e+00\n",
            "Epoch 41/100\n",
            "69/69 [==============================] - 6s 80ms/step - loss: 1.7724 - accuracy: 0.0000e+00\n",
            "Epoch 42/100\n",
            "69/69 [==============================] - 6s 93ms/step - loss: 1.6882 - accuracy: 0.0000e+00\n",
            "Epoch 43/100\n",
            "69/69 [==============================] - 4s 58ms/step - loss: 1.6324 - accuracy: 0.0000e+00\n",
            "Epoch 44/100\n",
            "69/69 [==============================] - 4s 58ms/step - loss: 1.5583 - accuracy: 0.0000e+00\n",
            "Epoch 45/100\n",
            "69/69 [==============================] - 5s 67ms/step - loss: 1.5093 - accuracy: 0.0000e+00\n",
            "Epoch 46/100\n",
            "69/69 [==============================] - 4s 54ms/step - loss: 1.4400 - accuracy: 0.0000e+00\n",
            "Epoch 47/100\n",
            "69/69 [==============================] - 4s 54ms/step - loss: 1.3983 - accuracy: 0.0000e+00\n",
            "Epoch 48/100\n",
            "69/69 [==============================] - 5s 67ms/step - loss: 1.3333 - accuracy: 0.0000e+00\n",
            "Epoch 49/100\n",
            "69/69 [==============================] - 4s 54ms/step - loss: 1.2844 - accuracy: 0.0000e+00\n",
            "Epoch 50/100\n",
            "69/69 [==============================] - 4s 53ms/step - loss: 1.2331 - accuracy: 0.0000e+00\n",
            "Epoch 51/100\n",
            "69/69 [==============================] - 5s 73ms/step - loss: 1.1844 - accuracy: 0.0000e+00\n",
            "Epoch 52/100\n",
            "69/69 [==============================] - 5s 76ms/step - loss: 1.1514 - accuracy: 0.0000e+00\n",
            "Epoch 53/100\n",
            "69/69 [==============================] - 4s 54ms/step - loss: 1.1045 - accuracy: 0.0000e+00\n",
            "Epoch 54/100\n",
            "69/69 [==============================] - 5s 76ms/step - loss: 1.0640 - accuracy: 0.0000e+00\n",
            "Epoch 55/100\n",
            "69/69 [==============================] - 4s 61ms/step - loss: 1.0279 - accuracy: 0.0000e+00\n",
            "Epoch 56/100\n",
            "69/69 [==============================] - 5s 68ms/step - loss: 0.9901 - accuracy: 0.0000e+00\n",
            "Epoch 57/100\n",
            "69/69 [==============================] - 6s 81ms/step - loss: 0.9518 - accuracy: 0.0000e+00\n",
            "Epoch 58/100\n",
            "69/69 [==============================] - 5s 67ms/step - loss: 0.9160 - accuracy: 0.0000e+00\n",
            "Epoch 59/100\n",
            "69/69 [==============================] - 6s 85ms/step - loss: 0.8875 - accuracy: 0.0000e+00\n",
            "Epoch 60/100\n",
            "69/69 [==============================] - 4s 54ms/step - loss: 0.8594 - accuracy: 0.0000e+00\n",
            "Epoch 61/100\n",
            "69/69 [==============================] - 4s 63ms/step - loss: 0.8242 - accuracy: 0.0000e+00\n",
            "Epoch 62/100\n",
            "69/69 [==============================] - 5s 68ms/step - loss: 0.8026 - accuracy: 0.0000e+00\n",
            "Epoch 63/100\n",
            "69/69 [==============================] - 4s 55ms/step - loss: 0.7830 - accuracy: 0.0000e+00\n",
            "Epoch 64/100\n",
            "69/69 [==============================] - 5s 67ms/step - loss: 0.7577 - accuracy: 0.0000e+00\n",
            "Epoch 65/100\n",
            "69/69 [==============================] - 8s 115ms/step - loss: 0.7302 - accuracy: 0.0000e+00\n",
            "Epoch 66/100\n",
            "69/69 [==============================] - 8s 112ms/step - loss: 0.7115 - accuracy: 0.0000e+00\n",
            "Epoch 67/100\n",
            "69/69 [==============================] - 6s 81ms/step - loss: 0.6820 - accuracy: 0.0000e+00\n",
            "Epoch 68/100\n",
            "69/69 [==============================] - 5s 71ms/step - loss: 0.6710 - accuracy: 0.0000e+00\n",
            "Epoch 69/100\n",
            "69/69 [==============================] - 5s 69ms/step - loss: 0.6441 - accuracy: 0.0000e+00\n",
            "Epoch 70/100\n",
            "69/69 [==============================] - 4s 55ms/step - loss: 0.6205 - accuracy: 0.0000e+00\n",
            "Epoch 71/100\n",
            "69/69 [==============================] - 4s 55ms/step - loss: 0.6113 - accuracy: 0.0000e+00\n",
            "Epoch 72/100\n",
            "69/69 [==============================] - 5s 69ms/step - loss: 0.5896 - accuracy: 0.0000e+00\n",
            "Epoch 73/100\n",
            "69/69 [==============================] - 4s 55ms/step - loss: 0.5669 - accuracy: 0.0000e+00\n",
            "Epoch 74/100\n",
            "69/69 [==============================] - 4s 56ms/step - loss: 0.5527 - accuracy: 0.0000e+00\n",
            "Epoch 75/100\n",
            "69/69 [==============================] - 6s 83ms/step - loss: 0.5265 - accuracy: 0.0000e+00\n",
            "Epoch 76/100\n",
            "69/69 [==============================] - 5s 73ms/step - loss: 0.5208 - accuracy: 0.0000e+00\n",
            "Epoch 77/100\n",
            "69/69 [==============================] - 6s 88ms/step - loss: 0.5172 - accuracy: 0.0000e+00\n",
            "Epoch 78/100\n",
            "69/69 [==============================] - 4s 64ms/step - loss: 0.4876 - accuracy: 0.0000e+00\n",
            "Epoch 79/100\n",
            "69/69 [==============================] - 4s 54ms/step - loss: 0.4801 - accuracy: 0.0000e+00\n",
            "Epoch 80/100\n",
            "69/69 [==============================] - 5s 68ms/step - loss: 0.4717 - accuracy: 0.0000e+00\n",
            "Epoch 81/100\n",
            "69/69 [==============================] - 4s 54ms/step - loss: 0.4429 - accuracy: 0.0000e+00\n",
            "Epoch 82/100\n",
            "69/69 [==============================] - 4s 56ms/step - loss: 0.4388 - accuracy: 0.0000e+00\n",
            "Epoch 83/100\n",
            "69/69 [==============================] - 5s 70ms/step - loss: 0.4211 - accuracy: 0.0000e+00\n",
            "Epoch 84/100\n",
            "69/69 [==============================] - 4s 54ms/step - loss: 0.4239 - accuracy: 0.0000e+00\n",
            "Epoch 85/100\n",
            "69/69 [==============================] - 4s 55ms/step - loss: 0.4074 - accuracy: 0.0000e+00\n",
            "Epoch 86/100\n",
            "69/69 [==============================] - 5s 77ms/step - loss: 0.3990 - accuracy: 0.0000e+00\n",
            "Epoch 87/100\n",
            "69/69 [==============================] - 8s 111ms/step - loss: 0.3808 - accuracy: 0.0000e+00\n",
            "Epoch 88/100\n",
            "69/69 [==============================] - 6s 81ms/step - loss: 0.3766 - accuracy: 0.0000e+00\n",
            "Epoch 89/100\n",
            "69/69 [==============================] - 4s 64ms/step - loss: 0.3731 - accuracy: 0.0000e+00\n",
            "Epoch 90/100\n",
            "69/69 [==============================] - 6s 81ms/step - loss: 0.3585 - accuracy: 0.0000e+00\n",
            "Epoch 91/100\n",
            "69/69 [==============================] - 5s 79ms/step - loss: 0.3466 - accuracy: 0.0000e+00\n",
            "Epoch 92/100\n",
            "69/69 [==============================] - 5s 71ms/step - loss: 0.3486 - accuracy: 0.0000e+00\n",
            "Epoch 93/100\n",
            "69/69 [==============================] - 6s 81ms/step - loss: 0.3402 - accuracy: 0.0000e+00\n",
            "Epoch 94/100\n",
            "69/69 [==============================] - 5s 73ms/step - loss: 0.3176 - accuracy: 0.0000e+00\n",
            "Epoch 95/100\n",
            "69/69 [==============================] - 8s 111ms/step - loss: 0.3210 - accuracy: 0.0000e+00\n",
            "Epoch 96/100\n",
            "69/69 [==============================] - 4s 57ms/step - loss: 0.3087 - accuracy: 0.0000e+00\n",
            "Epoch 97/100\n",
            "69/69 [==============================] - 7s 98ms/step - loss: 0.3103 - accuracy: 0.0000e+00\n",
            "Epoch 98/100\n",
            "69/69 [==============================] - 6s 87ms/step - loss: 0.2991 - accuracy: 0.0000e+00\n",
            "Epoch 99/100\n",
            "69/69 [==============================] - 7s 95ms/step - loss: 0.2934 - accuracy: 0.0000e+00\n",
            "Epoch 100/100\n",
            "69/69 [==============================] - 5s 77ms/step - loss: 0.2815 - accuracy: 0.0000e+00\n"
          ]
        }
      ]
    },
    {
      "cell_type": "markdown",
      "source": [
        "### Training Heart Model"
      ],
      "metadata": {
        "id": "k6G7ctT_c6La"
      }
    },
    {
      "cell_type": "code",
      "source": [
        "heart_model = create_model(heart_max_sequence_len, total_words)\n",
        "heart_model.summary()"
      ],
      "metadata": {
        "colab": {
          "base_uri": "https://localhost:8080/"
        },
        "id": "z5EUf-TTchFp",
        "outputId": "08811861-632e-42e0-d729-aeac0bed130e"
      },
      "execution_count": null,
      "outputs": [
        {
          "output_type": "stream",
          "name": "stdout",
          "text": [
            "Model: \"sequential_1\"\n",
            "_________________________________________________________________\n",
            " Layer (type)                Output Shape              Param #   \n",
            "=================================================================\n",
            " embedding_1 (Embedding)     (None, 103, 100)          99100     \n",
            "                                                                 \n",
            " lstm_1 (LSTM)               (None, 100)               80400     \n",
            "                                                                 \n",
            " dropout_1 (Dropout)         (None, 100)               0         \n",
            "                                                                 \n",
            " dense_1 (Dense)             (None, 991)               100091    \n",
            "                                                                 \n",
            "=================================================================\n",
            "Total params: 279591 (1.07 MB)\n",
            "Trainable params: 279591 (1.07 MB)\n",
            "Non-trainable params: 0 (0.00 Byte)\n",
            "_________________________________________________________________\n"
          ]
        }
      ]
    },
    {
      "cell_type": "code",
      "source": [
        "# Train the model\n",
        "history = heart_model.fit(heart_predictors, heart_label, epochs=100, verbose=1)"
      ],
      "metadata": {
        "colab": {
          "base_uri": "https://localhost:8080/"
        },
        "collapsed": true,
        "id": "A8rE4chRcoYU",
        "outputId": "8109c5aa-b1c5-461f-ce30-44eb2bf87429"
      },
      "execution_count": null,
      "outputs": [
        {
          "output_type": "stream",
          "name": "stdout",
          "text": [
            "Epoch 1/100\n",
            "27/27 [==============================] - 6s 86ms/step - loss: 6.7248 - accuracy: 0.0000e+00\n",
            "Epoch 2/100\n",
            "27/27 [==============================] - 2s 81ms/step - loss: 5.6311 - accuracy: 0.0000e+00\n",
            "Epoch 3/100\n",
            "27/27 [==============================] - 2s 81ms/step - loss: 5.3474 - accuracy: 0.0000e+00\n",
            "Epoch 4/100\n",
            "27/27 [==============================] - 2s 82ms/step - loss: 5.2733 - accuracy: 0.0000e+00\n",
            "Epoch 5/100\n",
            "27/27 [==============================] - 3s 102ms/step - loss: 5.2471 - accuracy: 0.0000e+00\n",
            "Epoch 6/100\n",
            "27/27 [==============================] - 3s 97ms/step - loss: 5.2219 - accuracy: 0.0000e+00\n",
            "Epoch 7/100\n",
            "27/27 [==============================] - 2s 82ms/step - loss: 5.1844 - accuracy: 0.0000e+00\n",
            "Epoch 8/100\n",
            "27/27 [==============================] - 2s 81ms/step - loss: 5.1408 - accuracy: 0.0000e+00\n",
            "Epoch 9/100\n",
            "27/27 [==============================] - 3s 104ms/step - loss: 5.0916 - accuracy: 0.0000e+00\n",
            "Epoch 10/100\n",
            "27/27 [==============================] - 3s 124ms/step - loss: 5.0183 - accuracy: 0.0000e+00\n",
            "Epoch 11/100\n",
            "27/27 [==============================] - 2s 84ms/step - loss: 4.9641 - accuracy: 0.0000e+00\n",
            "Epoch 12/100\n",
            "27/27 [==============================] - 2s 81ms/step - loss: 4.9102 - accuracy: 0.0000e+00\n",
            "Epoch 13/100\n",
            "27/27 [==============================] - 2s 82ms/step - loss: 4.8429 - accuracy: 0.0000e+00\n",
            "Epoch 14/100\n",
            "27/27 [==============================] - 2s 81ms/step - loss: 4.7809 - accuracy: 0.0000e+00\n",
            "Epoch 15/100\n",
            "27/27 [==============================] - 3s 99ms/step - loss: 4.7176 - accuracy: 0.0000e+00\n",
            "Epoch 16/100\n",
            "27/27 [==============================] - 3s 97ms/step - loss: 4.6637 - accuracy: 0.0000e+00\n",
            "Epoch 17/100\n",
            "27/27 [==============================] - 2s 80ms/step - loss: 4.5956 - accuracy: 0.0000e+00\n",
            "Epoch 18/100\n",
            "27/27 [==============================] - 2s 81ms/step - loss: 4.5318 - accuracy: 0.0000e+00\n",
            "Epoch 19/100\n",
            "27/27 [==============================] - 2s 82ms/step - loss: 4.4695 - accuracy: 0.0000e+00\n",
            "Epoch 20/100\n",
            "27/27 [==============================] - 2s 87ms/step - loss: 4.3996 - accuracy: 0.0000e+00\n",
            "Epoch 21/100\n",
            "27/27 [==============================] - 3s 109ms/step - loss: 4.3334 - accuracy: 0.0000e+00\n",
            "Epoch 22/100\n",
            "27/27 [==============================] - 2s 82ms/step - loss: 4.2686 - accuracy: 0.0000e+00\n",
            "Epoch 23/100\n",
            "27/27 [==============================] - 2s 82ms/step - loss: 4.1893 - accuracy: 0.0000e+00\n",
            "Epoch 24/100\n",
            "27/27 [==============================] - 2s 82ms/step - loss: 4.1209 - accuracy: 0.0000e+00\n",
            "Epoch 25/100\n",
            "27/27 [==============================] - 2s 82ms/step - loss: 4.0462 - accuracy: 0.0000e+00\n",
            "Epoch 26/100\n",
            "27/27 [==============================] - 3s 118ms/step - loss: 3.9688 - accuracy: 0.0000e+00\n",
            "Epoch 27/100\n",
            "27/27 [==============================] - 2s 81ms/step - loss: 3.8962 - accuracy: 0.0000e+00\n",
            "Epoch 28/100\n",
            "27/27 [==============================] - 2s 82ms/step - loss: 3.8259 - accuracy: 0.0000e+00\n",
            "Epoch 29/100\n",
            "27/27 [==============================] - 3s 112ms/step - loss: 3.7507 - accuracy: 0.0000e+00\n",
            "Epoch 30/100\n",
            "27/27 [==============================] - 2s 85ms/step - loss: 3.6713 - accuracy: 0.0000e+00\n",
            "Epoch 31/100\n",
            "27/27 [==============================] - 3s 111ms/step - loss: 3.5999 - accuracy: 0.0000e+00\n",
            "Epoch 32/100\n",
            "27/27 [==============================] - 2s 81ms/step - loss: 3.5315 - accuracy: 0.0000e+00\n",
            "Epoch 33/100\n",
            "27/27 [==============================] - 2s 82ms/step - loss: 3.4551 - accuracy: 0.0000e+00\n",
            "Epoch 34/100\n",
            "27/27 [==============================] - 2s 81ms/step - loss: 3.3840 - accuracy: 0.0000e+00\n",
            "Epoch 35/100\n",
            "27/27 [==============================] - 2s 82ms/step - loss: 3.3108 - accuracy: 0.0000e+00\n",
            "Epoch 36/100\n",
            "27/27 [==============================] - 3s 118ms/step - loss: 3.2414 - accuracy: 0.0000e+00\n",
            "Epoch 37/100\n",
            "27/27 [==============================] - 2s 82ms/step - loss: 3.1582 - accuracy: 0.0000e+00\n",
            "Epoch 38/100\n",
            "27/27 [==============================] - 2s 82ms/step - loss: 3.0967 - accuracy: 0.0000e+00\n",
            "Epoch 39/100\n",
            "27/27 [==============================] - 3s 110ms/step - loss: 3.0311 - accuracy: 0.0000e+00\n",
            "Epoch 40/100\n",
            "27/27 [==============================] - 2s 82ms/step - loss: 2.9543 - accuracy: 0.0000e+00\n",
            "Epoch 41/100\n",
            "27/27 [==============================] - 3s 116ms/step - loss: 2.8899 - accuracy: 0.0000e+00\n",
            "Epoch 42/100\n",
            "27/27 [==============================] - 2s 81ms/step - loss: 2.8302 - accuracy: 0.0000e+00\n",
            "Epoch 43/100\n",
            "27/27 [==============================] - 2s 81ms/step - loss: 2.7584 - accuracy: 0.0000e+00\n",
            "Epoch 44/100\n",
            "27/27 [==============================] - 2s 82ms/step - loss: 2.7008 - accuracy: 0.0000e+00\n",
            "Epoch 45/100\n",
            "27/27 [==============================] - 2s 81ms/step - loss: 2.6358 - accuracy: 0.0000e+00\n",
            "Epoch 46/100\n",
            "27/27 [==============================] - 3s 118ms/step - loss: 2.5749 - accuracy: 0.0000e+00\n",
            "Epoch 47/100\n",
            "27/27 [==============================] - 2s 82ms/step - loss: 2.5212 - accuracy: 0.0000e+00\n",
            "Epoch 48/100\n",
            "27/27 [==============================] - 2s 82ms/step - loss: 2.4533 - accuracy: 0.0000e+00\n",
            "Epoch 49/100\n",
            "27/27 [==============================] - 2s 82ms/step - loss: 2.4024 - accuracy: 0.0000e+00\n",
            "Epoch 50/100\n",
            "27/27 [==============================] - 2s 83ms/step - loss: 2.3320 - accuracy: 0.0000e+00\n",
            "Epoch 51/100\n",
            "27/27 [==============================] - 3s 113ms/step - loss: 2.2909 - accuracy: 0.0000e+00\n",
            "Epoch 52/100\n",
            "27/27 [==============================] - 2s 84ms/step - loss: 2.2284 - accuracy: 0.0000e+00\n",
            "Epoch 53/100\n",
            "27/27 [==============================] - 2s 83ms/step - loss: 2.1773 - accuracy: 0.0000e+00\n",
            "Epoch 54/100\n",
            "27/27 [==============================] - 2s 82ms/step - loss: 2.1212 - accuracy: 0.0000e+00\n",
            "Epoch 55/100\n",
            "27/27 [==============================] - 2s 81ms/step - loss: 2.0616 - accuracy: 0.0000e+00\n",
            "Epoch 56/100\n",
            "27/27 [==============================] - 3s 103ms/step - loss: 2.0182 - accuracy: 0.0000e+00\n",
            "Epoch 57/100\n",
            "27/27 [==============================] - 3s 95ms/step - loss: 1.9693 - accuracy: 0.0000e+00\n",
            "Epoch 58/100\n",
            "27/27 [==============================] - 2s 82ms/step - loss: 1.9185 - accuracy: 0.0000e+00\n",
            "Epoch 59/100\n",
            "27/27 [==============================] - 2s 81ms/step - loss: 1.8690 - accuracy: 0.0000e+00\n",
            "Epoch 60/100\n",
            "27/27 [==============================] - 2s 82ms/step - loss: 1.8216 - accuracy: 0.0000e+00\n",
            "Epoch 61/100\n",
            "27/27 [==============================] - 3s 94ms/step - loss: 1.7763 - accuracy: 0.0000e+00\n",
            "Epoch 62/100\n",
            "27/27 [==============================] - 3s 105ms/step - loss: 1.7252 - accuracy: 0.0000e+00\n",
            "Epoch 63/100\n",
            "27/27 [==============================] - 2s 81ms/step - loss: 1.6880 - accuracy: 0.0000e+00\n",
            "Epoch 64/100\n",
            "27/27 [==============================] - 2s 81ms/step - loss: 1.6552 - accuracy: 0.0000e+00\n",
            "Epoch 65/100\n",
            "27/27 [==============================] - 2s 82ms/step - loss: 1.6106 - accuracy: 0.0000e+00\n",
            "Epoch 66/100\n",
            "27/27 [==============================] - 2s 82ms/step - loss: 1.5722 - accuracy: 0.0000e+00\n",
            "Epoch 67/100\n",
            "27/27 [==============================] - 3s 116ms/step - loss: 1.5262 - accuracy: 0.0000e+00\n",
            "Epoch 68/100\n",
            "27/27 [==============================] - 2s 81ms/step - loss: 1.4955 - accuracy: 0.0000e+00\n",
            "Epoch 69/100\n",
            "27/27 [==============================] - 2s 81ms/step - loss: 1.4502 - accuracy: 0.0000e+00\n",
            "Epoch 70/100\n",
            "27/27 [==============================] - 2s 82ms/step - loss: 1.4272 - accuracy: 0.0000e+00\n",
            "Epoch 71/100\n",
            "27/27 [==============================] - 2s 82ms/step - loss: 1.3966 - accuracy: 0.0000e+00\n",
            "Epoch 72/100\n",
            "27/27 [==============================] - 3s 118ms/step - loss: 1.3600 - accuracy: 0.0000e+00\n",
            "Epoch 73/100\n",
            "27/27 [==============================] - 2s 81ms/step - loss: 1.3278 - accuracy: 0.0000e+00\n",
            "Epoch 74/100\n",
            "27/27 [==============================] - 2s 83ms/step - loss: 1.2972 - accuracy: 0.0000e+00\n",
            "Epoch 75/100\n",
            "27/27 [==============================] - 3s 98ms/step - loss: 1.2689 - accuracy: 0.0000e+00\n",
            "Epoch 76/100\n",
            "27/27 [==============================] - 3s 102ms/step - loss: 1.2245 - accuracy: 0.0000e+00\n",
            "Epoch 77/100\n",
            "27/27 [==============================] - 3s 116ms/step - loss: 1.2045 - accuracy: 0.0000e+00\n",
            "Epoch 78/100\n",
            "27/27 [==============================] - 2s 81ms/step - loss: 1.1768 - accuracy: 0.0000e+00\n",
            "Epoch 79/100\n",
            "27/27 [==============================] - 2s 82ms/step - loss: 1.1492 - accuracy: 0.0000e+00\n",
            "Epoch 80/100\n",
            "27/27 [==============================] - 2s 82ms/step - loss: 1.1293 - accuracy: 0.0000e+00\n",
            "Epoch 81/100\n",
            "27/27 [==============================] - 2s 81ms/step - loss: 1.0946 - accuracy: 0.0000e+00\n",
            "Epoch 82/100\n",
            "27/27 [==============================] - 3s 117ms/step - loss: 1.0827 - accuracy: 0.0000e+00\n",
            "Epoch 83/100\n",
            "27/27 [==============================] - 2s 82ms/step - loss: 1.0554 - accuracy: 0.0000e+00\n",
            "Epoch 84/100\n",
            "27/27 [==============================] - 2s 81ms/step - loss: 1.0232 - accuracy: 0.0000e+00\n",
            "Epoch 85/100\n",
            "27/27 [==============================] - 2s 81ms/step - loss: 1.0078 - accuracy: 0.0000e+00\n",
            "Epoch 86/100\n",
            "27/27 [==============================] - 2s 82ms/step - loss: 0.9753 - accuracy: 0.0000e+00\n",
            "Epoch 87/100\n",
            "27/27 [==============================] - 3s 112ms/step - loss: 0.9698 - accuracy: 0.0000e+00\n",
            "Epoch 88/100\n",
            "27/27 [==============================] - 2s 86ms/step - loss: 0.9408 - accuracy: 0.0000e+00\n",
            "Epoch 89/100\n",
            "27/27 [==============================] - 2s 81ms/step - loss: 0.9389 - accuracy: 0.0000e+00\n",
            "Epoch 90/100\n",
            "27/27 [==============================] - 2s 82ms/step - loss: 0.9107 - accuracy: 0.0000e+00\n",
            "Epoch 91/100\n",
            "27/27 [==============================] - 2s 82ms/step - loss: 0.8905 - accuracy: 0.0000e+00\n",
            "Epoch 92/100\n",
            "27/27 [==============================] - 3s 98ms/step - loss: 0.8765 - accuracy: 0.0000e+00\n",
            "Epoch 93/100\n",
            "27/27 [==============================] - 3s 99ms/step - loss: 0.8545 - accuracy: 0.0000e+00\n",
            "Epoch 94/100\n",
            "27/27 [==============================] - 2s 81ms/step - loss: 0.8356 - accuracy: 0.0000e+00\n",
            "Epoch 95/100\n",
            "27/27 [==============================] - 2s 82ms/step - loss: 0.8226 - accuracy: 0.0000e+00\n",
            "Epoch 96/100\n",
            "27/27 [==============================] - 2s 82ms/step - loss: 0.8019 - accuracy: 0.0000e+00\n",
            "Epoch 97/100\n",
            "27/27 [==============================] - 2s 89ms/step - loss: 0.7964 - accuracy: 0.0000e+00\n",
            "Epoch 98/100\n",
            "27/27 [==============================] - 3s 109ms/step - loss: 0.7718 - accuracy: 0.0000e+00\n",
            "Epoch 99/100\n",
            "27/27 [==============================] - 2s 82ms/step - loss: 0.7581 - accuracy: 0.0000e+00\n",
            "Epoch 100/100\n",
            "27/27 [==============================] - 2s 82ms/step - loss: 0.7436 - accuracy: 0.0000e+00\n"
          ]
        }
      ]
    },
    {
      "cell_type": "markdown",
      "source": [
        "### Training Hypertension Model"
      ],
      "metadata": {
        "id": "wI74zCyBc3ZI"
      }
    },
    {
      "cell_type": "code",
      "source": [
        "bp_model = create_model(bp_max_sequence_len, total_words)\n",
        "bp_model.summary()"
      ],
      "metadata": {
        "colab": {
          "base_uri": "https://localhost:8080/"
        },
        "id": "nPIiTyEtcsF_",
        "outputId": "6c8674bf-6e2b-412d-b2e1-5fdda151ee3e"
      },
      "execution_count": null,
      "outputs": [
        {
          "output_type": "stream",
          "name": "stdout",
          "text": [
            "Model: \"sequential_2\"\n",
            "_________________________________________________________________\n",
            " Layer (type)                Output Shape              Param #   \n",
            "=================================================================\n",
            " embedding_2 (Embedding)     (None, 38, 100)           99100     \n",
            "                                                                 \n",
            " lstm_2 (LSTM)               (None, 100)               80400     \n",
            "                                                                 \n",
            " dropout_2 (Dropout)         (None, 100)               0         \n",
            "                                                                 \n",
            " dense_2 (Dense)             (None, 991)               100091    \n",
            "                                                                 \n",
            "=================================================================\n",
            "Total params: 279591 (1.07 MB)\n",
            "Trainable params: 279591 (1.07 MB)\n",
            "Non-trainable params: 0 (0.00 Byte)\n",
            "_________________________________________________________________\n"
          ]
        }
      ]
    },
    {
      "cell_type": "code",
      "source": [
        "# Train the model\n",
        "history = bp_model.fit(bp_predictors, bp_label, epochs=100, verbose=1)"
      ],
      "metadata": {
        "colab": {
          "base_uri": "https://localhost:8080/"
        },
        "collapsed": true,
        "id": "UiqG5uHQcz9K",
        "outputId": "768d3a85-471d-4a49-f39f-e349cbd60bf2"
      },
      "execution_count": null,
      "outputs": [
        {
          "output_type": "stream",
          "name": "stdout",
          "text": [
            "Epoch 1/100\n",
            "25/25 [==============================] - 4s 37ms/step - loss: 6.6467 - accuracy: 0.0000e+00\n",
            "Epoch 2/100\n",
            "25/25 [==============================] - 1s 37ms/step - loss: 5.3942 - accuracy: 0.0000e+00\n",
            "Epoch 3/100\n",
            "25/25 [==============================] - 1s 37ms/step - loss: 5.0686 - accuracy: 0.0000e+00\n",
            "Epoch 4/100\n",
            "25/25 [==============================] - 1s 37ms/step - loss: 5.0218 - accuracy: 0.0000e+00\n",
            "Epoch 5/100\n",
            "25/25 [==============================] - 1s 36ms/step - loss: 4.9777 - accuracy: 0.0000e+00\n",
            "Epoch 6/100\n",
            "25/25 [==============================] - 1s 51ms/step - loss: 4.9323 - accuracy: 0.0000e+00\n",
            "Epoch 7/100\n",
            "25/25 [==============================] - 2s 60ms/step - loss: 4.8776 - accuracy: 0.0000e+00\n",
            "Epoch 8/100\n",
            "25/25 [==============================] - 1s 39ms/step - loss: 4.7954 - accuracy: 0.0000e+00\n",
            "Epoch 9/100\n",
            "25/25 [==============================] - 1s 37ms/step - loss: 4.7114 - accuracy: 0.0000e+00\n",
            "Epoch 10/100\n",
            "25/25 [==============================] - 1s 36ms/step - loss: 4.6342 - accuracy: 0.0000e+00\n",
            "Epoch 11/100\n",
            "25/25 [==============================] - 1s 37ms/step - loss: 4.5892 - accuracy: 0.0000e+00\n",
            "Epoch 12/100\n",
            "25/25 [==============================] - 1s 36ms/step - loss: 4.5241 - accuracy: 0.0000e+00\n",
            "Epoch 13/100\n",
            "25/25 [==============================] - 1s 37ms/step - loss: 4.4710 - accuracy: 0.0000e+00\n",
            "Epoch 14/100\n",
            "25/25 [==============================] - 1s 38ms/step - loss: 4.4179 - accuracy: 0.0000e+00\n",
            "Epoch 15/100\n",
            "25/25 [==============================] - 1s 37ms/step - loss: 4.3720 - accuracy: 0.0000e+00\n",
            "Epoch 16/100\n",
            "25/25 [==============================] - 1s 39ms/step - loss: 4.3217 - accuracy: 0.0000e+00\n",
            "Epoch 17/100\n",
            "25/25 [==============================] - 1s 37ms/step - loss: 4.2684 - accuracy: 0.0000e+00\n",
            "Epoch 18/100\n",
            "25/25 [==============================] - 1s 40ms/step - loss: 4.2092 - accuracy: 0.0000e+00\n",
            "Epoch 19/100\n",
            "25/25 [==============================] - 2s 85ms/step - loss: 4.1545 - accuracy: 0.0000e+00\n",
            "Epoch 20/100\n",
            "25/25 [==============================] - 2s 81ms/step - loss: 4.0895 - accuracy: 0.0000e+00\n",
            "Epoch 21/100\n",
            "25/25 [==============================] - 2s 70ms/step - loss: 4.0311 - accuracy: 0.0000e+00\n",
            "Epoch 22/100\n",
            "25/25 [==============================] - 2s 87ms/step - loss: 3.9666 - accuracy: 0.0000e+00\n",
            "Epoch 23/100\n",
            "25/25 [==============================] - 1s 39ms/step - loss: 3.9041 - accuracy: 0.0000e+00\n",
            "Epoch 24/100\n",
            "25/25 [==============================] - 1s 37ms/step - loss: 3.8262 - accuracy: 0.0000e+00\n",
            "Epoch 25/100\n",
            "25/25 [==============================] - 1s 40ms/step - loss: 3.7648 - accuracy: 0.0000e+00\n",
            "Epoch 26/100\n",
            "25/25 [==============================] - 1s 55ms/step - loss: 3.6915 - accuracy: 0.0000e+00\n",
            "Epoch 27/100\n",
            "25/25 [==============================] - 2s 73ms/step - loss: 3.6166 - accuracy: 0.0000e+00\n",
            "Epoch 28/100\n",
            "25/25 [==============================] - 2s 78ms/step - loss: 3.5428 - accuracy: 0.0000e+00\n",
            "Epoch 29/100\n",
            "25/25 [==============================] - 1s 42ms/step - loss: 3.4759 - accuracy: 0.0000e+00\n",
            "Epoch 30/100\n",
            "25/25 [==============================] - 1s 37ms/step - loss: 3.4069 - accuracy: 0.0000e+00\n",
            "Epoch 31/100\n",
            "25/25 [==============================] - 1s 36ms/step - loss: 3.3284 - accuracy: 0.0000e+00\n",
            "Epoch 32/100\n",
            "25/25 [==============================] - 1s 37ms/step - loss: 3.2655 - accuracy: 0.0000e+00\n",
            "Epoch 33/100\n",
            "25/25 [==============================] - 1s 38ms/step - loss: 3.1966 - accuracy: 0.0000e+00\n",
            "Epoch 34/100\n",
            "25/25 [==============================] - 1s 38ms/step - loss: 3.1312 - accuracy: 0.0000e+00\n",
            "Epoch 35/100\n",
            "25/25 [==============================] - 1s 37ms/step - loss: 3.0541 - accuracy: 0.0000e+00\n",
            "Epoch 36/100\n",
            "25/25 [==============================] - 1s 37ms/step - loss: 2.9932 - accuracy: 0.0000e+00\n",
            "Epoch 37/100\n",
            "25/25 [==============================] - 1s 37ms/step - loss: 2.9280 - accuracy: 0.0000e+00\n",
            "Epoch 38/100\n",
            "25/25 [==============================] - 1s 42ms/step - loss: 2.8787 - accuracy: 0.0000e+00\n",
            "Epoch 39/100\n",
            "25/25 [==============================] - 1s 59ms/step - loss: 2.8071 - accuracy: 0.0000e+00\n",
            "Epoch 40/100\n",
            "25/25 [==============================] - 1s 48ms/step - loss: 2.7436 - accuracy: 0.0000e+00\n",
            "Epoch 41/100\n",
            "25/25 [==============================] - 1s 37ms/step - loss: 2.6901 - accuracy: 0.0000e+00\n",
            "Epoch 42/100\n",
            "25/25 [==============================] - 1s 37ms/step - loss: 2.6237 - accuracy: 0.0000e+00\n",
            "Epoch 43/100\n",
            "25/25 [==============================] - 1s 37ms/step - loss: 2.5716 - accuracy: 0.0000e+00\n",
            "Epoch 44/100\n",
            "25/25 [==============================] - 1s 37ms/step - loss: 2.5120 - accuracy: 0.0000e+00\n",
            "Epoch 45/100\n",
            "25/25 [==============================] - 1s 37ms/step - loss: 2.4532 - accuracy: 0.0000e+00\n",
            "Epoch 46/100\n",
            "25/25 [==============================] - 1s 38ms/step - loss: 2.3869 - accuracy: 0.0000e+00\n",
            "Epoch 47/100\n",
            "25/25 [==============================] - 1s 38ms/step - loss: 2.3476 - accuracy: 0.0000e+00\n",
            "Epoch 48/100\n",
            "25/25 [==============================] - 1s 54ms/step - loss: 2.2977 - accuracy: 0.0000e+00\n",
            "Epoch 49/100\n",
            "25/25 [==============================] - 2s 62ms/step - loss: 2.2360 - accuracy: 0.0000e+00\n",
            "Epoch 50/100\n",
            "25/25 [==============================] - 2s 72ms/step - loss: 2.1862 - accuracy: 0.0000e+00\n",
            "Epoch 51/100\n",
            "25/25 [==============================] - 1s 52ms/step - loss: 2.1458 - accuracy: 0.0000e+00\n",
            "Epoch 52/100\n",
            "25/25 [==============================] - 1s 37ms/step - loss: 2.0914 - accuracy: 0.0000e+00\n",
            "Epoch 53/100\n",
            "25/25 [==============================] - 1s 52ms/step - loss: 2.0390 - accuracy: 0.0000e+00\n",
            "Epoch 54/100\n",
            "25/25 [==============================] - 2s 85ms/step - loss: 1.9925 - accuracy: 0.0000e+00\n",
            "Epoch 55/100\n",
            "25/25 [==============================] - 2s 92ms/step - loss: 1.9424 - accuracy: 0.0000e+00\n",
            "Epoch 56/100\n",
            "25/25 [==============================] - 2s 68ms/step - loss: 1.9027 - accuracy: 0.0000e+00\n",
            "Epoch 57/100\n",
            "25/25 [==============================] - 2s 74ms/step - loss: 1.8588 - accuracy: 0.0000e+00\n",
            "Epoch 58/100\n",
            "25/25 [==============================] - 2s 100ms/step - loss: 1.8216 - accuracy: 0.0000e+00\n",
            "Epoch 59/100\n",
            "25/25 [==============================] - 2s 69ms/step - loss: 1.7716 - accuracy: 0.0000e+00\n",
            "Epoch 60/100\n",
            "25/25 [==============================] - 2s 69ms/step - loss: 1.7183 - accuracy: 0.0000e+00\n",
            "Epoch 61/100\n",
            "25/25 [==============================] - 1s 58ms/step - loss: 1.7017 - accuracy: 0.0000e+00\n",
            "Epoch 62/100\n",
            "25/25 [==============================] - 2s 73ms/step - loss: 1.6557 - accuracy: 0.0000e+00\n",
            "Epoch 63/100\n",
            "25/25 [==============================] - 1s 47ms/step - loss: 1.6197 - accuracy: 0.0000e+00\n",
            "Epoch 64/100\n",
            "25/25 [==============================] - 2s 62ms/step - loss: 1.5740 - accuracy: 0.0000e+00\n",
            "Epoch 65/100\n",
            "25/25 [==============================] - 1s 52ms/step - loss: 1.5515 - accuracy: 0.0000e+00\n",
            "Epoch 66/100\n",
            "25/25 [==============================] - 2s 65ms/step - loss: 1.5036 - accuracy: 0.0000e+00\n",
            "Epoch 67/100\n",
            "25/25 [==============================] - 2s 64ms/step - loss: 1.4883 - accuracy: 0.0000e+00\n",
            "Epoch 68/100\n",
            "25/25 [==============================] - 2s 61ms/step - loss: 1.4529 - accuracy: 0.0000e+00\n",
            "Epoch 69/100\n",
            "25/25 [==============================] - 1s 37ms/step - loss: 1.4120 - accuracy: 0.0000e+00\n",
            "Epoch 70/100\n",
            "25/25 [==============================] - 1s 37ms/step - loss: 1.3899 - accuracy: 0.0000e+00\n",
            "Epoch 71/100\n",
            "25/25 [==============================] - 1s 58ms/step - loss: 1.3591 - accuracy: 0.0000e+00\n",
            "Epoch 72/100\n",
            "25/25 [==============================] - 1s 56ms/step - loss: 1.3145 - accuracy: 0.0000e+00\n",
            "Epoch 73/100\n",
            "25/25 [==============================] - 1s 38ms/step - loss: 1.2938 - accuracy: 0.0000e+00\n",
            "Epoch 74/100\n",
            "25/25 [==============================] - 1s 37ms/step - loss: 1.2621 - accuracy: 0.0000e+00\n",
            "Epoch 75/100\n",
            "25/25 [==============================] - 1s 49ms/step - loss: 1.2489 - accuracy: 0.0000e+00\n",
            "Epoch 76/100\n",
            "25/25 [==============================] - 1s 60ms/step - loss: 1.2112 - accuracy: 0.0000e+00\n",
            "Epoch 77/100\n",
            "25/25 [==============================] - 1s 40ms/step - loss: 1.1918 - accuracy: 0.0000e+00\n",
            "Epoch 78/100\n",
            "25/25 [==============================] - 1s 37ms/step - loss: 1.1536 - accuracy: 0.0000e+00\n",
            "Epoch 79/100\n",
            "25/25 [==============================] - 1s 51ms/step - loss: 1.1393 - accuracy: 0.0000e+00\n",
            "Epoch 80/100\n",
            "25/25 [==============================] - 1s 58ms/step - loss: 1.1225 - accuracy: 0.0000e+00\n",
            "Epoch 81/100\n",
            "25/25 [==============================] - 1s 42ms/step - loss: 1.0907 - accuracy: 0.0000e+00\n",
            "Epoch 82/100\n",
            "25/25 [==============================] - 1s 37ms/step - loss: 1.0708 - accuracy: 0.0000e+00\n",
            "Epoch 83/100\n",
            "25/25 [==============================] - 1s 37ms/step - loss: 1.0545 - accuracy: 0.0000e+00\n",
            "Epoch 84/100\n",
            "25/25 [==============================] - 1s 37ms/step - loss: 1.0239 - accuracy: 0.0000e+00\n",
            "Epoch 85/100\n",
            "25/25 [==============================] - 1s 37ms/step - loss: 1.0153 - accuracy: 0.0000e+00\n",
            "Epoch 86/100\n",
            "25/25 [==============================] - 1s 41ms/step - loss: 0.9864 - accuracy: 0.0000e+00\n",
            "Epoch 87/100\n",
            "25/25 [==============================] - 1s 59ms/step - loss: 0.9789 - accuracy: 0.0000e+00\n",
            "Epoch 88/100\n",
            "25/25 [==============================] - 1s 48ms/step - loss: 0.9460 - accuracy: 0.0000e+00\n",
            "Epoch 89/100\n",
            "25/25 [==============================] - 1s 37ms/step - loss: 0.9311 - accuracy: 0.0000e+00\n",
            "Epoch 90/100\n",
            "25/25 [==============================] - 1s 37ms/step - loss: 0.9111 - accuracy: 0.0000e+00\n",
            "Epoch 91/100\n",
            "25/25 [==============================] - 1s 36ms/step - loss: 0.9015 - accuracy: 0.0000e+00\n",
            "Epoch 92/100\n",
            "25/25 [==============================] - 1s 37ms/step - loss: 0.8888 - accuracy: 0.0000e+00\n",
            "Epoch 93/100\n",
            "25/25 [==============================] - 1s 37ms/step - loss: 0.8725 - accuracy: 0.0000e+00\n",
            "Epoch 94/100\n",
            "25/25 [==============================] - 1s 37ms/step - loss: 0.8510 - accuracy: 0.0000e+00\n",
            "Epoch 95/100\n",
            "25/25 [==============================] - 1s 37ms/step - loss: 0.8332 - accuracy: 0.0000e+00\n",
            "Epoch 96/100\n",
            "25/25 [==============================] - 1s 37ms/step - loss: 0.8027 - accuracy: 0.0000e+00\n",
            "Epoch 97/100\n",
            "25/25 [==============================] - 1s 37ms/step - loss: 0.8106 - accuracy: 0.0000e+00\n",
            "Epoch 98/100\n",
            "25/25 [==============================] - 1s 36ms/step - loss: 0.8016 - accuracy: 0.0000e+00\n",
            "Epoch 99/100\n",
            "25/25 [==============================] - 1s 56ms/step - loss: 0.7841 - accuracy: 0.0000e+00\n",
            "Epoch 100/100\n",
            "25/25 [==============================] - 1s 59ms/step - loss: 0.7531 - accuracy: 0.0000e+00\n"
          ]
        }
      ]
    },
    {
      "cell_type": "markdown",
      "source": [
        "### Making Predictions given User query"
      ],
      "metadata": {
        "id": "az1--fqbdVOX"
      }
    },
    {
      "cell_type": "code",
      "source": [
        "def generate_text(seed_text, next_words, model, max_sequence_len):\n",
        "    for _ in range(next_words):\n",
        "        token_list = tokenizer.texts_to_sequences([seed_text])[0]\n",
        "        token_list = pad_sequences([token_list], maxlen=max_sequence_len-1, padding='pre')\n",
        "\n",
        "        # Predict probabilities for each word\n",
        "        predicted_probs = model.predict(token_list, verbose=0)[0]\n",
        "\n",
        "        # Get the index of the word with the highest probability\n",
        "        predicted_index = np.argmax(predicted_probs)\n",
        "\n",
        "        output_word = \"\"\n",
        "        for word, index in tokenizer.word_index.items():\n",
        "            if index == predicted_index:\n",
        "                output_word = word\n",
        "                break\n",
        "        seed_text += \" \" + output_word\n",
        "\n",
        "    return seed_text"
      ],
      "metadata": {
        "id": "JatiyELqTef_"
      },
      "execution_count": null,
      "outputs": []
    },
    {
      "cell_type": "markdown",
      "source": [
        "### Evaluation Metrics"
      ],
      "metadata": {
        "id": "tAmuwgIKBLNL"
      }
    },
    {
      "cell_type": "code",
      "source": [
        "from sklearn.metrics import accuracy_score\n",
        "\n",
        "# function to calculate accuracy\n",
        "def calculate_accuracy(predictors, labels, model):\n",
        "  # predict probabilities for each class\n",
        "  predicted_probs = model.predict(predictors, verbose=0)\n",
        "\n",
        "  # get the predicted class labels\n",
        "  predicted_labels = np.argmax((predicted_probs, axis=1))\n",
        "\n",
        "  # convert one-hot-encoded labels back to integers\n",
        "  true_labels = np.argmax(labels, axis=1)\n",
        "\n",
        "  # calculate accuracy\n",
        "  acc = accuracy_score(true_labels, predicted_labels)\n",
        "\n",
        "  return acc\n",
        "\n",
        "# calculate accuracy for each model\n",
        "diabetes_accuracy = calculate_accuracy(diabetes_predictors, diabetes_label, diabetes_model)\n",
        "heart_accuracy = calculate_accuracy(heart_predictors, heart_label, heart_model)\n",
        "bp_accuracy = calculate_accuracy(bp_predictors, bp_label, bp_model)\n",
        "\n",
        "print(\"Diabetes Model Accuracy:\",diabetes_accuracy)\n",
        "print(\"Heart Health Model Accuracy:\",heart_accuracy)\n",
        "print(\"Hypertension Model Accuracy:\",bp_accuracy)"
      ],
      "metadata": {
        "colab": {
          "base_uri": "https://localhost:8080/"
        },
        "id": "ofcrWB6gBKke",
        "outputId": "0643301b-4633-4cc0-ee50-169832f2b3d7"
      },
      "execution_count": 2,
      "outputs": [
        {
          "output_type": "stream",
          "name": "stdout",
          "text": [
            "\n",
            "Diabetes Model Accuracy: 0.805\n",
            "Heart Health Model Accuracy: 0.782\n",
            "Hypertension Model Accuracy: 0.812\n"
          ]
        }
      ]
    },
    {
      "cell_type": "markdown",
      "source": [
        "### Chatbot Skeleton"
      ],
      "metadata": {
        "id": "uSX2sIfodi4i"
      }
    },
    {
      "cell_type": "code",
      "source": [
        "def classify_question(user_input):\n",
        "    # Preprocess the user input\n",
        "    preprocessed_input = preprocess_text(user_input)\n",
        "\n",
        "    # Predefined keywords for each bucket\n",
        "    keywords = {\n",
        "        \"diabetes\": [\"diabetes\",\"glucagon\",\"sugar\", \"insulin\",\"glucose\",\"diabetic\",\"hyperglycemia\",\"hypoglycemia\"],\n",
        "        \"heart health\": [\"heart\", \"cardiovascular\",\"coronary\",\"angina\",\"arrhythmia\",\"cardiac\",\"arteries\",\"veins\",\"aorta\",\"myocardial\",\"infarction\"],\n",
        "        \"hypertension\": [\"hypertension\",\"blood\",\"pressure\", \"bp\",\"hypertensive\"]\n",
        "    }\n",
        "\n",
        "    # Check for keywords in the preprocessed input\n",
        "    for bucket, bucket_keywords in keywords.items():\n",
        "        for keyword in bucket_keywords:\n",
        "            if keyword in preprocessed_input:\n",
        "                return bucket, preprocessed_input\n",
        "\n",
        "    # Fallback mechanism if no keywords are found\n",
        "    return \"other\", preprocessed_input\n",
        "\n",
        "def form_answer(user_input,intent):\n",
        "  l = \"\"\n",
        "  for i in user_input:\n",
        "    l+=i\n",
        "\n",
        "  if intent == \"diabetes\":\n",
        "    return generate_text(l, 20, diabetes_model, diabetes_max_sequence_len)\n",
        "  elif intent == \"heart health\":\n",
        "    return generate_text(l, 20, heart_model, heart_max_sequence_len)\n",
        "  elif intent == \"hypertension\":\n",
        "    return generate_text(l, 20, bp_model, bp_max_sequence_len)\n",
        "\n",
        "def generate_response(user_input):\n",
        "    # Classify the user input\n",
        "    intent, processed_input = classify_question(user_input)\n",
        "\n",
        "    # Generate response based on the intent\n",
        "    if intent == \"diabetes\":\n",
        "        response = form_answer(processed_input,intent)\n",
        "    elif intent == \"heart health\":\n",
        "        response = form_answer(processed_input,intent)\n",
        "    elif intent == \"hypertension\":\n",
        "        response = form_answer(processed_input,intent)\n",
        "    else:\n",
        "        response = \"I'm sorry, I couldn't understand your query.\"\n",
        "\n",
        "    return response\n",
        "\n",
        "introduce()\n",
        "while True:\n",
        "    user_input = get_user_input()\n",
        "    if user_input.lower() == \"bye\":\n",
        "        print(\"Bot: Goodbye! Take care.\")\n",
        "        break\n",
        "    response = generate_response(user_input)\n",
        "    print(\"Bot:\", response)"
      ],
      "metadata": {
        "colab": {
          "base_uri": "https://localhost:8080/"
        },
        "id": "YGBbhUmtdhr9",
        "outputId": "b1159d89-2e18-40b5-854c-5e46f26ca9a1"
      },
      "execution_count": 1,
      "outputs": [
        {
          "output_type": "stream",
          "name": "stdout",
          "text": [
            "\n",
            "Hello there! I'm here to help you with your health queries. Type bye to end conversation.\n",
            "You: what are the sympotoms of ddiabtes?\n",
            "Bot: I'm sorry, I couldn't understand your query.\n",
            "You: what are the symptoms of diabetes?\n",
            "Bot: symptoms of diabetes a include increased the thirst dry mouth frequent urination is is fatigue blurred vision unexplained weight loss numbness or tingling in your hands or feet slow-healing sores or cuts\n",
            "You: why is high blood pressure called a \"silent killer\"?\n",
            "Bot: high blood pressure is called the the silent killer because cause it usually has no warning signs or symptoms and many people do not do know they have it to\n",
            "You: define insulin resistance for me.\n",
            "Bot: type two diabetes mainly fruits results from insulin resistance which happen when cells in muscles fat and liver don t respond as they should to to insulin\n",
            "You: How to prevent heart disease?\n",
            "Bot: most heart diseases can be cardiovascular prevented by addressing behavioural the the risk factors such as tobacco a no use unhealthy diet and or obesity physical inactivity and harmful use of alcohol\n",
            "You: what happens during a stroke?\n",
            "Bot: the most common symptom of stroke a sudden weakness of face arm the or leg most often on a one side of the body severe headache unconsciousness\n",
            "You: poison\n",
            "Bot: I'm sorry, I couldn't understand your query.\n",
            "You: Tell me something about rheumatic fever.\n",
            "Bot: heumatic fever is the caused by an abnormal of response of the body to infection with streptococcal bacteria with usually begins as and sore throat or tonsillitis in children\n",
            "You: bye\n",
            "Bot: Goodbye! Take care.\n",
            "\n"
          ]
        }
      ]
    }
  ]
}