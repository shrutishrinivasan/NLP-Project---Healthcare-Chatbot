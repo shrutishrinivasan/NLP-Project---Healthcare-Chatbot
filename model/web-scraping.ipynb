{
  "nbformat": 4,
  "nbformat_minor": 0,
  "metadata": {
    "colab": {
      "provenance": []
    },
    "kernelspec": {
      "name": "python3",
      "display_name": "Python 3"
    },
    "language_info": {
      "name": "python"
    }
  },
  "cells": [
    {
      "cell_type": "markdown",
      "source": [
        "### Web Scraping"
      ],
      "metadata": {
        "id": "bxHpSp0FJv6V"
      }
    },
    {
      "cell_type": "code",
      "execution_count": null,
      "metadata": {
        "colab": {
          "base_uri": "https://localhost:8080/"
        },
        "id": "RfafMUMydeoh",
        "outputId": "4314159d-d768-4edd-bb09-e41ece6410cd"
      },
      "outputs": [
        {
          "output_type": "stream",
          "name": "stdout",
          "text": [
            "Dataset saved successfully as diabetes_dataset.txt\n"
          ]
        }
      ],
      "source": [
        "import requests\n",
        "from bs4 import BeautifulSoup\n",
        "\n",
        "def scrape_webpage(url):\n",
        "    try:\n",
        "        # Send a GET request to the URL\n",
        "        response = requests.get(url)\n",
        "        response.raise_for_status()  # Raise an HTTPError for bad responses\n",
        "\n",
        "        # Parse the HTML content of the page\n",
        "        soup = BeautifulSoup(response.text, 'html.parser')\n",
        "\n",
        "        # Extract text from paragraphs\n",
        "        paragraphs = soup.find_all(['p', 'li'])  # Include list items along with paragraphs\n",
        "\n",
        "        # Combine extracted text into a single paragraph\n",
        "        extracted_text = '\\n'.join([element.get_text() for element in paragraphs])\n",
        "\n",
        "        return extracted_text\n",
        "\n",
        "    except requests.exceptions.RequestException as e:\n",
        "        print(f\"Error: {e}\")\n",
        "        return None\n",
        "\n",
        "diabetes_url = \"https://my.clevelandclinic.org/health/diseases/7104-diabetes\"\n",
        "\n",
        "# Scrape the webpage\n",
        "diabetes_dataset = scrape_webpage(diabetes_url)\n",
        "\n",
        "# Save the scraped data to a text file\n",
        "with open(\"diabetes_dataset.txt\", \"w\") as file:\n",
        "    file.write(diabetes_dataset)\n",
        "\n",
        "print(\"Dataset saved successfully as diabetes_dataset.txt\")"
      ]
    },
    {
      "cell_type": "markdown",
      "source": [
        "### Data Collection\n"
      ],
      "metadata": {
        "id": "u4sT9_MqJylw"
      }
    },
    {
      "cell_type": "markdown",
      "source": [
        "#### Bucket 1: Diabetes"
      ],
      "metadata": {
        "id": "ZH9TRlIwQicx"
      }
    },
    {
      "cell_type": "code",
      "source": [
        "# load the modified dataset again\n",
        "def load_dataset(file_path):\n",
        "    try:\n",
        "        with open(file_path, \"r\") as file:\n",
        "            dataset = file.read().split(\"\\n\\n\")  # Split paragraphs based on double newline characters\n",
        "        return dataset\n",
        "    except FileNotFoundError:\n",
        "        print(\"Error: File not found.\")\n",
        "        return None\n",
        "\n",
        "file_path = \"diabetes.txt\"\n",
        "diabetes_dataset = load_dataset(file_path)\n",
        "\n",
        "for i, paragraph in enumerate(diabetes_dataset):\n",
        "    print(f\"Paragraph {i+1}:\")\n",
        "    print(paragraph)\n",
        "    print(\"\\n\")"
      ],
      "metadata": {
        "colab": {
          "base_uri": "https://localhost:8080/"
        },
        "id": "3hMg426OfSgD",
        "outputId": "d5625e67-3826-404f-f397-ec9545602ef0",
        "collapsed": true
      },
      "execution_count": null,
      "outputs": [
        {
          "output_type": "stream",
          "name": "stdout",
          "text": [
            "Paragraph 1:\n",
            "Diabetes is a common condition that affects people of all ages. There are several forms of diabetes. Type 2 is the most common. A combination of treatment strategies can help you manage the condition to live a healthy life and prevent complications.\n",
            "Diabetes is a condition that happens when your blood sugar (glucose) is too high. It develops when your pancreas doesn’t make enough insulin or any at all, or when your body isn’t responding to the effects of insulin properly. Diabetes affects people of all ages. Most forms of diabetes are chronic (lifelong), and all forms are manageable with medications and/or lifestyle changes.\n",
            "Glucose (sugar) mainly comes from carbohydrates in your food and drinks. It’s your body’s go-to source of energy. Your blood carries glucose to all your body’s cells to use for energy.\n",
            "When glucose is in your bloodstream, it needs help — a “key” — to reach its final destination. This key is insulin (a hormone). If your pancreas isn’t making enough insulin or your body isn’t using it properly, glucose builds up in your bloodstream, causing high blood sugar (hyperglycemia).\n",
            "Over time, having consistently high blood glucose can cause health problems, such as heart disease, nerve damage and eye issues.\n",
            "\n",
            "\n",
            "Paragraph 2:\n",
            "The technical name for diabetes is diabetes mellitus. Another condition shares the term “diabetes” — diabetes insipidus — but they’re distinct. They share the name “diabetes” because they both cause increased thirst and frequent urination. Diabetes insipidus is much rarer than diabetes mellitus.\n",
            "There are several types of diabetes. The most common forms include:\n",
            "Type 2 diabetes: With this type, your body doesn’t make enough insulin and/or your body’s cells don’t respond normally to the insulin (insulin resistance). This is the most common type of diabetes. It mainly affects adults, but children can have it as well.\n",
            "Prediabetes: This type is the stage before Type 2 diabetes. Your blood glucose levels are higher than normal but not high enough to be officially diagnosed with Type 2 diabetes.\n",
            "Type 1 diabetes: This type is an autoimmune disease in which your immune system attacks and destroys insulin-producing cells in your pancreas for unknown reasons. Up to 10% of people who have diabetes have Type 1. It’s usually diagnosed in children and young adults, but it can develop at any age.\n",
            "Gestational diabetes: This type develops in some people during pregnancy. Gestational diabetes usually goes away after pregnancy. However, if you have gestational diabetes, you’re at a higher risk of developing Type 2 diabetes later in life.\n",
            "\n",
            "\n",
            "Paragraph 3:\n",
            "Other types of diabetes include:\n",
            "Type 3c diabetes: This form of diabetes happens when your pancreas experiences damage (other than autoimmune damage), which affects its ability to produce insulin. Pancreatitis, pancreatic cancer, cystic fibrosis and hemochromatosis can all lead to pancreas damage that causes diabetes. Having your pancreas removed (pancreatectomy) also results in Type 3c.\n",
            "Latent autoimmune diabetes in adults (LADA): Like Type 1 diabetes, LADA also results from an autoimmune reaction, but it develops much more slowly than Type 1. People diagnosed with LADA are usually over the age of 30.\n",
            "Maturity-onset diabetes of the young (MODY): MODY, also called monogenic diabetes, happens due to an inherited genetic mutation that affects how your body makes and uses insulin. There are currently over 10 different types of MODY. It affects up to 5% of people with diabetes and commonly runs in families.\n",
            "Neonatal diabetes: This is a rare form of diabetes that occurs within the first six months of life. It’s also a form of monogenic diabetes. About 50% of babies with neonatal diabetes have the lifelong form called permanent neonatal diabetes mellitus. For the other half, the condition disappears within a few months from onset, but it can come back later in life. This is called transient neonatal diabetes mellitus.\n",
            "Brittle diabetes: Brittle diabetes is a form of Type 1 diabetes that’s marked by frequent and severe episodes of high and low blood sugar levels. This instability often leads to hospitalization. In rare cases, a pancreas transplant may be necessary to permanently treat brittle diabetes.\n",
            "Diabetes is common. Approximately 37.3 million people in the United States have diabetes, which is about 11% of the population. Type 2 diabetes is the most common form, representing 90% to 95% of all diabetes cases.\n",
            "About 537 million adults across the world have diabetes. Experts predict this number will rise to 643 million by 2030 and 783 million by 2045.\n",
            "\n",
            "\n",
            "Paragraph 4:\n",
            "Symptoms of diabetes include: Increased thirst (polydipsia) and dry mouth, Frequent urination, Fatigue, Blurred vision, Unexplained weight loss, Numbness or tingling in your hands or feet, Slow-healing sores or cuts, Frequent skin and/or vaginal yeast infections.\n",
            "Additional details about symptoms per type of diabetes include:\n",
            "Type 1 diabetes: Symptoms of T1D can develop quickly — over a few weeks or months. You may develop additional symptoms that are signs of a severe complication called diabetes-related ketoacidosis (DKA). DKA is life-threatening and requires immediate medical treatment. DKA symptoms include vomiting, stomach pains, fruity-smelling breath and labored breathing.\n",
            "Type 2 diabetes and prediabetes: You may not have any symptoms at all, or you may not notice them since they develop slowly. Routine bloodwork may show a high blood sugar level before you recognize symptoms. Another possible sign of prediabetes is darkened skin on certain parts of your body (acanthosis nigricans).\n",
            "Gestational diabetes: You typically won’t notice symptoms of gestational diabetes. Your healthcare provider will test you for gestational diabetes between 24 and 28 weeks of pregnancy.\n",
            "Too much glucose circulating in your bloodstream causes diabetes, regardless of the type. However, the reason why your blood glucose levels are high differs depending on the type of diabetes.\n",
            "\n",
            "\n",
            "Paragraph 5:\n",
            "Causes of diabetes include:\n",
            "Insulin resistance: Type 2 diabetes mainly results from insulin resistance. Insulin resistance happens when cells in your muscles, fat and liver don’t respond as they should to insulin. Several factors and conditions contribute to varying degrees of insulin resistance, including obesity, lack of physical activity, diet, hormonal imbalances, genetics and certain medications.\n",
            "Autoimmune disease: Type 1 diabetes and LADA happen when your immune system attacks the insulin-producing cells in your pancreas.\n",
            "Hormonal imbalances: During pregnancy, the placenta releases hormones that cause insulin resistance. You may develop gestational diabetes if your pancreas can’t produce enough insulin to overcome the insulin resistance. Other hormone-related conditions like acromegaly and Cushing syndrome can also cause Type 2 diabetes.\n",
            "Pancreatic damage: Physical damage to your pancreas — from a condition, surgery or injury — can impact its ability to make insulin, resulting in Type 3c diabetes.\n",
            "Genetic mutations: Certain genetic mutations can cause MODY and neonatal diabetes.\n",
            "Long-term use of certain medications can also lead to Type 2 diabetes, including HIV/AIDS medications and corticosteroids.\n",
            "Diabetes can lead to acute (sudden and severe) and long-term complications — mainly due to extreme or prolonged high blood sugar levels.\n",
            "Acute diabetes complications that can be life-threatening include:\n",
            "Hyperosmolar hyperglycemic state (HHS): This complication mainly affects people with Type 2 diabetes. It happens when your blood sugar levels are very high (over 600 milligrams per deciliter or mg/dL) for a long period, leading to severe dehydration and confusion. It requires immediate medical treatment.\n",
            "Diabetes-related ketoacidosis (DKA): This complication mainly affects people with Type 1 diabetes or undiagnosed T1D. It happens when your body doesn’t have enough insulin. If your body doesn’t have insulin, it can’t use glucose for energy, so it breaks down fat instead. This process eventually releases substances called ketones, which turn your blood acidic. This causes labored breathing, vomiting and loss of consciousness. DKA requires immediate medical treatment.\n",
            "Severe low blood sugar (hypoglycemia): Hypoglycemia happens when your blood sugar level drops below the range that’s healthy for you. Severe hypoglycemia is very low blood sugar. It mainly affects people with diabetes who use insulin. Signs include blurred or double vision, clumsiness, disorientation and seizures. It requires treatment with emergency glucagon and/or medical intervention.\n",
            "Blood glucose levels that remain high for too long can damage your body’s tissues and organs. This is mainly due to damage to your blood vessels and nerves, which support your body’s tissues.\n",
            "Cardiovascular (heart and blood vessel) issues are the most common type of long-term diabetes complication. They include: Coronary artery disease, Heart attack, Stroke, Atherosclerosis.\n",
            "\n",
            "\n",
            "Paragraph 6:\n",
            "Other diabetes complications include:\n",
            "Nerve damage (neuropathy), which can cause numbness, tingling and/or pain, Nephropathy, which can lead to kidney failure or the need for dialysis or transplant, Retinopathy, which can lead to blindness, Diabetes-related foot conditions, Skin infections, Amputations, Sexual dysfunction due to nerve and blood vessel damage, such as erectile dysfunction or vaginal dryness, Gastroparesis, Oral health issues, such as gum (periodontal) disease.\n",
            "Living with diabetes can also affect your mental health. People with diabetes are two to three times more likely to have depression than people without diabetes.\n",
            "Healthcare providers diagnose diabetes by checking your glucose level in a blood test. Three tests can measure your blood glucose level:\n",
            "Fasting blood glucose test: For this test, you don’t eat or drink anything except water (fast) for at least eight hours before the test. As food can greatly affect blood sugar, this test allows your provider to see your baseline blood sugar.\n",
            "Random blood glucose test: “Random” means that you can get this test at any time, regardless of if you’ve fasted.\n",
            "A1c: This test, also called HbA1C or glycated hemoglobin test, provides your average blood glucose level over the past two to three months.\n",
            "To screen for and diagnose gestational diabetes, providers order an oral glucose tolerance test.\n",
            "The following test results typically indicate if you don’t have diabetes, have prediabetes or have diabetes. These values may vary slightly. In addition, healthcare providers rely on more than one test to diagnose diabetes.\n",
            "Diabetes is a complex condition, so its management involves several strategies. In addition, diabetes affects everyone differently, so management plans are highly individualized.\n",
            "\n",
            "\n",
            "Paragraph 7:\n",
            "The four main aspects of managing diabetes include:\n",
            "Blood sugar monitoring: Monitoring your blood sugar (glucose) is key to determining how well your current treatment plan is working. It gives you information on how to manage your diabetes on a daily — and sometimes even hourly — basis. You can monitor your levels with frequent checks with a glucose meter and finger stick and/or with a continuous glucose monitor (CGM). You and your healthcare provider will determine the best blood sugar range for you.\n",
            "Oral diabetes medications: Oral diabetes medications (taken by mouth) help manage blood sugar levels in people who have diabetes but still produce some insulin — mainly people with Type 2 diabetes and prediabetes. People with gestational diabetes may also need oral medication. There are several different types. Metformin is the most common.\n",
            "Insulin: People with Type 1 diabetes need to inject synthetic insulin to live and manage diabetes. Some people with Type 2 diabetes also require insulin. There are several different types of synthetic insulin. They each start to work at different speeds and last in your body for different lengths of time. The four main ways you can take insulin include injectable insulin with a syringe (shot), insulin pens, insulin pumps and rapid-acting inhaled insulin.\n",
            "Diet: Meal planning and choosing a healthy diet for you are key aspects of diabetes management, as food greatly impacts blood sugar. If you take insulin, counting carbs in the food and drinks you consume is a large part of management. The amount of carbs you eat determines how much insulin you need at meals. Healthy eating habits can also help you manage your weight and reduce your heart disease risk.\n",
            "Exercise: Physical activity increases insulin sensitivity (and helps reduce insulin resistance), so regular exercise is an important part of management for all people with diabetes.\n",
            "Due to the increased risk for heart disease, it’s also important to maintain a healthy: Weight, Blood pressure, Cholesterol.\n",
            "\n",
            "\n",
            "Paragraph 8:\n",
            "You can’t prevent autoimmune and genetic forms of diabetes. But there are some steps you can take to lower your risk for developing prediabetes, Type 2 diabetes and gestational diabetes, including:\n",
            "Eat a healthy diet, such as the Mediterranean diet, Get physically active. Aim for 30 minutes a day at least five days a week, Work to achieve a weight that’s healthy for you, manage your stress, Limit alcohol intake, Get adequate sleep (typically 7 to 9 hours) and seek treatment for sleep disorders, Quit smoking, Take medications as directed by your healthcare provider to manage existing risk factors for heart disease.\n",
            "It’s important to note that there are some diabetes risk factors you can’t change, such as your genetics/family history, age and race. Know that Type 2 diabetes is a complex condition that involves many contributing factors.\n",
            "The prognosis (outlook) for diabetes varies greatly depending on several factors, including: The type of diabetes, How well you manage the condition over time and your access to diabetes care, Your age at diagnosis/how long you’ve had diabetes, If you have other health conditions, If you develop diabetes complications.\n",
            "Chronic high blood sugar can cause severe complications, which are usually irreversible. Several studies have shown that untreated chronic high blood sugar shortens your lifespan and worsens your quality of life.\n",
            "\n",
            "\n",
            "Paragraph 9:\n",
            "However, it’s important to know that you can live a healthy life with diabetes. The following are key to a better prognosis: Lifestyle changes, Regular exercise, Dietary changes, Regular blood sugar monitoring.\n",
            "Studies show that people with diabetes may be able to reduce their risk of complications by consistently keeping their A1c levels below 7%.\n",
            "If you haven’t been diagnosed with diabetes, you should see a healthcare provider if you have any symptoms of diabetes, such as increased thirst and frequent urination.\n",
            "If you have diabetes, you should see your provider who helps you manage diabetes (such as an endocrinologist) regularly.\n",
            "Being diagnosed with diabetes is a life-changing event, but it doesn’t mean you can’t live a happy and healthy life. Managing diabetes involves consistent care and diligence. While it’ll likely be very overwhelming at first, over time you’ll get a better grasp on managing the condition and being in tune with your body.\n",
            "Be sure to see your healthcare provider(s) regularly. Managing diabetes involves a team effort — you’ll want medical professionals, friends and family on your side. Don’t be afraid to reach out to them if you need help.\n",
            "\n",
            "\n"
          ]
        }
      ]
    },
    {
      "cell_type": "markdown",
      "source": [
        "#### Bucket 2: Cardiovascular Health"
      ],
      "metadata": {
        "id": "0OoGKTDUQm9S"
      }
    },
    {
      "cell_type": "code",
      "source": [
        "heart_url = \"https://www.who.int/news-room/fact-sheets/detail/cardiovascular-diseases-(cvds)\"\n",
        "\n",
        "# Scrape the webpage\n",
        "heart_dataset = scrape_webpage(heart_url)\n",
        "\n",
        "# Save the scraped data to a text file\n",
        "with open(\"heart_dataset.txt\", \"w\") as file:\n",
        "    file.write(heart_dataset)\n",
        "\n",
        "print(\"Dataset saved successfully as heart_dataset.txt\")"
      ],
      "metadata": {
        "colab": {
          "base_uri": "https://localhost:8080/"
        },
        "id": "hTs-eVxiugXa",
        "outputId": "6d85d2c5-6d69-4d1f-9909-05550bfaae9e"
      },
      "execution_count": null,
      "outputs": [
        {
          "output_type": "stream",
          "name": "stdout",
          "text": [
            "Dataset saved successfully as heart_dataset.txt\n"
          ]
        }
      ]
    },
    {
      "cell_type": "code",
      "source": [
        "# after manual processing load file again\n",
        "file_path = \"heart.txt\"\n",
        "diabetes_dataset = load_dataset(file_path)\n",
        "\n",
        "for i, paragraph in enumerate(diabetes_dataset):\n",
        "    print(f\"Paragraph {i+1}:\")\n",
        "    print(paragraph)\n",
        "    print(\"\\n\")"
      ],
      "metadata": {
        "id": "hTZiIo03RdUs"
      },
      "execution_count": null,
      "outputs": []
    },
    {
      "cell_type": "markdown",
      "source": [
        "#### Bucket 3: Hypertension/Blood Pressure"
      ],
      "metadata": {
        "id": "FNoJ8yQoVW6U"
      }
    },
    {
      "cell_type": "code",
      "source": [
        "bp_url = \"https://www.cdc.gov/bloodpressure/about.htm#:~:text=Blood%20pressure%20is%20measured%20using,your%20bp%20rests%20between%20beats.\"\n",
        "\n",
        "# Scrape the webpage\n",
        "bp_dataset = scrape_webpage(bp_url)\n",
        "\n",
        "# Save the scraped data to a text file\n",
        "with open(\"bp_dataset.txt\", \"w\") as file:\n",
        "    file.write(bp_dataset)\n",
        "\n",
        "print(\"Dataset saved successfully as bp_dataset.txt\")"
      ],
      "metadata": {
        "colab": {
          "base_uri": "https://localhost:8080/"
        },
        "id": "cBiuQ55rVa50",
        "outputId": "f495709e-85b5-4225-8f86-b980c8cc8e65"
      },
      "execution_count": null,
      "outputs": [
        {
          "output_type": "stream",
          "name": "stdout",
          "text": [
            "Dataset saved successfully as bp_dataset.txt\n"
          ]
        }
      ]
    },
    {
      "cell_type": "code",
      "source": [
        "# after manual processing load dataset again\n",
        "file_path = \"bp.txt\"\n",
        "diabetes_dataset = load_dataset(file_path)\n",
        "\n",
        "for i, paragraph in enumerate(diabetes_dataset):\n",
        "    print(f\"Paragraph {i+1}:\")\n",
        "    print(paragraph)\n",
        "    print(\"\\n\")"
      ],
      "metadata": {
        "colab": {
          "base_uri": "https://localhost:8080/"
        },
        "collapsed": true,
        "id": "uSEJpBgjW3Mz",
        "outputId": "99d1ed7a-caf0-4c19-c12e-1b478a869c3c"
      },
      "execution_count": null,
      "outputs": [
        {
          "output_type": "stream",
          "name": "stdout",
          "text": [
            "Paragraph 1:\n",
            "Blood pressure is the pressure of blood pushing against the walls of your arteries. Arteries carry blood from your heart to other parts of your body. Your blood pressure normally rises and falls throughout the day. Blood pressure is measured using two numbers: The first number, called systolic blood pressure, measures the pressure in your arteries when your heart beats. The second number, called diastolic blood pressure, measures the pressure in your arteries when your heart rests between beats. If the measurement reads 120 systolic and 80 diastolic, you would say, “120 over 80,” or write, “120/80 mmHg.” A normal blood pressure level is less than 120/80 mmHg.1 \n",
            "\n",
            "\n",
            "Paragraph 2:\n",
            "No matter your age, you can take steps each day to keep your blood pressure in a healthy range. High blood pressure, also called hypertension, is blood pressure that is higher than normal. Your blood pressure changes throughout the day based on your activities. Having blood pressure measures consistently above normal may result in a diagnosis of high blood pressure (or hypertension). The higher your blood pressure levels, the more risk you have for other health problems, such as heart disease, heart attack, and stroke. Your health care team can diagnose high blood pressure and make treatment decisions by reviewing your systolic and diastolic blood pressure levels and comparing them to levels found in certain guidelines.\n",
            "\n",
            "\n",
            "Paragraph 3:\n",
            "The guidelines used to diagnose high blood pressure may differ from health care professional to health care professional: Some health care professionals diagnose patients with high blood pressure if their blood pressure is consistently 140/90 mm Hg or higher.2 This limit is based on a guideline released in 2003, as seen in the table below. Other health care professionals diagnose patients with high blood pressure if their blood pressure is consistently 130/80 mm Hg or higher.1 This limit is based on a guideline released in 2017, as seen in the table below.\n",
            "\n",
            "\n",
            "Paragraph 4:\n",
            "If you are diagnosed with high blood pressure, talk with your health care team about your blood pressure levels and how these levels affect your treatment plan. High blood pressure usually has no warning signs or symptoms, and many people do not know they have it. Measuring your blood pressure is the only way to know whether you have high blood pressure. High blood pressure usually develops over time. It can happen because of unhealthy lifestyle choices, such as not getting enough regular physical activity. Certain health conditions, such as diabetes and having obesity, can also increase the risk for developing high blood pressure. High blood pressure can also happen during pregnancy.\n",
            "\n",
            "\n",
            "Paragraph 5:\n",
            "You can manage your blood pressure to lower your risk for serious health problems that may affect your heart, brain, kidneys, and eyes. High blood pressure can damage your health in many ways. It can seriously hurt important organs like your heart, brain, kidneys, and eyes. The good news is that, in most cases, you can manage your blood pressure to lower your risk for serious health problems. High blood pressure can damage your arteries by making them less elastic, which decreases the flow of blood and oxygen to your heart and leads to heart disease. In addition, decreased blood flow to the heart can cause: Chest pain, also called angina. Heart attack, which happens when the blood supply to your heart is blocked and heart muscle begins to die without enough oxygen. The longer the blood flow is blocked, the greater the damage to the heart. Heart failure, a condition that means your heart can’t pump enough blood and oxygen to your other organs. High blood pressure can cause the arteries that supply blood and oxygen to the brain to burst or be blocked, causing a stroke. Brain cells die during a stroke because they do not get enough oxygen. Stroke can cause serious disabilities in speech, movement, and other basic activities. A stroke can also kill you. Having high blood pressure, especially in midlife, is linked to having poorer cognitive function and dementia later in life.  \n",
            "\n",
            "\n",
            "Paragraph 6:\n",
            "Adults with diabetes, high blood pressure, or both have a higher risk of developing chronic kidney disease than those without these conditions. Cholesterol, Heart Disease, High Blood Pressure During Pregnancy, High Blood Pressure in Kids and Teens, Pulmonary Hypertension, Stroke\n",
            "\n",
            "\n",
            "Paragraph 7:\n",
            "There’s only one way to know if you have high blood pressure: Have a doctor or other health professional measure it. Measuring your blood pressure is quick and painless. Talk with your health care team about regularly measuring your blood pressure at home, also called self-measured blood pressure (SMBP) monitoring. High blood pressure is called the “silent killer” because it usually has no warning signs or symptoms, and many people do not know they have it. Many people with high blood pressure can lower their blood pressure into a healthy range or keep their numbers in a healthy range by making lifestyle changes. Talk with your health care team about. Getting at least 150 minutes of physical activity each week (about 30 minutes a day, 5 days a week) Not smoking, Eating a healthy diet, including limiting sodium (salt) and alcohol, Keeping a healthy weight, Managing stress. In addition to making positive lifestyle changes, some people with high blood pressure need to take medicine to manage their blood pressure.\n",
            "\n",
            "\n"
          ]
        }
      ]
    },
    {
      "cell_type": "markdown",
      "source": [
        "### Preprocessing"
      ],
      "metadata": {
        "id": "-KDcXqIGqL55"
      }
    },
    {
      "cell_type": "code",
      "source": [
        "def preprocess_text(text):\n",
        "    # Tokenization\n",
        "    tokens = text.split()\n",
        "\n",
        "    # Lowercasing\n",
        "    tokens = [token.lower() for token in tokens]\n",
        "\n",
        "    # Removing Special Characters and Numbers\n",
        "    tokens = [token for token in tokens if token.isalpha()]\n",
        "\n",
        "    # Removing Stopwords\n",
        "    stopwords = set([\"a\", \"an\", \"the\", \"is\", \"and\", \"it\", \"of\", \"in\", \"to\", \"for\", \"on\", \"with\", \"your\", \"you\", \"are\", \"that\", \"but\"])\n",
        "    tokens = [token for token in tokens if token not in stopwords]\n",
        "\n",
        "    return tokens\n",
        "\n",
        "# Load the dataset\n",
        "file_path = \"diabetes_dataset.txt\"\n",
        "with open(file_path, \"r\") as file:\n",
        "    diabetes_dataset = file.read().split(\"\\n\\n\")  # Split paragraphs based on double newline characters\n",
        "\n",
        "# Preprocess each paragraph in the dataset\n",
        "preprocessed_dataset = [preprocess_text(paragraph) for paragraph in diabetes_dataset]\n",
        "\n",
        "# Example usage: Print the preprocessed tokens of the first paragraph\n",
        "print(preprocessed_dataset[0])"
      ],
      "metadata": {
        "id": "c3sNuzpCYvNh"
      },
      "execution_count": null,
      "outputs": []
    }
  ]
}
