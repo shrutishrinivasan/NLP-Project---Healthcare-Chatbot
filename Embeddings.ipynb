{
  "nbformat": 4,
  "nbformat_minor": 0,
  "metadata": {
    "colab": {
      "provenance": []
    },
    "kernelspec": {
      "name": "python3",
      "display_name": "Python 3"
    },
    "language_info": {
      "name": "python"
    },
    "widgets": {
      "application/vnd.jupyter.widget-state+json": {
        "371e97a7a5d545b59d9722bd3d9e7285": {
          "model_module": "@jupyter-widgets/controls",
          "model_name": "HBoxModel",
          "model_module_version": "1.5.0",
          "state": {
            "_dom_classes": [],
            "_model_module": "@jupyter-widgets/controls",
            "_model_module_version": "1.5.0",
            "_model_name": "HBoxModel",
            "_view_count": null,
            "_view_module": "@jupyter-widgets/controls",
            "_view_module_version": "1.5.0",
            "_view_name": "HBoxView",
            "box_style": "",
            "children": [
              "IPY_MODEL_1ca329b0be6e42179deaedae503dc948",
              "IPY_MODEL_b2fe0a4eeabf4ec5a27771caddeed11a",
              "IPY_MODEL_8f724dd68ae14f719474238eff3b64df"
            ],
            "layout": "IPY_MODEL_26c2c8bbade24524b19d01b2de540d10"
          }
        },
        "1ca329b0be6e42179deaedae503dc948": {
          "model_module": "@jupyter-widgets/controls",
          "model_name": "HTMLModel",
          "model_module_version": "1.5.0",
          "state": {
            "_dom_classes": [],
            "_model_module": "@jupyter-widgets/controls",
            "_model_module_version": "1.5.0",
            "_model_name": "HTMLModel",
            "_view_count": null,
            "_view_module": "@jupyter-widgets/controls",
            "_view_module_version": "1.5.0",
            "_view_name": "HTMLView",
            "description": "",
            "description_tooltip": null,
            "layout": "IPY_MODEL_5fc10abe62ab4eef99fcabf48f537502",
            "placeholder": "​",
            "style": "IPY_MODEL_79967219348b432ca5a324f2d31273ab",
            "value": "tokenizer_config.json: 100%"
          }
        },
        "b2fe0a4eeabf4ec5a27771caddeed11a": {
          "model_module": "@jupyter-widgets/controls",
          "model_name": "FloatProgressModel",
          "model_module_version": "1.5.0",
          "state": {
            "_dom_classes": [],
            "_model_module": "@jupyter-widgets/controls",
            "_model_module_version": "1.5.0",
            "_model_name": "FloatProgressModel",
            "_view_count": null,
            "_view_module": "@jupyter-widgets/controls",
            "_view_module_version": "1.5.0",
            "_view_name": "ProgressView",
            "bar_style": "success",
            "description": "",
            "description_tooltip": null,
            "layout": "IPY_MODEL_b2ffefb6795a4b15857e5b193818645a",
            "max": 28,
            "min": 0,
            "orientation": "horizontal",
            "style": "IPY_MODEL_de83a405b5544d18ab3b96b9443b5aad",
            "value": 28
          }
        },
        "8f724dd68ae14f719474238eff3b64df": {
          "model_module": "@jupyter-widgets/controls",
          "model_name": "HTMLModel",
          "model_module_version": "1.5.0",
          "state": {
            "_dom_classes": [],
            "_model_module": "@jupyter-widgets/controls",
            "_model_module_version": "1.5.0",
            "_model_name": "HTMLModel",
            "_view_count": null,
            "_view_module": "@jupyter-widgets/controls",
            "_view_module_version": "1.5.0",
            "_view_name": "HTMLView",
            "description": "",
            "description_tooltip": null,
            "layout": "IPY_MODEL_f3c768f2315d48a69c472745ec019084",
            "placeholder": "​",
            "style": "IPY_MODEL_d453b1efe51c4791b06a1a0a4a197e3a",
            "value": " 28.0/28.0 [00:00&lt;00:00, 319B/s]"
          }
        },
        "26c2c8bbade24524b19d01b2de540d10": {
          "model_module": "@jupyter-widgets/base",
          "model_name": "LayoutModel",
          "model_module_version": "1.2.0",
          "state": {
            "_model_module": "@jupyter-widgets/base",
            "_model_module_version": "1.2.0",
            "_model_name": "LayoutModel",
            "_view_count": null,
            "_view_module": "@jupyter-widgets/base",
            "_view_module_version": "1.2.0",
            "_view_name": "LayoutView",
            "align_content": null,
            "align_items": null,
            "align_self": null,
            "border": null,
            "bottom": null,
            "display": null,
            "flex": null,
            "flex_flow": null,
            "grid_area": null,
            "grid_auto_columns": null,
            "grid_auto_flow": null,
            "grid_auto_rows": null,
            "grid_column": null,
            "grid_gap": null,
            "grid_row": null,
            "grid_template_areas": null,
            "grid_template_columns": null,
            "grid_template_rows": null,
            "height": null,
            "justify_content": null,
            "justify_items": null,
            "left": null,
            "margin": null,
            "max_height": null,
            "max_width": null,
            "min_height": null,
            "min_width": null,
            "object_fit": null,
            "object_position": null,
            "order": null,
            "overflow": null,
            "overflow_x": null,
            "overflow_y": null,
            "padding": null,
            "right": null,
            "top": null,
            "visibility": null,
            "width": null
          }
        },
        "5fc10abe62ab4eef99fcabf48f537502": {
          "model_module": "@jupyter-widgets/base",
          "model_name": "LayoutModel",
          "model_module_version": "1.2.0",
          "state": {
            "_model_module": "@jupyter-widgets/base",
            "_model_module_version": "1.2.0",
            "_model_name": "LayoutModel",
            "_view_count": null,
            "_view_module": "@jupyter-widgets/base",
            "_view_module_version": "1.2.0",
            "_view_name": "LayoutView",
            "align_content": null,
            "align_items": null,
            "align_self": null,
            "border": null,
            "bottom": null,
            "display": null,
            "flex": null,
            "flex_flow": null,
            "grid_area": null,
            "grid_auto_columns": null,
            "grid_auto_flow": null,
            "grid_auto_rows": null,
            "grid_column": null,
            "grid_gap": null,
            "grid_row": null,
            "grid_template_areas": null,
            "grid_template_columns": null,
            "grid_template_rows": null,
            "height": null,
            "justify_content": null,
            "justify_items": null,
            "left": null,
            "margin": null,
            "max_height": null,
            "max_width": null,
            "min_height": null,
            "min_width": null,
            "object_fit": null,
            "object_position": null,
            "order": null,
            "overflow": null,
            "overflow_x": null,
            "overflow_y": null,
            "padding": null,
            "right": null,
            "top": null,
            "visibility": null,
            "width": null
          }
        },
        "79967219348b432ca5a324f2d31273ab": {
          "model_module": "@jupyter-widgets/controls",
          "model_name": "DescriptionStyleModel",
          "model_module_version": "1.5.0",
          "state": {
            "_model_module": "@jupyter-widgets/controls",
            "_model_module_version": "1.5.0",
            "_model_name": "DescriptionStyleModel",
            "_view_count": null,
            "_view_module": "@jupyter-widgets/base",
            "_view_module_version": "1.2.0",
            "_view_name": "StyleView",
            "description_width": ""
          }
        },
        "b2ffefb6795a4b15857e5b193818645a": {
          "model_module": "@jupyter-widgets/base",
          "model_name": "LayoutModel",
          "model_module_version": "1.2.0",
          "state": {
            "_model_module": "@jupyter-widgets/base",
            "_model_module_version": "1.2.0",
            "_model_name": "LayoutModel",
            "_view_count": null,
            "_view_module": "@jupyter-widgets/base",
            "_view_module_version": "1.2.0",
            "_view_name": "LayoutView",
            "align_content": null,
            "align_items": null,
            "align_self": null,
            "border": null,
            "bottom": null,
            "display": null,
            "flex": null,
            "flex_flow": null,
            "grid_area": null,
            "grid_auto_columns": null,
            "grid_auto_flow": null,
            "grid_auto_rows": null,
            "grid_column": null,
            "grid_gap": null,
            "grid_row": null,
            "grid_template_areas": null,
            "grid_template_columns": null,
            "grid_template_rows": null,
            "height": null,
            "justify_content": null,
            "justify_items": null,
            "left": null,
            "margin": null,
            "max_height": null,
            "max_width": null,
            "min_height": null,
            "min_width": null,
            "object_fit": null,
            "object_position": null,
            "order": null,
            "overflow": null,
            "overflow_x": null,
            "overflow_y": null,
            "padding": null,
            "right": null,
            "top": null,
            "visibility": null,
            "width": null
          }
        },
        "de83a405b5544d18ab3b96b9443b5aad": {
          "model_module": "@jupyter-widgets/controls",
          "model_name": "ProgressStyleModel",
          "model_module_version": "1.5.0",
          "state": {
            "_model_module": "@jupyter-widgets/controls",
            "_model_module_version": "1.5.0",
            "_model_name": "ProgressStyleModel",
            "_view_count": null,
            "_view_module": "@jupyter-widgets/base",
            "_view_module_version": "1.2.0",
            "_view_name": "StyleView",
            "bar_color": null,
            "description_width": ""
          }
        },
        "f3c768f2315d48a69c472745ec019084": {
          "model_module": "@jupyter-widgets/base",
          "model_name": "LayoutModel",
          "model_module_version": "1.2.0",
          "state": {
            "_model_module": "@jupyter-widgets/base",
            "_model_module_version": "1.2.0",
            "_model_name": "LayoutModel",
            "_view_count": null,
            "_view_module": "@jupyter-widgets/base",
            "_view_module_version": "1.2.0",
            "_view_name": "LayoutView",
            "align_content": null,
            "align_items": null,
            "align_self": null,
            "border": null,
            "bottom": null,
            "display": null,
            "flex": null,
            "flex_flow": null,
            "grid_area": null,
            "grid_auto_columns": null,
            "grid_auto_flow": null,
            "grid_auto_rows": null,
            "grid_column": null,
            "grid_gap": null,
            "grid_row": null,
            "grid_template_areas": null,
            "grid_template_columns": null,
            "grid_template_rows": null,
            "height": null,
            "justify_content": null,
            "justify_items": null,
            "left": null,
            "margin": null,
            "max_height": null,
            "max_width": null,
            "min_height": null,
            "min_width": null,
            "object_fit": null,
            "object_position": null,
            "order": null,
            "overflow": null,
            "overflow_x": null,
            "overflow_y": null,
            "padding": null,
            "right": null,
            "top": null,
            "visibility": null,
            "width": null
          }
        },
        "d453b1efe51c4791b06a1a0a4a197e3a": {
          "model_module": "@jupyter-widgets/controls",
          "model_name": "DescriptionStyleModel",
          "model_module_version": "1.5.0",
          "state": {
            "_model_module": "@jupyter-widgets/controls",
            "_model_module_version": "1.5.0",
            "_model_name": "DescriptionStyleModel",
            "_view_count": null,
            "_view_module": "@jupyter-widgets/base",
            "_view_module_version": "1.2.0",
            "_view_name": "StyleView",
            "description_width": ""
          }
        },
        "87e75e9fed8f41f0be2f262cba2de0e1": {
          "model_module": "@jupyter-widgets/controls",
          "model_name": "HBoxModel",
          "model_module_version": "1.5.0",
          "state": {
            "_dom_classes": [],
            "_model_module": "@jupyter-widgets/controls",
            "_model_module_version": "1.5.0",
            "_model_name": "HBoxModel",
            "_view_count": null,
            "_view_module": "@jupyter-widgets/controls",
            "_view_module_version": "1.5.0",
            "_view_name": "HBoxView",
            "box_style": "",
            "children": [
              "IPY_MODEL_d45fd737225247f9b8f85516d6ac4a70",
              "IPY_MODEL_822e3a76edc44e81a372e0e637d0c9c3",
              "IPY_MODEL_f8e82441b0b3426baa426742f36577dd"
            ],
            "layout": "IPY_MODEL_0baea443dd094698b8c4716919b5e912"
          }
        },
        "d45fd737225247f9b8f85516d6ac4a70": {
          "model_module": "@jupyter-widgets/controls",
          "model_name": "HTMLModel",
          "model_module_version": "1.5.0",
          "state": {
            "_dom_classes": [],
            "_model_module": "@jupyter-widgets/controls",
            "_model_module_version": "1.5.0",
            "_model_name": "HTMLModel",
            "_view_count": null,
            "_view_module": "@jupyter-widgets/controls",
            "_view_module_version": "1.5.0",
            "_view_name": "HTMLView",
            "description": "",
            "description_tooltip": null,
            "layout": "IPY_MODEL_0c19bc123e7a46b3876d3666887b2102",
            "placeholder": "​",
            "style": "IPY_MODEL_16f2bee838544d2984661a653e214af3",
            "value": "vocab.txt: 100%"
          }
        },
        "822e3a76edc44e81a372e0e637d0c9c3": {
          "model_module": "@jupyter-widgets/controls",
          "model_name": "FloatProgressModel",
          "model_module_version": "1.5.0",
          "state": {
            "_dom_classes": [],
            "_model_module": "@jupyter-widgets/controls",
            "_model_module_version": "1.5.0",
            "_model_name": "FloatProgressModel",
            "_view_count": null,
            "_view_module": "@jupyter-widgets/controls",
            "_view_module_version": "1.5.0",
            "_view_name": "ProgressView",
            "bar_style": "success",
            "description": "",
            "description_tooltip": null,
            "layout": "IPY_MODEL_e57c956907be417fae58ee162a0ac2ad",
            "max": 231508,
            "min": 0,
            "orientation": "horizontal",
            "style": "IPY_MODEL_04bfc0fa9b064ce79c113bf05156507c",
            "value": 231508
          }
        },
        "f8e82441b0b3426baa426742f36577dd": {
          "model_module": "@jupyter-widgets/controls",
          "model_name": "HTMLModel",
          "model_module_version": "1.5.0",
          "state": {
            "_dom_classes": [],
            "_model_module": "@jupyter-widgets/controls",
            "_model_module_version": "1.5.0",
            "_model_name": "HTMLModel",
            "_view_count": null,
            "_view_module": "@jupyter-widgets/controls",
            "_view_module_version": "1.5.0",
            "_view_name": "HTMLView",
            "description": "",
            "description_tooltip": null,
            "layout": "IPY_MODEL_a37413e306b241e988e72b7e6b81d4ef",
            "placeholder": "​",
            "style": "IPY_MODEL_dcfd1c67a95d4cb981bb690ba917ec4b",
            "value": " 232k/232k [00:00&lt;00:00, 4.28MB/s]"
          }
        },
        "0baea443dd094698b8c4716919b5e912": {
          "model_module": "@jupyter-widgets/base",
          "model_name": "LayoutModel",
          "model_module_version": "1.2.0",
          "state": {
            "_model_module": "@jupyter-widgets/base",
            "_model_module_version": "1.2.0",
            "_model_name": "LayoutModel",
            "_view_count": null,
            "_view_module": "@jupyter-widgets/base",
            "_view_module_version": "1.2.0",
            "_view_name": "LayoutView",
            "align_content": null,
            "align_items": null,
            "align_self": null,
            "border": null,
            "bottom": null,
            "display": null,
            "flex": null,
            "flex_flow": null,
            "grid_area": null,
            "grid_auto_columns": null,
            "grid_auto_flow": null,
            "grid_auto_rows": null,
            "grid_column": null,
            "grid_gap": null,
            "grid_row": null,
            "grid_template_areas": null,
            "grid_template_columns": null,
            "grid_template_rows": null,
            "height": null,
            "justify_content": null,
            "justify_items": null,
            "left": null,
            "margin": null,
            "max_height": null,
            "max_width": null,
            "min_height": null,
            "min_width": null,
            "object_fit": null,
            "object_position": null,
            "order": null,
            "overflow": null,
            "overflow_x": null,
            "overflow_y": null,
            "padding": null,
            "right": null,
            "top": null,
            "visibility": null,
            "width": null
          }
        },
        "0c19bc123e7a46b3876d3666887b2102": {
          "model_module": "@jupyter-widgets/base",
          "model_name": "LayoutModel",
          "model_module_version": "1.2.0",
          "state": {
            "_model_module": "@jupyter-widgets/base",
            "_model_module_version": "1.2.0",
            "_model_name": "LayoutModel",
            "_view_count": null,
            "_view_module": "@jupyter-widgets/base",
            "_view_module_version": "1.2.0",
            "_view_name": "LayoutView",
            "align_content": null,
            "align_items": null,
            "align_self": null,
            "border": null,
            "bottom": null,
            "display": null,
            "flex": null,
            "flex_flow": null,
            "grid_area": null,
            "grid_auto_columns": null,
            "grid_auto_flow": null,
            "grid_auto_rows": null,
            "grid_column": null,
            "grid_gap": null,
            "grid_row": null,
            "grid_template_areas": null,
            "grid_template_columns": null,
            "grid_template_rows": null,
            "height": null,
            "justify_content": null,
            "justify_items": null,
            "left": null,
            "margin": null,
            "max_height": null,
            "max_width": null,
            "min_height": null,
            "min_width": null,
            "object_fit": null,
            "object_position": null,
            "order": null,
            "overflow": null,
            "overflow_x": null,
            "overflow_y": null,
            "padding": null,
            "right": null,
            "top": null,
            "visibility": null,
            "width": null
          }
        },
        "16f2bee838544d2984661a653e214af3": {
          "model_module": "@jupyter-widgets/controls",
          "model_name": "DescriptionStyleModel",
          "model_module_version": "1.5.0",
          "state": {
            "_model_module": "@jupyter-widgets/controls",
            "_model_module_version": "1.5.0",
            "_model_name": "DescriptionStyleModel",
            "_view_count": null,
            "_view_module": "@jupyter-widgets/base",
            "_view_module_version": "1.2.0",
            "_view_name": "StyleView",
            "description_width": ""
          }
        },
        "e57c956907be417fae58ee162a0ac2ad": {
          "model_module": "@jupyter-widgets/base",
          "model_name": "LayoutModel",
          "model_module_version": "1.2.0",
          "state": {
            "_model_module": "@jupyter-widgets/base",
            "_model_module_version": "1.2.0",
            "_model_name": "LayoutModel",
            "_view_count": null,
            "_view_module": "@jupyter-widgets/base",
            "_view_module_version": "1.2.0",
            "_view_name": "LayoutView",
            "align_content": null,
            "align_items": null,
            "align_self": null,
            "border": null,
            "bottom": null,
            "display": null,
            "flex": null,
            "flex_flow": null,
            "grid_area": null,
            "grid_auto_columns": null,
            "grid_auto_flow": null,
            "grid_auto_rows": null,
            "grid_column": null,
            "grid_gap": null,
            "grid_row": null,
            "grid_template_areas": null,
            "grid_template_columns": null,
            "grid_template_rows": null,
            "height": null,
            "justify_content": null,
            "justify_items": null,
            "left": null,
            "margin": null,
            "max_height": null,
            "max_width": null,
            "min_height": null,
            "min_width": null,
            "object_fit": null,
            "object_position": null,
            "order": null,
            "overflow": null,
            "overflow_x": null,
            "overflow_y": null,
            "padding": null,
            "right": null,
            "top": null,
            "visibility": null,
            "width": null
          }
        },
        "04bfc0fa9b064ce79c113bf05156507c": {
          "model_module": "@jupyter-widgets/controls",
          "model_name": "ProgressStyleModel",
          "model_module_version": "1.5.0",
          "state": {
            "_model_module": "@jupyter-widgets/controls",
            "_model_module_version": "1.5.0",
            "_model_name": "ProgressStyleModel",
            "_view_count": null,
            "_view_module": "@jupyter-widgets/base",
            "_view_module_version": "1.2.0",
            "_view_name": "StyleView",
            "bar_color": null,
            "description_width": ""
          }
        },
        "a37413e306b241e988e72b7e6b81d4ef": {
          "model_module": "@jupyter-widgets/base",
          "model_name": "LayoutModel",
          "model_module_version": "1.2.0",
          "state": {
            "_model_module": "@jupyter-widgets/base",
            "_model_module_version": "1.2.0",
            "_model_name": "LayoutModel",
            "_view_count": null,
            "_view_module": "@jupyter-widgets/base",
            "_view_module_version": "1.2.0",
            "_view_name": "LayoutView",
            "align_content": null,
            "align_items": null,
            "align_self": null,
            "border": null,
            "bottom": null,
            "display": null,
            "flex": null,
            "flex_flow": null,
            "grid_area": null,
            "grid_auto_columns": null,
            "grid_auto_flow": null,
            "grid_auto_rows": null,
            "grid_column": null,
            "grid_gap": null,
            "grid_row": null,
            "grid_template_areas": null,
            "grid_template_columns": null,
            "grid_template_rows": null,
            "height": null,
            "justify_content": null,
            "justify_items": null,
            "left": null,
            "margin": null,
            "max_height": null,
            "max_width": null,
            "min_height": null,
            "min_width": null,
            "object_fit": null,
            "object_position": null,
            "order": null,
            "overflow": null,
            "overflow_x": null,
            "overflow_y": null,
            "padding": null,
            "right": null,
            "top": null,
            "visibility": null,
            "width": null
          }
        },
        "dcfd1c67a95d4cb981bb690ba917ec4b": {
          "model_module": "@jupyter-widgets/controls",
          "model_name": "DescriptionStyleModel",
          "model_module_version": "1.5.0",
          "state": {
            "_model_module": "@jupyter-widgets/controls",
            "_model_module_version": "1.5.0",
            "_model_name": "DescriptionStyleModel",
            "_view_count": null,
            "_view_module": "@jupyter-widgets/base",
            "_view_module_version": "1.2.0",
            "_view_name": "StyleView",
            "description_width": ""
          }
        },
        "afb4bd6c25a44cdebf5952d21b31ea07": {
          "model_module": "@jupyter-widgets/controls",
          "model_name": "HBoxModel",
          "model_module_version": "1.5.0",
          "state": {
            "_dom_classes": [],
            "_model_module": "@jupyter-widgets/controls",
            "_model_module_version": "1.5.0",
            "_model_name": "HBoxModel",
            "_view_count": null,
            "_view_module": "@jupyter-widgets/controls",
            "_view_module_version": "1.5.0",
            "_view_name": "HBoxView",
            "box_style": "",
            "children": [
              "IPY_MODEL_ee8b9546dcbd406b915f42290cbe84fb",
              "IPY_MODEL_262a68739f40449daa4ed663c61ce728",
              "IPY_MODEL_c9934d0daa444d289e3e55e519295c74"
            ],
            "layout": "IPY_MODEL_e285b77bd4ec44c2b680a31031a8217c"
          }
        },
        "ee8b9546dcbd406b915f42290cbe84fb": {
          "model_module": "@jupyter-widgets/controls",
          "model_name": "HTMLModel",
          "model_module_version": "1.5.0",
          "state": {
            "_dom_classes": [],
            "_model_module": "@jupyter-widgets/controls",
            "_model_module_version": "1.5.0",
            "_model_name": "HTMLModel",
            "_view_count": null,
            "_view_module": "@jupyter-widgets/controls",
            "_view_module_version": "1.5.0",
            "_view_name": "HTMLView",
            "description": "",
            "description_tooltip": null,
            "layout": "IPY_MODEL_d6c49b66e3404610837b5dd05e3fc2b1",
            "placeholder": "​",
            "style": "IPY_MODEL_a6fabb6741e54fa0b85d5d8074343720",
            "value": "tokenizer.json: 100%"
          }
        },
        "262a68739f40449daa4ed663c61ce728": {
          "model_module": "@jupyter-widgets/controls",
          "model_name": "FloatProgressModel",
          "model_module_version": "1.5.0",
          "state": {
            "_dom_classes": [],
            "_model_module": "@jupyter-widgets/controls",
            "_model_module_version": "1.5.0",
            "_model_name": "FloatProgressModel",
            "_view_count": null,
            "_view_module": "@jupyter-widgets/controls",
            "_view_module_version": "1.5.0",
            "_view_name": "ProgressView",
            "bar_style": "success",
            "description": "",
            "description_tooltip": null,
            "layout": "IPY_MODEL_02dd1d1fd670428b92bcc6d467ccd75d",
            "max": 466062,
            "min": 0,
            "orientation": "horizontal",
            "style": "IPY_MODEL_e0eb108a3371486cbc6b4b12687ffd7d",
            "value": 466062
          }
        },
        "c9934d0daa444d289e3e55e519295c74": {
          "model_module": "@jupyter-widgets/controls",
          "model_name": "HTMLModel",
          "model_module_version": "1.5.0",
          "state": {
            "_dom_classes": [],
            "_model_module": "@jupyter-widgets/controls",
            "_model_module_version": "1.5.0",
            "_model_name": "HTMLModel",
            "_view_count": null,
            "_view_module": "@jupyter-widgets/controls",
            "_view_module_version": "1.5.0",
            "_view_name": "HTMLView",
            "description": "",
            "description_tooltip": null,
            "layout": "IPY_MODEL_dc414b77b77941619c01dad09301683c",
            "placeholder": "​",
            "style": "IPY_MODEL_a362304b874f41b09b231717bef9c8b7",
            "value": " 466k/466k [00:00&lt;00:00, 4.70MB/s]"
          }
        },
        "e285b77bd4ec44c2b680a31031a8217c": {
          "model_module": "@jupyter-widgets/base",
          "model_name": "LayoutModel",
          "model_module_version": "1.2.0",
          "state": {
            "_model_module": "@jupyter-widgets/base",
            "_model_module_version": "1.2.0",
            "_model_name": "LayoutModel",
            "_view_count": null,
            "_view_module": "@jupyter-widgets/base",
            "_view_module_version": "1.2.0",
            "_view_name": "LayoutView",
            "align_content": null,
            "align_items": null,
            "align_self": null,
            "border": null,
            "bottom": null,
            "display": null,
            "flex": null,
            "flex_flow": null,
            "grid_area": null,
            "grid_auto_columns": null,
            "grid_auto_flow": null,
            "grid_auto_rows": null,
            "grid_column": null,
            "grid_gap": null,
            "grid_row": null,
            "grid_template_areas": null,
            "grid_template_columns": null,
            "grid_template_rows": null,
            "height": null,
            "justify_content": null,
            "justify_items": null,
            "left": null,
            "margin": null,
            "max_height": null,
            "max_width": null,
            "min_height": null,
            "min_width": null,
            "object_fit": null,
            "object_position": null,
            "order": null,
            "overflow": null,
            "overflow_x": null,
            "overflow_y": null,
            "padding": null,
            "right": null,
            "top": null,
            "visibility": null,
            "width": null
          }
        },
        "d6c49b66e3404610837b5dd05e3fc2b1": {
          "model_module": "@jupyter-widgets/base",
          "model_name": "LayoutModel",
          "model_module_version": "1.2.0",
          "state": {
            "_model_module": "@jupyter-widgets/base",
            "_model_module_version": "1.2.0",
            "_model_name": "LayoutModel",
            "_view_count": null,
            "_view_module": "@jupyter-widgets/base",
            "_view_module_version": "1.2.0",
            "_view_name": "LayoutView",
            "align_content": null,
            "align_items": null,
            "align_self": null,
            "border": null,
            "bottom": null,
            "display": null,
            "flex": null,
            "flex_flow": null,
            "grid_area": null,
            "grid_auto_columns": null,
            "grid_auto_flow": null,
            "grid_auto_rows": null,
            "grid_column": null,
            "grid_gap": null,
            "grid_row": null,
            "grid_template_areas": null,
            "grid_template_columns": null,
            "grid_template_rows": null,
            "height": null,
            "justify_content": null,
            "justify_items": null,
            "left": null,
            "margin": null,
            "max_height": null,
            "max_width": null,
            "min_height": null,
            "min_width": null,
            "object_fit": null,
            "object_position": null,
            "order": null,
            "overflow": null,
            "overflow_x": null,
            "overflow_y": null,
            "padding": null,
            "right": null,
            "top": null,
            "visibility": null,
            "width": null
          }
        },
        "a6fabb6741e54fa0b85d5d8074343720": {
          "model_module": "@jupyter-widgets/controls",
          "model_name": "DescriptionStyleModel",
          "model_module_version": "1.5.0",
          "state": {
            "_model_module": "@jupyter-widgets/controls",
            "_model_module_version": "1.5.0",
            "_model_name": "DescriptionStyleModel",
            "_view_count": null,
            "_view_module": "@jupyter-widgets/base",
            "_view_module_version": "1.2.0",
            "_view_name": "StyleView",
            "description_width": ""
          }
        },
        "02dd1d1fd670428b92bcc6d467ccd75d": {
          "model_module": "@jupyter-widgets/base",
          "model_name": "LayoutModel",
          "model_module_version": "1.2.0",
          "state": {
            "_model_module": "@jupyter-widgets/base",
            "_model_module_version": "1.2.0",
            "_model_name": "LayoutModel",
            "_view_count": null,
            "_view_module": "@jupyter-widgets/base",
            "_view_module_version": "1.2.0",
            "_view_name": "LayoutView",
            "align_content": null,
            "align_items": null,
            "align_self": null,
            "border": null,
            "bottom": null,
            "display": null,
            "flex": null,
            "flex_flow": null,
            "grid_area": null,
            "grid_auto_columns": null,
            "grid_auto_flow": null,
            "grid_auto_rows": null,
            "grid_column": null,
            "grid_gap": null,
            "grid_row": null,
            "grid_template_areas": null,
            "grid_template_columns": null,
            "grid_template_rows": null,
            "height": null,
            "justify_content": null,
            "justify_items": null,
            "left": null,
            "margin": null,
            "max_height": null,
            "max_width": null,
            "min_height": null,
            "min_width": null,
            "object_fit": null,
            "object_position": null,
            "order": null,
            "overflow": null,
            "overflow_x": null,
            "overflow_y": null,
            "padding": null,
            "right": null,
            "top": null,
            "visibility": null,
            "width": null
          }
        },
        "e0eb108a3371486cbc6b4b12687ffd7d": {
          "model_module": "@jupyter-widgets/controls",
          "model_name": "ProgressStyleModel",
          "model_module_version": "1.5.0",
          "state": {
            "_model_module": "@jupyter-widgets/controls",
            "_model_module_version": "1.5.0",
            "_model_name": "ProgressStyleModel",
            "_view_count": null,
            "_view_module": "@jupyter-widgets/base",
            "_view_module_version": "1.2.0",
            "_view_name": "StyleView",
            "bar_color": null,
            "description_width": ""
          }
        },
        "dc414b77b77941619c01dad09301683c": {
          "model_module": "@jupyter-widgets/base",
          "model_name": "LayoutModel",
          "model_module_version": "1.2.0",
          "state": {
            "_model_module": "@jupyter-widgets/base",
            "_model_module_version": "1.2.0",
            "_model_name": "LayoutModel",
            "_view_count": null,
            "_view_module": "@jupyter-widgets/base",
            "_view_module_version": "1.2.0",
            "_view_name": "LayoutView",
            "align_content": null,
            "align_items": null,
            "align_self": null,
            "border": null,
            "bottom": null,
            "display": null,
            "flex": null,
            "flex_flow": null,
            "grid_area": null,
            "grid_auto_columns": null,
            "grid_auto_flow": null,
            "grid_auto_rows": null,
            "grid_column": null,
            "grid_gap": null,
            "grid_row": null,
            "grid_template_areas": null,
            "grid_template_columns": null,
            "grid_template_rows": null,
            "height": null,
            "justify_content": null,
            "justify_items": null,
            "left": null,
            "margin": null,
            "max_height": null,
            "max_width": null,
            "min_height": null,
            "min_width": null,
            "object_fit": null,
            "object_position": null,
            "order": null,
            "overflow": null,
            "overflow_x": null,
            "overflow_y": null,
            "padding": null,
            "right": null,
            "top": null,
            "visibility": null,
            "width": null
          }
        },
        "a362304b874f41b09b231717bef9c8b7": {
          "model_module": "@jupyter-widgets/controls",
          "model_name": "DescriptionStyleModel",
          "model_module_version": "1.5.0",
          "state": {
            "_model_module": "@jupyter-widgets/controls",
            "_model_module_version": "1.5.0",
            "_model_name": "DescriptionStyleModel",
            "_view_count": null,
            "_view_module": "@jupyter-widgets/base",
            "_view_module_version": "1.2.0",
            "_view_name": "StyleView",
            "description_width": ""
          }
        },
        "5d1a0d6e1bfa497b8c37327b1725a28c": {
          "model_module": "@jupyter-widgets/controls",
          "model_name": "HBoxModel",
          "model_module_version": "1.5.0",
          "state": {
            "_dom_classes": [],
            "_model_module": "@jupyter-widgets/controls",
            "_model_module_version": "1.5.0",
            "_model_name": "HBoxModel",
            "_view_count": null,
            "_view_module": "@jupyter-widgets/controls",
            "_view_module_version": "1.5.0",
            "_view_name": "HBoxView",
            "box_style": "",
            "children": [
              "IPY_MODEL_b65115b5c5814529ab6326f17b85d0f2",
              "IPY_MODEL_9ca63e211b204ca5925e24155287cfcd",
              "IPY_MODEL_e8619d68bf254b989e24db96bc46643f"
            ],
            "layout": "IPY_MODEL_43ceb19f78614ad995ec01568e2d7471"
          }
        },
        "b65115b5c5814529ab6326f17b85d0f2": {
          "model_module": "@jupyter-widgets/controls",
          "model_name": "HTMLModel",
          "model_module_version": "1.5.0",
          "state": {
            "_dom_classes": [],
            "_model_module": "@jupyter-widgets/controls",
            "_model_module_version": "1.5.0",
            "_model_name": "HTMLModel",
            "_view_count": null,
            "_view_module": "@jupyter-widgets/controls",
            "_view_module_version": "1.5.0",
            "_view_name": "HTMLView",
            "description": "",
            "description_tooltip": null,
            "layout": "IPY_MODEL_3de3d42d37cc4e829bb3318fc4089594",
            "placeholder": "​",
            "style": "IPY_MODEL_73259c5cc53543219159efd6b8d7cf66",
            "value": "config.json: 100%"
          }
        },
        "9ca63e211b204ca5925e24155287cfcd": {
          "model_module": "@jupyter-widgets/controls",
          "model_name": "FloatProgressModel",
          "model_module_version": "1.5.0",
          "state": {
            "_dom_classes": [],
            "_model_module": "@jupyter-widgets/controls",
            "_model_module_version": "1.5.0",
            "_model_name": "FloatProgressModel",
            "_view_count": null,
            "_view_module": "@jupyter-widgets/controls",
            "_view_module_version": "1.5.0",
            "_view_name": "ProgressView",
            "bar_style": "success",
            "description": "",
            "description_tooltip": null,
            "layout": "IPY_MODEL_82de6e72320d46ff9c0fb99c2e996360",
            "max": 570,
            "min": 0,
            "orientation": "horizontal",
            "style": "IPY_MODEL_c5af1c18ab034f59bc075a2440baf420",
            "value": 570
          }
        },
        "e8619d68bf254b989e24db96bc46643f": {
          "model_module": "@jupyter-widgets/controls",
          "model_name": "HTMLModel",
          "model_module_version": "1.5.0",
          "state": {
            "_dom_classes": [],
            "_model_module": "@jupyter-widgets/controls",
            "_model_module_version": "1.5.0",
            "_model_name": "HTMLModel",
            "_view_count": null,
            "_view_module": "@jupyter-widgets/controls",
            "_view_module_version": "1.5.0",
            "_view_name": "HTMLView",
            "description": "",
            "description_tooltip": null,
            "layout": "IPY_MODEL_33e15ec4d78949b2a49737bbc9d1be18",
            "placeholder": "​",
            "style": "IPY_MODEL_379de14684c84ee99164061867364b46",
            "value": " 570/570 [00:00&lt;00:00, 10.1kB/s]"
          }
        },
        "43ceb19f78614ad995ec01568e2d7471": {
          "model_module": "@jupyter-widgets/base",
          "model_name": "LayoutModel",
          "model_module_version": "1.2.0",
          "state": {
            "_model_module": "@jupyter-widgets/base",
            "_model_module_version": "1.2.0",
            "_model_name": "LayoutModel",
            "_view_count": null,
            "_view_module": "@jupyter-widgets/base",
            "_view_module_version": "1.2.0",
            "_view_name": "LayoutView",
            "align_content": null,
            "align_items": null,
            "align_self": null,
            "border": null,
            "bottom": null,
            "display": null,
            "flex": null,
            "flex_flow": null,
            "grid_area": null,
            "grid_auto_columns": null,
            "grid_auto_flow": null,
            "grid_auto_rows": null,
            "grid_column": null,
            "grid_gap": null,
            "grid_row": null,
            "grid_template_areas": null,
            "grid_template_columns": null,
            "grid_template_rows": null,
            "height": null,
            "justify_content": null,
            "justify_items": null,
            "left": null,
            "margin": null,
            "max_height": null,
            "max_width": null,
            "min_height": null,
            "min_width": null,
            "object_fit": null,
            "object_position": null,
            "order": null,
            "overflow": null,
            "overflow_x": null,
            "overflow_y": null,
            "padding": null,
            "right": null,
            "top": null,
            "visibility": null,
            "width": null
          }
        },
        "3de3d42d37cc4e829bb3318fc4089594": {
          "model_module": "@jupyter-widgets/base",
          "model_name": "LayoutModel",
          "model_module_version": "1.2.0",
          "state": {
            "_model_module": "@jupyter-widgets/base",
            "_model_module_version": "1.2.0",
            "_model_name": "LayoutModel",
            "_view_count": null,
            "_view_module": "@jupyter-widgets/base",
            "_view_module_version": "1.2.0",
            "_view_name": "LayoutView",
            "align_content": null,
            "align_items": null,
            "align_self": null,
            "border": null,
            "bottom": null,
            "display": null,
            "flex": null,
            "flex_flow": null,
            "grid_area": null,
            "grid_auto_columns": null,
            "grid_auto_flow": null,
            "grid_auto_rows": null,
            "grid_column": null,
            "grid_gap": null,
            "grid_row": null,
            "grid_template_areas": null,
            "grid_template_columns": null,
            "grid_template_rows": null,
            "height": null,
            "justify_content": null,
            "justify_items": null,
            "left": null,
            "margin": null,
            "max_height": null,
            "max_width": null,
            "min_height": null,
            "min_width": null,
            "object_fit": null,
            "object_position": null,
            "order": null,
            "overflow": null,
            "overflow_x": null,
            "overflow_y": null,
            "padding": null,
            "right": null,
            "top": null,
            "visibility": null,
            "width": null
          }
        },
        "73259c5cc53543219159efd6b8d7cf66": {
          "model_module": "@jupyter-widgets/controls",
          "model_name": "DescriptionStyleModel",
          "model_module_version": "1.5.0",
          "state": {
            "_model_module": "@jupyter-widgets/controls",
            "_model_module_version": "1.5.0",
            "_model_name": "DescriptionStyleModel",
            "_view_count": null,
            "_view_module": "@jupyter-widgets/base",
            "_view_module_version": "1.2.0",
            "_view_name": "StyleView",
            "description_width": ""
          }
        },
        "82de6e72320d46ff9c0fb99c2e996360": {
          "model_module": "@jupyter-widgets/base",
          "model_name": "LayoutModel",
          "model_module_version": "1.2.0",
          "state": {
            "_model_module": "@jupyter-widgets/base",
            "_model_module_version": "1.2.0",
            "_model_name": "LayoutModel",
            "_view_count": null,
            "_view_module": "@jupyter-widgets/base",
            "_view_module_version": "1.2.0",
            "_view_name": "LayoutView",
            "align_content": null,
            "align_items": null,
            "align_self": null,
            "border": null,
            "bottom": null,
            "display": null,
            "flex": null,
            "flex_flow": null,
            "grid_area": null,
            "grid_auto_columns": null,
            "grid_auto_flow": null,
            "grid_auto_rows": null,
            "grid_column": null,
            "grid_gap": null,
            "grid_row": null,
            "grid_template_areas": null,
            "grid_template_columns": null,
            "grid_template_rows": null,
            "height": null,
            "justify_content": null,
            "justify_items": null,
            "left": null,
            "margin": null,
            "max_height": null,
            "max_width": null,
            "min_height": null,
            "min_width": null,
            "object_fit": null,
            "object_position": null,
            "order": null,
            "overflow": null,
            "overflow_x": null,
            "overflow_y": null,
            "padding": null,
            "right": null,
            "top": null,
            "visibility": null,
            "width": null
          }
        },
        "c5af1c18ab034f59bc075a2440baf420": {
          "model_module": "@jupyter-widgets/controls",
          "model_name": "ProgressStyleModel",
          "model_module_version": "1.5.0",
          "state": {
            "_model_module": "@jupyter-widgets/controls",
            "_model_module_version": "1.5.0",
            "_model_name": "ProgressStyleModel",
            "_view_count": null,
            "_view_module": "@jupyter-widgets/base",
            "_view_module_version": "1.2.0",
            "_view_name": "StyleView",
            "bar_color": null,
            "description_width": ""
          }
        },
        "33e15ec4d78949b2a49737bbc9d1be18": {
          "model_module": "@jupyter-widgets/base",
          "model_name": "LayoutModel",
          "model_module_version": "1.2.0",
          "state": {
            "_model_module": "@jupyter-widgets/base",
            "_model_module_version": "1.2.0",
            "_model_name": "LayoutModel",
            "_view_count": null,
            "_view_module": "@jupyter-widgets/base",
            "_view_module_version": "1.2.0",
            "_view_name": "LayoutView",
            "align_content": null,
            "align_items": null,
            "align_self": null,
            "border": null,
            "bottom": null,
            "display": null,
            "flex": null,
            "flex_flow": null,
            "grid_area": null,
            "grid_auto_columns": null,
            "grid_auto_flow": null,
            "grid_auto_rows": null,
            "grid_column": null,
            "grid_gap": null,
            "grid_row": null,
            "grid_template_areas": null,
            "grid_template_columns": null,
            "grid_template_rows": null,
            "height": null,
            "justify_content": null,
            "justify_items": null,
            "left": null,
            "margin": null,
            "max_height": null,
            "max_width": null,
            "min_height": null,
            "min_width": null,
            "object_fit": null,
            "object_position": null,
            "order": null,
            "overflow": null,
            "overflow_x": null,
            "overflow_y": null,
            "padding": null,
            "right": null,
            "top": null,
            "visibility": null,
            "width": null
          }
        },
        "379de14684c84ee99164061867364b46": {
          "model_module": "@jupyter-widgets/controls",
          "model_name": "DescriptionStyleModel",
          "model_module_version": "1.5.0",
          "state": {
            "_model_module": "@jupyter-widgets/controls",
            "_model_module_version": "1.5.0",
            "_model_name": "DescriptionStyleModel",
            "_view_count": null,
            "_view_module": "@jupyter-widgets/base",
            "_view_module_version": "1.2.0",
            "_view_name": "StyleView",
            "description_width": ""
          }
        },
        "53f210d538c24a2bbd1d352fc5a5514b": {
          "model_module": "@jupyter-widgets/controls",
          "model_name": "HBoxModel",
          "model_module_version": "1.5.0",
          "state": {
            "_dom_classes": [],
            "_model_module": "@jupyter-widgets/controls",
            "_model_module_version": "1.5.0",
            "_model_name": "HBoxModel",
            "_view_count": null,
            "_view_module": "@jupyter-widgets/controls",
            "_view_module_version": "1.5.0",
            "_view_name": "HBoxView",
            "box_style": "",
            "children": [
              "IPY_MODEL_8797681fe9bf49d0bb9f3b7ccf7338e7",
              "IPY_MODEL_0a7e1ed598524152ab23af87376e98de",
              "IPY_MODEL_07334f37b8e84725aac012ec57cc6ef5"
            ],
            "layout": "IPY_MODEL_c9c675efa5dd4693942e664d9740d970"
          }
        },
        "8797681fe9bf49d0bb9f3b7ccf7338e7": {
          "model_module": "@jupyter-widgets/controls",
          "model_name": "HTMLModel",
          "model_module_version": "1.5.0",
          "state": {
            "_dom_classes": [],
            "_model_module": "@jupyter-widgets/controls",
            "_model_module_version": "1.5.0",
            "_model_name": "HTMLModel",
            "_view_count": null,
            "_view_module": "@jupyter-widgets/controls",
            "_view_module_version": "1.5.0",
            "_view_name": "HTMLView",
            "description": "",
            "description_tooltip": null,
            "layout": "IPY_MODEL_0bd0595c3beb4e13bd2fa6ecddfdd4dc",
            "placeholder": "​",
            "style": "IPY_MODEL_3f5bce4856c84e8795974d9abc05986a",
            "value": "model.safetensors: 100%"
          }
        },
        "0a7e1ed598524152ab23af87376e98de": {
          "model_module": "@jupyter-widgets/controls",
          "model_name": "FloatProgressModel",
          "model_module_version": "1.5.0",
          "state": {
            "_dom_classes": [],
            "_model_module": "@jupyter-widgets/controls",
            "_model_module_version": "1.5.0",
            "_model_name": "FloatProgressModel",
            "_view_count": null,
            "_view_module": "@jupyter-widgets/controls",
            "_view_module_version": "1.5.0",
            "_view_name": "ProgressView",
            "bar_style": "success",
            "description": "",
            "description_tooltip": null,
            "layout": "IPY_MODEL_e4c75bbfa7394074a05974f15abebac7",
            "max": 440449768,
            "min": 0,
            "orientation": "horizontal",
            "style": "IPY_MODEL_b6d1c1b33eab4cb4b7f33ed85545a46b",
            "value": 440449768
          }
        },
        "07334f37b8e84725aac012ec57cc6ef5": {
          "model_module": "@jupyter-widgets/controls",
          "model_name": "HTMLModel",
          "model_module_version": "1.5.0",
          "state": {
            "_dom_classes": [],
            "_model_module": "@jupyter-widgets/controls",
            "_model_module_version": "1.5.0",
            "_model_name": "HTMLModel",
            "_view_count": null,
            "_view_module": "@jupyter-widgets/controls",
            "_view_module_version": "1.5.0",
            "_view_name": "HTMLView",
            "description": "",
            "description_tooltip": null,
            "layout": "IPY_MODEL_6f12d69ccb1e4b17b337696087c1361d",
            "placeholder": "​",
            "style": "IPY_MODEL_72c2e02fc6324a5b926a968f5d9fa339",
            "value": " 440M/440M [00:05&lt;00:00, 39.6MB/s]"
          }
        },
        "c9c675efa5dd4693942e664d9740d970": {
          "model_module": "@jupyter-widgets/base",
          "model_name": "LayoutModel",
          "model_module_version": "1.2.0",
          "state": {
            "_model_module": "@jupyter-widgets/base",
            "_model_module_version": "1.2.0",
            "_model_name": "LayoutModel",
            "_view_count": null,
            "_view_module": "@jupyter-widgets/base",
            "_view_module_version": "1.2.0",
            "_view_name": "LayoutView",
            "align_content": null,
            "align_items": null,
            "align_self": null,
            "border": null,
            "bottom": null,
            "display": null,
            "flex": null,
            "flex_flow": null,
            "grid_area": null,
            "grid_auto_columns": null,
            "grid_auto_flow": null,
            "grid_auto_rows": null,
            "grid_column": null,
            "grid_gap": null,
            "grid_row": null,
            "grid_template_areas": null,
            "grid_template_columns": null,
            "grid_template_rows": null,
            "height": null,
            "justify_content": null,
            "justify_items": null,
            "left": null,
            "margin": null,
            "max_height": null,
            "max_width": null,
            "min_height": null,
            "min_width": null,
            "object_fit": null,
            "object_position": null,
            "order": null,
            "overflow": null,
            "overflow_x": null,
            "overflow_y": null,
            "padding": null,
            "right": null,
            "top": null,
            "visibility": null,
            "width": null
          }
        },
        "0bd0595c3beb4e13bd2fa6ecddfdd4dc": {
          "model_module": "@jupyter-widgets/base",
          "model_name": "LayoutModel",
          "model_module_version": "1.2.0",
          "state": {
            "_model_module": "@jupyter-widgets/base",
            "_model_module_version": "1.2.0",
            "_model_name": "LayoutModel",
            "_view_count": null,
            "_view_module": "@jupyter-widgets/base",
            "_view_module_version": "1.2.0",
            "_view_name": "LayoutView",
            "align_content": null,
            "align_items": null,
            "align_self": null,
            "border": null,
            "bottom": null,
            "display": null,
            "flex": null,
            "flex_flow": null,
            "grid_area": null,
            "grid_auto_columns": null,
            "grid_auto_flow": null,
            "grid_auto_rows": null,
            "grid_column": null,
            "grid_gap": null,
            "grid_row": null,
            "grid_template_areas": null,
            "grid_template_columns": null,
            "grid_template_rows": null,
            "height": null,
            "justify_content": null,
            "justify_items": null,
            "left": null,
            "margin": null,
            "max_height": null,
            "max_width": null,
            "min_height": null,
            "min_width": null,
            "object_fit": null,
            "object_position": null,
            "order": null,
            "overflow": null,
            "overflow_x": null,
            "overflow_y": null,
            "padding": null,
            "right": null,
            "top": null,
            "visibility": null,
            "width": null
          }
        },
        "3f5bce4856c84e8795974d9abc05986a": {
          "model_module": "@jupyter-widgets/controls",
          "model_name": "DescriptionStyleModel",
          "model_module_version": "1.5.0",
          "state": {
            "_model_module": "@jupyter-widgets/controls",
            "_model_module_version": "1.5.0",
            "_model_name": "DescriptionStyleModel",
            "_view_count": null,
            "_view_module": "@jupyter-widgets/base",
            "_view_module_version": "1.2.0",
            "_view_name": "StyleView",
            "description_width": ""
          }
        },
        "e4c75bbfa7394074a05974f15abebac7": {
          "model_module": "@jupyter-widgets/base",
          "model_name": "LayoutModel",
          "model_module_version": "1.2.0",
          "state": {
            "_model_module": "@jupyter-widgets/base",
            "_model_module_version": "1.2.0",
            "_model_name": "LayoutModel",
            "_view_count": null,
            "_view_module": "@jupyter-widgets/base",
            "_view_module_version": "1.2.0",
            "_view_name": "LayoutView",
            "align_content": null,
            "align_items": null,
            "align_self": null,
            "border": null,
            "bottom": null,
            "display": null,
            "flex": null,
            "flex_flow": null,
            "grid_area": null,
            "grid_auto_columns": null,
            "grid_auto_flow": null,
            "grid_auto_rows": null,
            "grid_column": null,
            "grid_gap": null,
            "grid_row": null,
            "grid_template_areas": null,
            "grid_template_columns": null,
            "grid_template_rows": null,
            "height": null,
            "justify_content": null,
            "justify_items": null,
            "left": null,
            "margin": null,
            "max_height": null,
            "max_width": null,
            "min_height": null,
            "min_width": null,
            "object_fit": null,
            "object_position": null,
            "order": null,
            "overflow": null,
            "overflow_x": null,
            "overflow_y": null,
            "padding": null,
            "right": null,
            "top": null,
            "visibility": null,
            "width": null
          }
        },
        "b6d1c1b33eab4cb4b7f33ed85545a46b": {
          "model_module": "@jupyter-widgets/controls",
          "model_name": "ProgressStyleModel",
          "model_module_version": "1.5.0",
          "state": {
            "_model_module": "@jupyter-widgets/controls",
            "_model_module_version": "1.5.0",
            "_model_name": "ProgressStyleModel",
            "_view_count": null,
            "_view_module": "@jupyter-widgets/base",
            "_view_module_version": "1.2.0",
            "_view_name": "StyleView",
            "bar_color": null,
            "description_width": ""
          }
        },
        "6f12d69ccb1e4b17b337696087c1361d": {
          "model_module": "@jupyter-widgets/base",
          "model_name": "LayoutModel",
          "model_module_version": "1.2.0",
          "state": {
            "_model_module": "@jupyter-widgets/base",
            "_model_module_version": "1.2.0",
            "_model_name": "LayoutModel",
            "_view_count": null,
            "_view_module": "@jupyter-widgets/base",
            "_view_module_version": "1.2.0",
            "_view_name": "LayoutView",
            "align_content": null,
            "align_items": null,
            "align_self": null,
            "border": null,
            "bottom": null,
            "display": null,
            "flex": null,
            "flex_flow": null,
            "grid_area": null,
            "grid_auto_columns": null,
            "grid_auto_flow": null,
            "grid_auto_rows": null,
            "grid_column": null,
            "grid_gap": null,
            "grid_row": null,
            "grid_template_areas": null,
            "grid_template_columns": null,
            "grid_template_rows": null,
            "height": null,
            "justify_content": null,
            "justify_items": null,
            "left": null,
            "margin": null,
            "max_height": null,
            "max_width": null,
            "min_height": null,
            "min_width": null,
            "object_fit": null,
            "object_position": null,
            "order": null,
            "overflow": null,
            "overflow_x": null,
            "overflow_y": null,
            "padding": null,
            "right": null,
            "top": null,
            "visibility": null,
            "width": null
          }
        },
        "72c2e02fc6324a5b926a968f5d9fa339": {
          "model_module": "@jupyter-widgets/controls",
          "model_name": "DescriptionStyleModel",
          "model_module_version": "1.5.0",
          "state": {
            "_model_module": "@jupyter-widgets/controls",
            "_model_module_version": "1.5.0",
            "_model_name": "DescriptionStyleModel",
            "_view_count": null,
            "_view_module": "@jupyter-widgets/base",
            "_view_module_version": "1.2.0",
            "_view_name": "StyleView",
            "description_width": ""
          }
        }
      }
    }
  },
  "cells": [
    {
      "cell_type": "code",
      "execution_count": null,
      "metadata": {
        "id": "qnKmwYOev9P5"
      },
      "outputs": [],
      "source": [
        "from google.colab import drive\n",
        "drive.mount(\"content/drive/Chatbot/health.txt\")"
      ]
    },
    {
      "cell_type": "markdown",
      "source": [
        "### Importing necessary modules"
      ],
      "metadata": {
        "id": "nHx_UMLD26Zz"
      }
    },
    {
      "cell_type": "code",
      "source": [
        "# Natural Language Toolkit\n",
        "import nltk"
      ],
      "metadata": {
        "id": "aB0nUeYB1M6t"
      },
      "execution_count": null,
      "outputs": []
    },
    {
      "cell_type": "code",
      "source": [
        "# library for NLP\n",
        "import spacy"
      ],
      "metadata": {
        "id": "Ts71EbYh28tn"
      },
      "execution_count": null,
      "outputs": []
    },
    {
      "cell_type": "markdown",
      "source": [
        "### Text Pre-processing & Tokenization"
      ],
      "metadata": {
        "id": "18YOpaQJ57AM"
      }
    },
    {
      "cell_type": "code",
      "source": [
        "# regular expression\n",
        "import re\n",
        "\n",
        "# Download NLTK resources\n",
        "nltk.download('punkt')\n",
        "nltk.download('stopwords')\n",
        "\n",
        "# Load spaCy model\n",
        "nlp = spacy.load(\"en_core_web_sm\")\n",
        "\n",
        "def clean_text(text):\n",
        "    # Lowercasing\n",
        "    text = text.lower()\n",
        "\n",
        "    # Remove special characters, numbers, and punctuation\n",
        "    text = re.sub(r'[^a-z\\s]', '', text)\n",
        "\n",
        "    return text\n",
        "\n",
        "def tokenize_and_lemmatize(text):\n",
        "    # Tokenization and lemmatization using spaCy\n",
        "    doc = nlp(text)\n",
        "    lemmatized_tokens = [token.lemma_ for token in doc if not token.is_stop]\n",
        "\n",
        "    return lemmatized_tokens"
      ],
      "metadata": {
        "colab": {
          "base_uri": "https://localhost:8080/"
        },
        "id": "GPkqnUCj2-bF",
        "outputId": "33f5259c-eb90-4a49-bc00-559afb616842"
      },
      "execution_count": null,
      "outputs": [
        {
          "output_type": "stream",
          "name": "stderr",
          "text": [
            "[nltk_data] Downloading package punkt to /root/nltk_data...\n",
            "[nltk_data]   Unzipping tokenizers/punkt.zip.\n",
            "[nltk_data] Downloading package stopwords to /root/nltk_data...\n",
            "[nltk_data]   Unzipping corpora/stopwords.zip.\n"
          ]
        }
      ]
    },
    {
      "cell_type": "markdown",
      "source": [
        "### Loading text document"
      ],
      "metadata": {
        "id": "zP23xubb3CNp"
      }
    },
    {
      "cell_type": "code",
      "source": [
        "with open(\"health.txt\", 'r', encoding='utf-8') as file:\n",
        "    dataset = file.read()\n",
        "\n",
        "print(dataset)"
      ],
      "metadata": {
        "colab": {
          "base_uri": "https://localhost:8080/"
        },
        "id": "hvwg90632_0W",
        "outputId": "aac88273-c9f0-4b05-ca38-5a01e924e1b7"
      },
      "execution_count": null,
      "outputs": [
        {
          "output_type": "stream",
          "name": "stdout",
          "text": [
            "Cardiovascular health is crucial for overall well-being. Regular exercise, a balanced diet, and avoiding smoking are key factors in maintaining a healthy heart. It's essential to monitor cholesterol levels and blood pressure regularly.\n",
            "\n",
            "Diabetes is a chronic condition that requires careful management. Individuals with diabetes should focus on controlling their blood sugar levels through a combination of diet, exercise, and medication as prescribed by their healthcare provider.\n",
            "\n",
            "Mental health is as important as physical health. Stress management techniques, such as meditation and deep breathing exercises, can contribute to overall well-being. If experiencing persistent mental health issues, seeking professional help is advisable.\n",
            "\n",
            "Adequate sleep is crucial for cognitive function and overall health. Establishing a consistent sleep routine, creating a comfortable sleep environment, and avoiding stimulants before bedtime can contribute to better sleep quality.\n",
            "\n",
            "The Mediterranean diet, rich in fruits, vegetables, whole grains, and olive oil, has been associated with numerous health benefits. It is known to promote heart health, weight management, and a reduced risk of chronic diseases.\n",
            "\n",
            "Quitting smoking is a challenging but worthwhile endeavor. Support from friends, family, and smoking cessation programs can significantly increase the chances of successfully quitting. Nicotine replacement therapy is also an option.\n",
            "\n",
            "Regular physical activity has numerous benefits, including improved cardiovascular health, weight management, and mood enhancement. Finding enjoyable forms of exercise can make it easier to maintain a consistent routine.\n",
            "\n",
            "Hydration is essential for overall health. Drinking an adequate amount of water helps maintain bodily functions, supports digestion, and contributes to healthy skin. It's recommended to aim for at least eight glasses of water per day.\n",
            "\n",
            "Balanced nutrition plays a crucial role in maintaining a healthy weight and preventing chronic diseases. A diet rich in fruits, vegetables, lean proteins, and whole grains provides essential nutrients for optimal health.\n",
            "\n",
            "Prevention is key in healthcare. Regular check-ups with healthcare providers, vaccinations, and screenings for common health conditions contribute to early detection and effective management.\n",
            "\n"
          ]
        }
      ]
    },
    {
      "cell_type": "code",
      "source": [
        "# Split the dataset into paragraphs\n",
        "paragraphs = dataset.split('\\n')\n",
        "\n",
        "print(len(paragraphs))"
      ],
      "metadata": {
        "colab": {
          "base_uri": "https://localhost:8080/"
        },
        "id": "syl9nYYS3Gdb",
        "outputId": "7034f6d5-6d09-4a6a-88e9-a625a0a566fc"
      },
      "execution_count": null,
      "outputs": [
        {
          "output_type": "stream",
          "name": "stdout",
          "text": [
            "20\n"
          ]
        }
      ]
    },
    {
      "cell_type": "code",
      "source": [
        "# Clean and preprocess each paragraph\n",
        "cleaned_paragraphs = [clean_text(paragraph) for paragraph in paragraphs]\n",
        "preprocessed_paragraphs = [tokenize_and_lemmatize(paragraph) for paragraph in cleaned_paragraphs]\n",
        "\n",
        "# removing newline characters\n",
        "for i in preprocessed_paragraphs:\n",
        "    if i==[]:\n",
        "        preprocessed_paragraphs.remove(i)\n",
        "\n",
        "# Print the cleaned and preprocessed paragraphs\n",
        "for i, paragraph in enumerate(preprocessed_paragraphs, 1):\n",
        "    print(f\"Paragraph {i}:\\n{paragraph}\\n\")"
      ],
      "metadata": {
        "colab": {
          "base_uri": "https://localhost:8080/"
        },
        "id": "r46rjuN93JHs",
        "outputId": "3c939ec3-1840-4f0a-cee7-e647f74b40d8"
      },
      "execution_count": null,
      "outputs": [
        {
          "output_type": "stream",
          "name": "stdout",
          "text": [
            "Paragraph 1:\n",
            "['cardiovascular', 'health', 'crucial', 'overall', 'wellbee', 'regular', 'exercise', 'balanced', 'diet', 'avoid', 'smoking', 'key', 'factor', 'maintain', 'healthy', 'heart', 'essential', 'monitor', 'cholesterol', 'level', 'blood', 'pressure', 'regularly']\n",
            "\n",
            "Paragraph 2:\n",
            "['diabetes', 'chronic', 'condition', 'require', 'careful', 'management', 'individual', 'diabete', 'focus', 'control', 'blood', 'sugar', 'level', 'combination', 'diet', 'exercise', 'medication', 'prescribe', 'healthcare', 'provider']\n",
            "\n",
            "Paragraph 3:\n",
            "['mental', 'health', 'important', 'physical', 'health', 'stress', 'management', 'technique', 'meditation', 'deep', 'breathing', 'exercise', 'contribute', 'overall', 'wellbeing', 'experience', 'persistent', 'mental', 'health', 'issue', 'seek', 'professional', 'help', 'advisable']\n",
            "\n",
            "Paragraph 4:\n",
            "['adequate', 'sleep', 'crucial', 'cognitive', 'function', 'overall', 'health', 'establish', 'consistent', 'sleep', 'routine', 'create', 'comfortable', 'sleep', 'environment', 'avoid', 'stimulant', 'bedtime', 'contribute', 'well', 'sleep', 'quality']\n",
            "\n",
            "Paragraph 5:\n",
            "['mediterranean', 'diet', 'rich', 'fruit', 'vegetable', 'grain', 'olive', 'oil', 'associate', 'numerous', 'health', 'benefit', 'know', 'promote', 'heart', 'health', 'weight', 'management', 'reduce', 'risk', 'chronic', 'disease']\n",
            "\n",
            "Paragraph 6:\n",
            "['quit', 'smoking', 'challenging', 'worthwhile', 'endeavor', 'support', 'friend', 'family', 'smoking', 'cessation', 'program', 'significantly', 'increase', 'chance', 'successfully', 'quit', 'nicotine', 'replacement', 'therapy', 'option']\n",
            "\n",
            "Paragraph 7:\n",
            "['regular', 'physical', 'activity', 'numerous', 'benefit', 'include', 'improve', 'cardiovascular', 'health', 'weight', 'management', 'mood', 'enhancement', 'find', 'enjoyable', 'form', 'exercise', 'easy', 'maintain', 'consistent', 'routine']\n",
            "\n",
            "Paragraph 8:\n",
            "['hydration', 'essential', 'overall', 'health', 'drink', 'adequate', 'water', 'help', 'maintain', 'bodily', 'function', 'support', 'digestion', 'contribute', 'healthy', 'skin', 'recommend', 'aim', 'glass', 'water', 'day']\n",
            "\n",
            "Paragraph 9:\n",
            "['balanced', 'nutrition', 'play', 'crucial', 'role', 'maintain', 'healthy', 'weight', 'prevent', 'chronic', 'disease', 'diet', 'rich', 'fruit', 'vegetable', 'lean', 'protein', 'grain', 'provide', 'essential', 'nutrient', 'optimal', 'health']\n",
            "\n",
            "Paragraph 10:\n",
            "['prevention', 'key', 'healthcare', 'regular', 'checkup', 'healthcare', 'provider', 'vaccination', 'screening', 'common', 'health', 'condition', 'contribute', 'early', 'detection', 'effective', 'management']\n",
            "\n"
          ]
        }
      ]
    },
    {
      "cell_type": "code",
      "source": [
        "len(preprocessed_paragraphs)"
      ],
      "metadata": {
        "colab": {
          "base_uri": "https://localhost:8080/"
        },
        "id": "xJ2NUFZh3K3Z",
        "outputId": "971f9efb-a3b3-4ead-9bab-80e752395cfa"
      },
      "execution_count": null,
      "outputs": [
        {
          "output_type": "execute_result",
          "data": {
            "text/plain": [
              "10"
            ]
          },
          "metadata": {},
          "execution_count": 8
        }
      ]
    },
    {
      "cell_type": "markdown",
      "source": [
        "## Embedding Techniques"
      ],
      "metadata": {
        "id": "D6dPrWYZ3O4X"
      }
    },
    {
      "cell_type": "markdown",
      "source": [
        "### Word Embeddings:"
      ],
      "metadata": {
        "id": "tcykM3Lv6Nlo"
      }
    },
    {
      "cell_type": "code",
      "source": [
        "words = []\n",
        "for i in preprocessed_paragraphs:\n",
        "    for j in i:\n",
        "        words.append(j)\n",
        "\n",
        "print(len(words))"
      ],
      "metadata": {
        "colab": {
          "base_uri": "https://localhost:8080/"
        },
        "id": "Fz5Tfswh3Nfa",
        "outputId": "29b08ed7-38ff-48bc-91de-6f0c3fbce7c6"
      },
      "execution_count": null,
      "outputs": [
        {
          "output_type": "stream",
          "name": "stdout",
          "text": [
            "213\n"
          ]
        }
      ]
    },
    {
      "cell_type": "code",
      "source": [
        "unique_words = []\n",
        "for i in words:\n",
        "    if i not in unique_words:\n",
        "        unique_words.append(i)\n",
        "\n",
        "print(len(unique_words))"
      ],
      "metadata": {
        "colab": {
          "base_uri": "https://localhost:8080/"
        },
        "id": "zvSgPew_3Scv",
        "outputId": "12fa6b2b-dfbf-4329-e4da-0554cd050788"
      },
      "execution_count": null,
      "outputs": [
        {
          "output_type": "stream",
          "name": "stdout",
          "text": [
            "139\n"
          ]
        }
      ]
    },
    {
      "cell_type": "code",
      "source": [
        "print(unique_words)"
      ],
      "metadata": {
        "colab": {
          "base_uri": "https://localhost:8080/"
        },
        "id": "DdZNEYT73Tk1",
        "outputId": "939e8c36-ee1c-4997-b46b-8f85bf35137d"
      },
      "execution_count": null,
      "outputs": [
        {
          "output_type": "stream",
          "name": "stdout",
          "text": [
            "['cardiovascular', 'health', 'crucial', 'overall', 'wellbee', 'regular', 'exercise', 'balanced', 'diet', 'avoid', 'smoking', 'key', 'factor', 'maintain', 'healthy', 'heart', 'essential', 'monitor', 'cholesterol', 'level', 'blood', 'pressure', 'regularly', 'diabetes', 'chronic', 'condition', 'require', 'careful', 'management', 'individual', 'diabete', 'focus', 'control', 'sugar', 'combination', 'medication', 'prescribe', 'healthcare', 'provider', 'mental', 'important', 'physical', 'stress', 'technique', 'meditation', 'deep', 'breathing', 'contribute', 'wellbeing', 'experience', 'persistent', 'issue', 'seek', 'professional', 'help', 'advisable', 'adequate', 'sleep', 'cognitive', 'function', 'establish', 'consistent', 'routine', 'create', 'comfortable', 'environment', 'stimulant', 'bedtime', 'well', 'quality', 'mediterranean', 'rich', 'fruit', 'vegetable', 'grain', 'olive', 'oil', 'associate', 'numerous', 'benefit', 'know', 'promote', 'weight', 'reduce', 'risk', 'disease', 'quit', 'challenging', 'worthwhile', 'endeavor', 'support', 'friend', 'family', 'cessation', 'program', 'significantly', 'increase', 'chance', 'successfully', 'nicotine', 'replacement', 'therapy', 'option', 'activity', 'include', 'improve', 'mood', 'enhancement', 'find', 'enjoyable', 'form', 'easy', 'hydration', 'drink', 'water', 'bodily', 'digestion', 'skin', 'recommend', 'aim', 'glass', 'day', 'nutrition', 'play', 'role', 'prevent', 'lean', 'protein', 'provide', 'nutrient', 'optimal', 'prevention', 'checkup', 'vaccination', 'screening', 'common', 'early', 'detection', 'effective']\n"
          ]
        }
      ]
    },
    {
      "cell_type": "markdown",
      "source": [
        "### One-Hot Encoding"
      ],
      "metadata": {
        "id": "ME7Z0zEw3WYX"
      }
    },
    {
      "cell_type": "code",
      "source": [
        "from sklearn.preprocessing import OneHotEncoder\n",
        "import pandas as pd\n",
        "\n",
        "# Convert paragraphs to a DataFrame\n",
        "df = pd.DataFrame({'word': unique_words})\n",
        "\n",
        "# Use OneHotEncoder\n",
        "encoder = OneHotEncoder(sparse=False)\n",
        "one_hot_encoded = encoder.fit_transform(df[['word']])\n",
        "\n",
        "print(\"One-Hot Encoded:\")\n",
        "print(one_hot_encoded)"
      ],
      "metadata": {
        "colab": {
          "base_uri": "https://localhost:8080/"
        },
        "id": "5qF9gzez3VH5",
        "outputId": "83c0e6f3-84e0-48e5-e24e-72f1bac0c4e8"
      },
      "execution_count": null,
      "outputs": [
        {
          "output_type": "stream",
          "name": "stdout",
          "text": [
            "One-Hot Encoded:\n",
            "[[0. 0. 0. ... 0. 0. 0.]\n",
            " [0. 0. 0. ... 0. 0. 0.]\n",
            " [0. 0. 0. ... 0. 0. 0.]\n",
            " ...\n",
            " [0. 0. 0. ... 0. 0. 0.]\n",
            " [0. 0. 0. ... 0. 0. 0.]\n",
            " [0. 0. 0. ... 0. 0. 0.]]\n"
          ]
        },
        {
          "output_type": "stream",
          "name": "stderr",
          "text": [
            "/usr/local/lib/python3.10/dist-packages/sklearn/preprocessing/_encoders.py:868: FutureWarning: `sparse` was renamed to `sparse_output` in version 1.2 and will be removed in 1.4. `sparse_output` is ignored unless you leave `sparse` to its default value.\n",
            "  warnings.warn(\n"
          ]
        }
      ]
    },
    {
      "cell_type": "code",
      "source": [
        "print(one_hot_encoded[0])"
      ],
      "metadata": {
        "colab": {
          "base_uri": "https://localhost:8080/"
        },
        "id": "ijIbPjMy3Y50",
        "outputId": "cf850d56-3f65-4084-944e-e3a905aeb55b"
      },
      "execution_count": null,
      "outputs": [
        {
          "output_type": "stream",
          "name": "stdout",
          "text": [
            "[0. 0. 0. 0. 0. 0. 0. 0. 0. 0. 0. 0. 1. 0. 0. 0. 0. 0. 0. 0. 0. 0. 0. 0.\n",
            " 0. 0. 0. 0. 0. 0. 0. 0. 0. 0. 0. 0. 0. 0. 0. 0. 0. 0. 0. 0. 0. 0. 0. 0.\n",
            " 0. 0. 0. 0. 0. 0. 0. 0. 0. 0. 0. 0. 0. 0. 0. 0. 0. 0. 0. 0. 0. 0. 0. 0.\n",
            " 0. 0. 0. 0. 0. 0. 0. 0. 0. 0. 0. 0. 0. 0. 0. 0. 0. 0. 0. 0. 0. 0. 0. 0.\n",
            " 0. 0. 0. 0. 0. 0. 0. 0. 0. 0. 0. 0. 0. 0. 0. 0. 0. 0. 0. 0. 0. 0. 0. 0.\n",
            " 0. 0. 0. 0. 0. 0. 0. 0. 0. 0. 0. 0. 0. 0. 0. 0. 0. 0. 0.]\n"
          ]
        }
      ]
    },
    {
      "cell_type": "code",
      "source": [
        "one_hot_encoded[0].shape"
      ],
      "metadata": {
        "colab": {
          "base_uri": "https://localhost:8080/"
        },
        "id": "6O9TCONt3ch3",
        "outputId": "826bb8f7-b76b-4395-b06b-1cad1736ca77"
      },
      "execution_count": null,
      "outputs": [
        {
          "output_type": "execute_result",
          "data": {
            "text/plain": [
              "(139,)"
            ]
          },
          "metadata": {},
          "execution_count": 14
        }
      ]
    },
    {
      "cell_type": "markdown",
      "source": [
        "### Bag of Words"
      ],
      "metadata": {
        "id": "8X5dtuSm3eh0"
      }
    },
    {
      "cell_type": "code",
      "source": [
        "from sklearn.feature_extraction.text import CountVectorizer\n",
        "\n",
        "# Convert paragraphs to a list of strings\n",
        "paragraphs_str = [' '.join(paragraph) for paragraph in preprocessed_paragraphs]\n",
        "\n",
        "# Create a CountVectorizer\n",
        "vectorizer = CountVectorizer()\n",
        "bow_matrix = vectorizer.fit_transform(paragraphs_str)\n",
        "\n",
        "print(\"Bag of Words Matrix:\")\n",
        "print(bow_matrix.toarray())"
      ],
      "metadata": {
        "colab": {
          "base_uri": "https://localhost:8080/"
        },
        "id": "vLg_vpFP3c2e",
        "outputId": "8efc9692-3182-4976-cfc0-f4013ad51dbd"
      },
      "execution_count": null,
      "outputs": [
        {
          "output_type": "stream",
          "name": "stdout",
          "text": [
            "Bag of Words Matrix:\n",
            "[[0 0 0 ... 1 0 0]\n",
            " [0 0 0 ... 0 0 0]\n",
            " [0 0 1 ... 0 1 0]\n",
            " ...\n",
            " [0 1 0 ... 0 0 0]\n",
            " [0 0 0 ... 0 0 0]\n",
            " [0 0 0 ... 0 0 0]]\n"
          ]
        }
      ]
    },
    {
      "cell_type": "code",
      "source": [
        "print(bow_matrix.toarray()[2])"
      ],
      "metadata": {
        "id": "FOi5fbkG3htj",
        "colab": {
          "base_uri": "https://localhost:8080/"
        },
        "outputId": "f93c25a1-0c60-4603-e364-22f6067c28bf"
      },
      "execution_count": null,
      "outputs": [
        {
          "output_type": "stream",
          "name": "stdout",
          "text": [
            "[0 0 1 0 0 0 0 0 0 0 0 1 0 0 0 0 0 0 0 0 0 0 0 0 0 0 1 0 0 0 0 1 0 0 0 0 0\n",
            " 0 0 0 0 0 0 0 0 0 0 0 1 1 0 0 0 0 0 0 0 0 0 0 3 0 0 0 1 0 1 0 0 0 0 1 0 0\n",
            " 0 0 0 1 0 1 0 2 0 0 0 0 0 0 0 0 0 0 1 1 1 0 0 0 0 0 1 0 0 0 0 0 0 0 0 0 0\n",
            " 0 0 0 0 0 0 0 0 1 0 0 0 0 0 1 0 0 0 1 0 0 0 0 0 0 0 1 0]\n"
          ]
        }
      ]
    },
    {
      "cell_type": "markdown",
      "source": [
        "### TF-IDF"
      ],
      "metadata": {
        "id": "fEvST7Rfh73K"
      }
    },
    {
      "cell_type": "code",
      "source": [
        "from sklearn.feature_extraction.text import TfidfVectorizer\n",
        "\n",
        "# Convert paragraphs to a list of strings\n",
        "paragraphs_str = [' '.join(paragraph) for paragraph in preprocessed_paragraphs]\n",
        "\n",
        "# Create a TF-IDF Vectorizer\n",
        "tfidf_vectorizer = TfidfVectorizer()\n",
        "tfidf_matrix = tfidf_vectorizer.fit_transform(paragraphs_str)\n",
        "\n",
        "print(\"TF-IDF Matrix:\")\n",
        "print(tfidf_matrix.toarray())"
      ],
      "metadata": {
        "colab": {
          "base_uri": "https://localhost:8080/"
        },
        "id": "WCy7SYF5h_At",
        "outputId": "0aa368d0-d00b-473e-abdd-66d1646c5c13"
      },
      "execution_count": null,
      "outputs": [
        {
          "output_type": "stream",
          "name": "stdout",
          "text": [
            "TF-IDF Matrix:\n",
            "[[0.         0.         0.         ... 0.2504722  0.         0.        ]\n",
            " [0.         0.         0.         ... 0.         0.         0.        ]\n",
            " [0.         0.         0.21376929 ... 0.         0.21376929 0.        ]\n",
            " ...\n",
            " [0.         0.19761223 0.         ... 0.         0.         0.        ]\n",
            " [0.         0.         0.         ... 0.         0.         0.        ]\n",
            " [0.         0.         0.         ... 0.         0.         0.        ]]\n"
          ]
        }
      ]
    },
    {
      "cell_type": "code",
      "source": [
        "print(tfidf_matrix.toarray()[0])"
      ],
      "metadata": {
        "colab": {
          "base_uri": "https://localhost:8080/"
        },
        "id": "6M7QPxdyiAYH",
        "outputId": "d2392081-0aef-422a-85aa-119ba1d6a41b",
        "collapsed": true
      },
      "execution_count": null,
      "outputs": [
        {
          "output_type": "stream",
          "name": "stdout",
          "text": [
            "[0.         0.         0.         0.         0.         0.21292425\n",
            " 0.21292425 0.         0.         0.21292425 0.         0.\n",
            " 0.21292425 0.         0.         0.         0.         0.\n",
            " 0.2504722  0.         0.         0.         0.         0.\n",
            " 0.         0.         0.         0.         0.         0.18628356\n",
            " 0.         0.         0.         0.         0.         0.16561944\n",
            " 0.         0.         0.         0.         0.         0.\n",
            " 0.         0.         0.         0.         0.18628356 0.\n",
            " 0.16561944 0.         0.2504722  0.         0.         0.\n",
            " 0.         0.         0.         0.         0.         0.\n",
            " 0.11118767 0.         0.18628356 0.21292425 0.         0.\n",
            " 0.         0.         0.         0.         0.         0.\n",
            " 0.21292425 0.         0.         0.21292425 0.16561944 0.\n",
            " 0.         0.         0.         0.         0.2504722  0.\n",
            " 0.         0.         0.         0.         0.         0.\n",
            " 0.         0.         0.16561944 0.         0.         0.\n",
            " 0.         0.2504722  0.         0.         0.         0.\n",
            " 0.         0.         0.         0.         0.         0.\n",
            " 0.         0.         0.18628356 0.2504722  0.         0.\n",
            " 0.         0.         0.         0.         0.         0.\n",
            " 0.         0.         0.         0.21292425 0.         0.\n",
            " 0.         0.         0.         0.         0.         0.\n",
            " 0.         0.         0.         0.         0.2504722  0.\n",
            " 0.        ]\n"
          ]
        }
      ]
    },
    {
      "cell_type": "markdown",
      "source": [
        "### Word2Vec"
      ],
      "metadata": {
        "id": "Fm4ziSrliE_Y"
      }
    },
    {
      "cell_type": "code",
      "source": [
        "from gensim.models import Word2Vec\n",
        "import gensim\n",
        "import warnings\n",
        "warnings.filterwarnings(action='ignore')\n",
        "\n",
        "para = preprocessed_paragraphs"
      ],
      "metadata": {
        "id": "Vh3zY3R5iBx3"
      },
      "execution_count": null,
      "outputs": []
    },
    {
      "cell_type": "code",
      "source": [
        "# Create CBOW model (continuous bag of words)\n",
        "model1 = gensim.models.Word2Vec(para, min_count=1,\n",
        "                                vector_size=100, window=5)\n",
        "\n",
        "# Print results\n",
        "print(\"Cosine similarity between 'heart' \" +\n",
        "      \"and 'cardiovascular' - CBOW : \",\n",
        "      model1.wv.similarity('heart', 'cardiovascular'))\n",
        "\n",
        "print(\"Cosine similarity between 'heart' \" +\n",
        "      \"and 'exercise' - CBOW : \",\n",
        "      model1.wv.similarity('heart', 'exercise'))"
      ],
      "metadata": {
        "colab": {
          "base_uri": "https://localhost:8080/"
        },
        "id": "QaTeDG6PiH-q",
        "outputId": "f0913b7c-21a9-4659-bca0-6edff8f54c27"
      },
      "execution_count": null,
      "outputs": [
        {
          "output_type": "stream",
          "name": "stdout",
          "text": [
            "Cosine similarity between 'heart' and 'cardiovascular' - CBOW :  0.023253532\n",
            "Cosine similarity between 'heart' and 'exercise' - CBOW :  0.03419761\n"
          ]
        }
      ]
    },
    {
      "cell_type": "code",
      "source": [
        "# Create Skip Gram model\n",
        "model2 = gensim.models.Word2Vec(para, min_count=1, vector_size=100,\n",
        "                                window=5, sg=1)\n",
        "\n",
        "# Print results\n",
        "print(\"Cosine similarity between 'heart' \" +\n",
        "      \"and 'cardiovascular' - Skip Gram : \",\n",
        "      model2.wv.similarity('heart', 'cardiovascular'))\n",
        "\n",
        "print(\"Cosine similarity between 'heart' \" +\n",
        "      \"and 'exercise' - Skip Gram : \",\n",
        "      model2.wv.similarity('heart', 'exercise'))"
      ],
      "metadata": {
        "colab": {
          "base_uri": "https://localhost:8080/"
        },
        "id": "5C5d4ZZEiI-7",
        "outputId": "df9f4e40-1499-4cef-a9d9-1c68677591ed"
      },
      "execution_count": null,
      "outputs": [
        {
          "output_type": "stream",
          "name": "stdout",
          "text": [
            "Cosine similarity between 'heart' and 'cardiovascular' - Skip Gram :  0.031060148\n",
            "Cosine similarity between 'heart' and 'exercise' - Skip Gram :  0.04141001\n"
          ]
        }
      ]
    },
    {
      "cell_type": "markdown",
      "source": [
        "### FastText"
      ],
      "metadata": {
        "id": "IID0u1OuiUFk"
      }
    },
    {
      "cell_type": "code",
      "source": [
        "!pip install fasttext"
      ],
      "metadata": {
        "colab": {
          "base_uri": "https://localhost:8080/"
        },
        "id": "ejILcezXiKGX",
        "outputId": "4237de34-e0c6-4815-d286-9983795b0a4b"
      },
      "execution_count": null,
      "outputs": [
        {
          "output_type": "stream",
          "name": "stdout",
          "text": [
            "Collecting fasttext\n",
            "  Downloading fasttext-0.9.2.tar.gz (68 kB)\n",
            "\u001b[2K     \u001b[90m━━━━━━━━━━━━━━━━━━━━━━━━━━━━━━━━━━━━━━━━\u001b[0m \u001b[32m68.8/68.8 kB\u001b[0m \u001b[31m731.7 kB/s\u001b[0m eta \u001b[36m0:00:00\u001b[0m\n",
            "\u001b[?25h  Preparing metadata (setup.py) ... \u001b[?25l\u001b[?25hdone\n",
            "Collecting pybind11>=2.2 (from fasttext)\n",
            "  Using cached pybind11-2.11.1-py3-none-any.whl (227 kB)\n",
            "Requirement already satisfied: setuptools>=0.7.0 in /usr/local/lib/python3.10/dist-packages (from fasttext) (67.7.2)\n",
            "Requirement already satisfied: numpy in /usr/local/lib/python3.10/dist-packages (from fasttext) (1.23.5)\n",
            "Building wheels for collected packages: fasttext\n",
            "  Building wheel for fasttext (setup.py) ... \u001b[?25l\u001b[?25hdone\n",
            "  Created wheel for fasttext: filename=fasttext-0.9.2-cp310-cp310-linux_x86_64.whl size=4199774 sha256=41b4cb9dae23ee9df58acb7976b0f0c2c9f46882fde1fdbea63b10127ce25794\n",
            "  Stored in directory: /root/.cache/pip/wheels/a5/13/75/f811c84a8ab36eedbaef977a6a58a98990e8e0f1967f98f394\n",
            "Successfully built fasttext\n",
            "Installing collected packages: pybind11, fasttext\n",
            "Successfully installed fasttext-0.9.2 pybind11-2.11.1\n"
          ]
        }
      ]
    },
    {
      "cell_type": "code",
      "source": [
        "# joining the words by space in each element\n",
        "joint = []\n",
        "for i in para:\n",
        "  joint.append(' '.join(i))"
      ],
      "metadata": {
        "id": "W_dZCfBCkMuo"
      },
      "execution_count": null,
      "outputs": []
    },
    {
      "cell_type": "code",
      "source": [
        "# Save preprocessed data to a text file\n",
        "altered = \"altered_health.txt\"\n",
        "with open(altered, \"w\") as a_file:\n",
        "    a_file.write('\\n'.join(joint))"
      ],
      "metadata": {
        "id": "uDoXlGj1qzoA"
      },
      "execution_count": null,
      "outputs": []
    },
    {
      "cell_type": "code",
      "source": [
        "# Train FastText model\n",
        "import fasttext\n",
        "model = fasttext.train_unsupervised(altered, model='skipgram', dim=100, epoch=10)"
      ],
      "metadata": {
        "id": "1_k88LzErPjW"
      },
      "execution_count": null,
      "outputs": []
    },
    {
      "cell_type": "code",
      "source": [
        "# Get the vector for a specific word\n",
        "word_vector = model.get_word_vector(\"health\")\n",
        "\n",
        "print(\"Vector for 'health':\", word_vector)"
      ],
      "metadata": {
        "colab": {
          "base_uri": "https://localhost:8080/"
        },
        "id": "KmmpIZpergEo",
        "outputId": "1c6b82d0-31b2-430c-e6eb-5ac3e2c675cb"
      },
      "execution_count": null,
      "outputs": [
        {
          "output_type": "stream",
          "name": "stdout",
          "text": [
            "Vector for 'health': [-4.05785482e-04  5.00571332e-04 -2.00262366e-04 -2.55653285e-04\n",
            "  3.63889674e-04  1.91550032e-04  2.28520585e-04  3.32912532e-05\n",
            "  4.80392569e-04  4.67677251e-04 -9.36014258e-05  6.32695956e-05\n",
            "  4.20547032e-04  4.18728945e-04 -3.17113358e-04 -2.02521318e-04\n",
            "  7.14762718e-05  4.04394028e-04 -6.62395760e-05 -4.45568643e-04\n",
            " -1.48450985e-04  5.21324342e-04  3.52722069e-04 -2.20005677e-04\n",
            "  1.64534242e-04 -4.38835763e-04 -6.74953553e-05 -2.21836090e-04\n",
            " -1.29997541e-04  4.13814967e-04 -4.38320363e-04 -1.86014324e-04\n",
            " -3.91636218e-04 -4.41969285e-04 -5.96355530e-04 -6.82532263e-05\n",
            "  7.34719433e-05 -3.95966345e-04 -1.23488076e-04 -3.97349475e-04\n",
            "  3.66439665e-04  5.47844509e-04  1.06830055e-04  1.42785924e-04\n",
            " -1.23222460e-04  1.31390319e-04 -1.16527204e-04 -2.96815968e-04\n",
            " -4.94392239e-04  1.96446068e-04 -3.90156667e-04  4.49477491e-04\n",
            " -4.52328182e-04  3.28063936e-04 -1.79545561e-04 -2.37955683e-04\n",
            " -7.60800904e-05  1.22528334e-04  3.50169314e-04  1.38448755e-04\n",
            " -3.53573443e-04  3.25922738e-04  4.39423922e-04  3.96473595e-04\n",
            " -1.24127939e-04 -2.02584306e-05 -4.91413753e-04  2.31166618e-04\n",
            "  3.52234201e-04  2.22138231e-04 -5.00678376e-04  9.19731683e-05\n",
            " -1.27166946e-04 -5.26049225e-05 -3.45652261e-05 -2.43383023e-04\n",
            "  4.54287918e-04  5.44332725e-04  4.82985924e-05 -1.24821992e-04\n",
            " -4.69241728e-04  2.35660365e-04  5.59435517e-04 -4.36324335e-04\n",
            " -2.04885713e-04 -3.67738568e-04  3.66548352e-06 -1.31288019e-04\n",
            " -2.56308704e-04 -8.22668371e-05  5.56690269e-04  2.89816060e-04\n",
            "  5.29370562e-04 -4.57327376e-04  2.24920193e-04 -4.34583490e-04\n",
            "  3.23185232e-04  5.54216735e-04 -4.00214107e-04 -2.09648671e-04]\n"
          ]
        }
      ]
    },
    {
      "cell_type": "code",
      "source": [
        "# Find the most similar words to a given word\n",
        "similar_words = model.get_nearest_neighbors(\"heart\", k=10)\n",
        "print(\"\\nMost similar words to 'heart':\")\n",
        "for word, score in similar_words:\n",
        "    print(f\"{word}: {score}\")"
      ],
      "metadata": {
        "colab": {
          "base_uri": "https://localhost:8080/"
        },
        "id": "gMIp7mQ9qgX3",
        "outputId": "79dd279c-03bf-4b22-9f32-79a78f58eb85"
      },
      "execution_count": null,
      "outputs": [
        {
          "output_type": "stream",
          "name": "stdout",
          "text": [
            "\n",
            "Most similar words to 'heart':\n",
            "0.03030896745622158: health\n",
            "0.012669890187680721: </s>\n",
            "-0.08562008291482925: management\n"
          ]
        }
      ]
    },
    {
      "cell_type": "markdown",
      "source": [
        "### BERT"
      ],
      "metadata": {
        "id": "KgjyTVKWs9s3"
      }
    },
    {
      "cell_type": "code",
      "source": [
        "from transformers import BertTokenizer, BertModel\n",
        "import torch"
      ],
      "metadata": {
        "id": "ZGXY-hzZrp3H"
      },
      "execution_count": null,
      "outputs": []
    },
    {
      "cell_type": "code",
      "source": [
        "# Load pre-trained BERT model and tokenizer\n",
        "model_name = 'bert-base-uncased'\n",
        "tokenizer = BertTokenizer.from_pretrained(model_name)\n",
        "model = BertModel.from_pretrained(model_name)"
      ],
      "metadata": {
        "colab": {
          "base_uri": "https://localhost:8080/",
          "height": 177,
          "referenced_widgets": [
            "371e97a7a5d545b59d9722bd3d9e7285",
            "1ca329b0be6e42179deaedae503dc948",
            "b2fe0a4eeabf4ec5a27771caddeed11a",
            "8f724dd68ae14f719474238eff3b64df",
            "26c2c8bbade24524b19d01b2de540d10",
            "5fc10abe62ab4eef99fcabf48f537502",
            "79967219348b432ca5a324f2d31273ab",
            "b2ffefb6795a4b15857e5b193818645a",
            "de83a405b5544d18ab3b96b9443b5aad",
            "f3c768f2315d48a69c472745ec019084",
            "d453b1efe51c4791b06a1a0a4a197e3a",
            "87e75e9fed8f41f0be2f262cba2de0e1",
            "d45fd737225247f9b8f85516d6ac4a70",
            "822e3a76edc44e81a372e0e637d0c9c3",
            "f8e82441b0b3426baa426742f36577dd",
            "0baea443dd094698b8c4716919b5e912",
            "0c19bc123e7a46b3876d3666887b2102",
            "16f2bee838544d2984661a653e214af3",
            "e57c956907be417fae58ee162a0ac2ad",
            "04bfc0fa9b064ce79c113bf05156507c",
            "a37413e306b241e988e72b7e6b81d4ef",
            "dcfd1c67a95d4cb981bb690ba917ec4b",
            "afb4bd6c25a44cdebf5952d21b31ea07",
            "ee8b9546dcbd406b915f42290cbe84fb",
            "262a68739f40449daa4ed663c61ce728",
            "c9934d0daa444d289e3e55e519295c74",
            "e285b77bd4ec44c2b680a31031a8217c",
            "d6c49b66e3404610837b5dd05e3fc2b1",
            "a6fabb6741e54fa0b85d5d8074343720",
            "02dd1d1fd670428b92bcc6d467ccd75d",
            "e0eb108a3371486cbc6b4b12687ffd7d",
            "dc414b77b77941619c01dad09301683c",
            "a362304b874f41b09b231717bef9c8b7",
            "5d1a0d6e1bfa497b8c37327b1725a28c",
            "b65115b5c5814529ab6326f17b85d0f2",
            "9ca63e211b204ca5925e24155287cfcd",
            "e8619d68bf254b989e24db96bc46643f",
            "43ceb19f78614ad995ec01568e2d7471",
            "3de3d42d37cc4e829bb3318fc4089594",
            "73259c5cc53543219159efd6b8d7cf66",
            "82de6e72320d46ff9c0fb99c2e996360",
            "c5af1c18ab034f59bc075a2440baf420",
            "33e15ec4d78949b2a49737bbc9d1be18",
            "379de14684c84ee99164061867364b46",
            "53f210d538c24a2bbd1d352fc5a5514b",
            "8797681fe9bf49d0bb9f3b7ccf7338e7",
            "0a7e1ed598524152ab23af87376e98de",
            "07334f37b8e84725aac012ec57cc6ef5",
            "c9c675efa5dd4693942e664d9740d970",
            "0bd0595c3beb4e13bd2fa6ecddfdd4dc",
            "3f5bce4856c84e8795974d9abc05986a",
            "e4c75bbfa7394074a05974f15abebac7",
            "b6d1c1b33eab4cb4b7f33ed85545a46b",
            "6f12d69ccb1e4b17b337696087c1361d",
            "72c2e02fc6324a5b926a968f5d9fa339"
          ]
        },
        "id": "35VXCSGIuPwe",
        "outputId": "d6aeee8c-728c-49b4-f21a-e9c0be4c846d"
      },
      "execution_count": null,
      "outputs": [
        {
          "output_type": "display_data",
          "data": {
            "text/plain": [
              "tokenizer_config.json:   0%|          | 0.00/28.0 [00:00<?, ?B/s]"
            ],
            "application/vnd.jupyter.widget-view+json": {
              "version_major": 2,
              "version_minor": 0,
              "model_id": "371e97a7a5d545b59d9722bd3d9e7285"
            }
          },
          "metadata": {}
        },
        {
          "output_type": "display_data",
          "data": {
            "text/plain": [
              "vocab.txt:   0%|          | 0.00/232k [00:00<?, ?B/s]"
            ],
            "application/vnd.jupyter.widget-view+json": {
              "version_major": 2,
              "version_minor": 0,
              "model_id": "87e75e9fed8f41f0be2f262cba2de0e1"
            }
          },
          "metadata": {}
        },
        {
          "output_type": "display_data",
          "data": {
            "text/plain": [
              "tokenizer.json:   0%|          | 0.00/466k [00:00<?, ?B/s]"
            ],
            "application/vnd.jupyter.widget-view+json": {
              "version_major": 2,
              "version_minor": 0,
              "model_id": "afb4bd6c25a44cdebf5952d21b31ea07"
            }
          },
          "metadata": {}
        },
        {
          "output_type": "display_data",
          "data": {
            "text/plain": [
              "config.json:   0%|          | 0.00/570 [00:00<?, ?B/s]"
            ],
            "application/vnd.jupyter.widget-view+json": {
              "version_major": 2,
              "version_minor": 0,
              "model_id": "5d1a0d6e1bfa497b8c37327b1725a28c"
            }
          },
          "metadata": {}
        },
        {
          "output_type": "display_data",
          "data": {
            "text/plain": [
              "model.safetensors:   0%|          | 0.00/440M [00:00<?, ?B/s]"
            ],
            "application/vnd.jupyter.widget-view+json": {
              "version_major": 2,
              "version_minor": 0,
              "model_id": "53f210d538c24a2bbd1d352fc5a5514b"
            }
          },
          "metadata": {}
        }
      ]
    },
    {
      "cell_type": "code",
      "source": [
        "# Define a function to obtain BERT embeddings for a word\n",
        "def get_bert_embedding(word):\n",
        "    inputs = tokenizer(word, return_tensors=\"pt\")\n",
        "    outputs = model(**inputs)\n",
        "    embeddings = outputs.last_hidden_state.mean(dim=1)  # Taking the mean of hidden states as the word embedding\n",
        "    return embeddings"
      ],
      "metadata": {
        "id": "Esj-nryXvCBE"
      },
      "execution_count": null,
      "outputs": []
    },
    {
      "cell_type": "code",
      "source": [
        "# Example usage\n",
        "word = para[0][0]\n",
        "bert_embedding = get_bert_embedding(word)\n",
        "\n",
        "print(\"BERT Embedding Shape for the word 'healthcare':\", bert_embedding.shape)"
      ],
      "metadata": {
        "colab": {
          "base_uri": "https://localhost:8080/"
        },
        "id": "_mgWm30bvDV-",
        "outputId": "43f98ad9-6642-42da-a50a-fcfc35bca2c2"
      },
      "execution_count": null,
      "outputs": [
        {
          "output_type": "stream",
          "name": "stdout",
          "text": [
            "BERT Embedding Shape for the word 'healthcare': torch.Size([1, 768])\n"
          ]
        }
      ]
    },
    {
      "cell_type": "markdown",
      "source": [
        "### Sentence Embeddings:"
      ],
      "metadata": {
        "id": "cGQlhBDo6S2t"
      }
    },
    {
      "cell_type": "markdown",
      "source": [
        "### Sentence BERT"
      ],
      "metadata": {
        "id": "yLVCrwIZvZkV"
      }
    },
    {
      "cell_type": "code",
      "source": [
        "sentences = paragraphs\n",
        "for i in sentences:\n",
        "  if i == '':\n",
        "    sentences.remove(i)\n",
        "\n",
        "len(sentences)"
      ],
      "metadata": {
        "colab": {
          "base_uri": "https://localhost:8080/"
        },
        "id": "jSEaUfeof_Ya",
        "outputId": "604e8f0c-f29d-4ff1-85c0-a2e1905cfe48"
      },
      "execution_count": null,
      "outputs": [
        {
          "output_type": "execute_result",
          "data": {
            "text/plain": [
              "10"
            ]
          },
          "metadata": {},
          "execution_count": 32
        }
      ]
    },
    {
      "cell_type": "code",
      "source": [
        "# Define a function to obtain BERT embeddings for a sentence\n",
        "def get_bert_embedding(sentence):\n",
        "    inputs = tokenizer(sentence, return_tensors=\"pt\")\n",
        "    outputs = model(**inputs)\n",
        "    embeddings = outputs.last_hidden_state.mean(dim=1)  # Taking the mean of hidden states as the sentence embedding\n",
        "    return embeddings"
      ],
      "metadata": {
        "id": "bMV-v8H3ua7e"
      },
      "execution_count": null,
      "outputs": []
    },
    {
      "cell_type": "code",
      "source": [
        "# Example usage\n",
        "sentence = sentences[0]\n",
        "bert_embedding = get_bert_embedding(sentence)\n",
        "\n",
        "print(\"BERT Embedding Shape:\", bert_embedding.shape)"
      ],
      "metadata": {
        "colab": {
          "base_uri": "https://localhost:8080/"
        },
        "id": "rYs0r3_BumBq",
        "outputId": "af1e1d05-5f23-4293-a371-5adea94c7d1a"
      },
      "execution_count": null,
      "outputs": [
        {
          "output_type": "stream",
          "name": "stdout",
          "text": [
            "BERT Embedding Shape: torch.Size([1, 768])\n"
          ]
        }
      ]
    },
    {
      "cell_type": "markdown",
      "source": [
        "### Doc to Vec"
      ],
      "metadata": {
        "id": "-BbnLOh-hA8Z"
      }
    },
    {
      "cell_type": "code",
      "source": [
        "from gensim.models.doc2vec import Doc2Vec,TaggedDocument"
      ],
      "metadata": {
        "id": "MEGaeeLPeCnS"
      },
      "execution_count": null,
      "outputs": []
    },
    {
      "cell_type": "code",
      "source": [
        "from nltk.tokenize import word_tokenize\n",
        "\n",
        "# preproces the documents, and create TaggedDocuments\n",
        "tagged_data = [TaggedDocument(words=word_tokenize(doc.lower()),tags=[str(i)]) for i,\n",
        "               doc in enumerate(sentences)]"
      ],
      "metadata": {
        "id": "mterp2-1gPX0"
      },
      "execution_count": null,
      "outputs": []
    },
    {
      "cell_type": "code",
      "source": [
        "# train the Doc2vec model\n",
        "model = Doc2Vec(vector_size=20,min_count=2, epochs=50)\n",
        "model.build_vocab(tagged_data)\n",
        "model.train(tagged_data,total_examples=model.corpus_count,epochs=model.epochs)\n",
        "\n",
        "# get the document vectors\n",
        "document_vectors = [model.infer_vector(word_tokenize(doc.lower())) for doc in sentences]\n",
        "\n",
        "#  print the document vectors\n",
        "for i, doc in enumerate(sentences):\n",
        "    print(\"Document\", i+1, \":\", doc)\n",
        "    print(\"Vector:\", document_vectors[i])\n",
        "    print()"
      ],
      "metadata": {
        "colab": {
          "base_uri": "https://localhost:8080/"
        },
        "id": "FT9MZLa8gcLu",
        "outputId": "24ffe72e-e5c7-4644-c5f7-137bdeaae538"
      },
      "execution_count": null,
      "outputs": [
        {
          "output_type": "stream",
          "name": "stdout",
          "text": [
            "Document 1 : Cardiovascular health is crucial for overall well-being. Regular exercise, a balanced diet, and avoiding smoking are key factors in maintaining a healthy heart. It's essential to monitor cholesterol levels and blood pressure regularly.\n",
            "Vector: [-0.00477222  0.42599997  0.54016453 -0.03543132 -0.25433007 -0.51516134\n",
            " -0.28033397  0.91300035 -1.1725427  -0.61782813  0.45568112  0.60540575\n",
            " -0.44678783 -0.69293797  0.20561256  0.2875479   1.1921942  -0.23941943\n",
            " -1.167258   -0.79966646]\n",
            "\n",
            "Document 2 : Diabetes is a chronic condition that requires careful management. Individuals with diabetes should focus on controlling their blood sugar levels through a combination of diet, exercise, and medication as prescribed by their healthcare provider.\n",
            "Vector: [-0.01078541  0.26738492  0.3756035  -0.0065476  -0.18831104 -0.34951898\n",
            " -0.20996797  0.6358318  -0.84370136 -0.4344047   0.3450166   0.42073938\n",
            " -0.27781358 -0.47146264  0.15560281  0.20703818  0.83932585 -0.1362186\n",
            " -0.82698196 -0.5871416 ]\n",
            "\n",
            "Document 3 : Mental health is as important as physical health. Stress management techniques, such as meditation and deep breathing exercises, can contribute to overall well-being. If experiencing persistent mental health issues, seeking professional help is advisable.\n",
            "Vector: [-0.02530367  0.18801993  0.29143786  0.00929006 -0.14859597 -0.25873923\n",
            " -0.15218724  0.47623697 -0.62100345 -0.30232298  0.23072098  0.3239826\n",
            " -0.22795612 -0.34128574  0.09108342  0.14438416  0.63670564 -0.10006797\n",
            " -0.63274145 -0.41578713]\n",
            "\n",
            "Document 4 : Adequate sleep is crucial for cognitive function and overall health. Establishing a consistent sleep routine, creating a comfortable sleep environment, and avoiding stimulants before bedtime can contribute to better sleep quality.\n",
            "Vector: [-0.02271775  0.22812584  0.30150828  0.0024832  -0.13833973 -0.2886309\n",
            " -0.17268908  0.5213547  -0.65659106 -0.30667382  0.25182816  0.3476658\n",
            " -0.22125116 -0.3852951   0.11094037  0.14838019  0.63841426 -0.1338161\n",
            " -0.62456816 -0.44027624]\n",
            "\n",
            "Document 5 : The Mediterranean diet, rich in fruits, vegetables, whole grains, and olive oil, has been associated with numerous health benefits. It is known to promote heart health, weight management, and a reduced risk of chronic diseases.\n",
            "Vector: [-0.03044375  0.3518085   0.45080656 -0.01033186 -0.22906718 -0.45571205\n",
            " -0.27503783  0.7935431  -1.0448376  -0.540043    0.39088544  0.5158269\n",
            " -0.3520774  -0.6063856   0.16794394  0.27599514  1.0372916  -0.19405492\n",
            " -1.0131186  -0.73204833]\n",
            "\n",
            "Document 6 : Quitting smoking is a challenging but worthwhile endeavor. Support from friends, family, and smoking cessation programs can significantly increase the chances of successfully quitting. Nicotine replacement therapy is also an option.\n",
            "Vector: [-0.00909028  0.18365186  0.24837454 -0.02161708 -0.11885871 -0.26220897\n",
            " -0.15044895  0.41595495 -0.52499956 -0.27030978  0.22728066  0.26109153\n",
            " -0.18253607 -0.3205797   0.08405533  0.14782274  0.5381881  -0.12465432\n",
            " -0.5447147  -0.3863623 ]\n",
            "\n",
            "Document 7 : Regular physical activity has numerous benefits, including improved cardiovascular health, weight management, and mood enhancement. Finding enjoyable forms of exercise can make it easier to maintain a consistent routine.\n",
            "Vector: [-0.03746902  0.3181118   0.3971217  -0.02769959 -0.20952944 -0.41951928\n",
            " -0.20601237  0.7340161  -0.9100765  -0.44721493  0.36821878  0.45807096\n",
            " -0.3028429  -0.5085369   0.17669933  0.23478007  0.9313894  -0.19152845\n",
            " -0.9093748  -0.6225655 ]\n",
            "\n",
            "Document 8 : Hydration is essential for overall health. Drinking an adequate amount of water helps maintain bodily functions, supports digestion, and contributes to healthy skin. It's recommended to aim for at least eight glasses of water per day.\n",
            "Vector: [-6.1262649e-04  2.7669743e-01  3.2834566e-01 -4.6311575e-03\n",
            " -1.5494558e-01 -3.4224832e-01 -1.7631382e-01  5.6455231e-01\n",
            " -7.4425292e-01 -3.7508360e-01  2.9040575e-01  3.6292753e-01\n",
            " -2.5110945e-01 -4.4639567e-01  1.0701457e-01  1.6691633e-01\n",
            "  7.5694054e-01 -1.4530230e-01 -7.3925775e-01 -5.2431750e-01]\n",
            "\n",
            "Document 9 : Balanced nutrition plays a crucial role in maintaining a healthy weight and preventing chronic diseases. A diet rich in fruits, vegetables, lean proteins, and whole grains provides essential nutrients for optimal health.\n",
            "Vector: [-0.01917968  0.34605357  0.44211087 -0.01056011 -0.20478006 -0.4302907\n",
            " -0.25606328  0.79614633 -1.0410726  -0.5214959   0.42224687  0.5273829\n",
            " -0.36222145 -0.61466146  0.17494091  0.22877702  1.0487089  -0.1983931\n",
            " -1.0400343  -0.73026264]\n",
            "\n",
            "Document 10 : Prevention is key in healthcare. Regular check-ups with healthcare providers, vaccinations, and screenings for common health conditions contribute to early detection and effective management.\n",
            "Vector: [-0.002665    0.15489565  0.19532855 -0.02477552 -0.0849196  -0.17045847\n",
            " -0.08146762  0.30274653 -0.40547806 -0.2373854   0.17969999  0.192753\n",
            " -0.16264626 -0.24635407  0.06036619  0.12363919  0.40983772 -0.0969253\n",
            " -0.40610328 -0.29878455]\n",
            "\n"
          ]
        }
      ]
    },
    {
      "cell_type": "markdown",
      "source": [
        "### Universal Sentence Encoder"
      ],
      "metadata": {
        "id": "P_6Xb1h2hEHt"
      }
    },
    {
      "cell_type": "code",
      "source": [
        "# import necessary libraries\n",
        "import tensorflow_hub as hub\n",
        "\n",
        "# Load pre-trained universal sentence encoder model\n",
        "embed = hub.load(\"https://tfhub.dev/google/universal-sentence-encoder/4\")"
      ],
      "metadata": {
        "id": "DVSmA0elgdbZ"
      },
      "execution_count": null,
      "outputs": []
    },
    {
      "cell_type": "code",
      "source": [
        "embeddings = embed(sentences)\n",
        "\n",
        "# Printing embeddings of each sentence\n",
        "print(embeddings)\n",
        "\n",
        "# To print each embeddings along with its corresponding\n",
        "# sentence below code can be used.\n",
        "for i in range(len(sentences)):\n",
        "    print(sentences[i])\n",
        "    print(embeddings[i])"
      ],
      "metadata": {
        "id": "P7sfzzqAhO2C",
        "colab": {
          "base_uri": "https://localhost:8080/"
        },
        "outputId": "12194ced-8f44-4d84-ce2b-98219e09bf34",
        "collapsed": true
      },
      "execution_count": null,
      "outputs": [
        {
          "output_type": "stream",
          "name": "stdout",
          "text": [
            "tf.Tensor(\n",
            "[[-0.04377037 -0.05734012 -0.02139249 ...  0.07113744 -0.05311307\n",
            "  -0.00031633]\n",
            " [-0.03396959 -0.02956964  0.01318436 ...  0.07416128 -0.01614095\n",
            "  -0.05093965]\n",
            " [-0.01069618 -0.01775396  0.06702132 ...  0.06956717 -0.06637956\n",
            "  -0.05749491]\n",
            " ...\n",
            " [-0.01988761 -0.02413709 -0.06241564 ...  0.07612298 -0.02335496\n",
            "   0.01662752]\n",
            " [-0.0385791  -0.03823084  0.03331903 ...  0.07388219 -0.00692947\n",
            "  -0.04203615]\n",
            " [-0.0589052  -0.00314605  0.05445509 ...  0.08169486 -0.0515089\n",
            "   0.0638934 ]], shape=(10, 512), dtype=float32)\n",
            "Cardiovascular health is crucial for overall well-being. Regular exercise, a balanced diet, and avoiding smoking are key factors in maintaining a healthy heart. It's essential to monitor cholesterol levels and blood pressure regularly.\n",
            "tf.Tensor(\n",
            "[-4.37703691e-02 -5.73401190e-02 -2.13924926e-02  6.41302317e-02\n",
            "  5.66981696e-02 -6.81604892e-02  3.53182554e-02 -1.42158186e-02\n",
            "  3.47138308e-02  4.46442962e-02  7.01209232e-02 -3.75377610e-02\n",
            " -5.23234233e-02 -6.38192818e-02 -6.87507689e-02  6.49541914e-02\n",
            " -7.41262212e-02  4.58869040e-02  2.81717465e-03  5.27480952e-02\n",
            " -5.14241159e-02 -3.05058691e-03  6.30239695e-02 -5.41418456e-02\n",
            "  4.52032015e-02 -5.15418202e-02 -4.72165607e-02  5.18496223e-02\n",
            " -4.66594845e-02 -1.18143503e-02 -3.15455869e-02  7.41270632e-02\n",
            "  4.61861230e-02  6.87006637e-02  2.31159981e-02 -5.32994978e-02\n",
            " -5.63352220e-02 -2.80688666e-02 -5.95560186e-02  5.30042360e-03\n",
            "  2.40351968e-02  6.28919303e-02  3.16327550e-02  3.96364816e-02\n",
            "  4.32135314e-02 -2.70719677e-02 -3.54841836e-02 -6.53980598e-02\n",
            " -3.08624301e-02 -2.47332603e-02 -9.98057146e-03  1.03699109e-02\n",
            "  7.70658441e-03  5.75156286e-02  1.71169471e-02  3.60763147e-02\n",
            "  5.72706759e-02 -1.83802247e-02  6.79508150e-02  3.02849279e-04\n",
            " -7.04123918e-03 -4.92159724e-02  4.24709879e-02 -1.74972750e-02\n",
            " -5.46347983e-02  5.75061329e-03  4.31509800e-02 -3.46887223e-02\n",
            "  1.77315921e-02 -3.86537090e-02  3.02978344e-02  2.30885558e-02\n",
            " -2.63504647e-02  5.78746460e-02  7.08483681e-02  5.64490445e-02\n",
            " -2.94884816e-02  4.48139086e-02  7.41054788e-02 -4.35438082e-02\n",
            "  4.61320803e-02  2.57139858e-02  4.39571179e-02  7.15756118e-02\n",
            " -4.86121923e-02 -5.13298400e-02  3.24792080e-02  2.06716526e-02\n",
            " -4.60264552e-03 -5.78530580e-02 -2.33484805e-02 -4.46994081e-02\n",
            " -3.92832570e-02 -1.91609870e-04  3.09933349e-02 -2.86579374e-02\n",
            " -1.28707970e-02  4.87252399e-02  3.11933775e-02  1.20677380e-02\n",
            "  2.74578296e-02 -6.45514056e-02  4.72163409e-02 -1.17034875e-02\n",
            " -5.53696416e-02 -2.86879321e-03  5.20459935e-03 -2.46051028e-02\n",
            "  6.06822297e-02  1.87238157e-02  2.08568461e-02  4.70542312e-02\n",
            " -8.77521583e-04  2.02011541e-02 -6.78811371e-02  1.28580378e-02\n",
            "  3.53802033e-02  6.30791485e-02  6.32351413e-02  4.23367731e-02\n",
            " -2.28742994e-02 -7.30281230e-03 -6.40141889e-02  2.56370623e-02\n",
            " -2.14034859e-02  2.34878324e-02 -6.46710545e-02  8.55754688e-03\n",
            "  5.64650632e-03  2.89202109e-02 -1.52264293e-02  7.41274506e-02\n",
            " -2.77131386e-02 -2.77125859e-03  2.47153528e-02  6.18483499e-02\n",
            "  5.15789576e-02  5.79691269e-02  1.01890173e-02  5.99908419e-02\n",
            "  5.79947755e-02  3.19821686e-02  5.46253435e-02 -1.44430231e-02\n",
            " -4.29911986e-02  1.34274056e-02 -5.43305539e-02 -4.44425009e-02\n",
            "  1.77757163e-02 -6.69786930e-02  6.54992238e-02  5.63956760e-02\n",
            " -4.21526171e-02 -7.19718635e-02  2.98101585e-02 -6.55412823e-02\n",
            " -5.52408136e-02  8.36922263e-05  7.06956908e-02 -4.98915315e-02\n",
            " -6.01622500e-02  1.59817301e-02 -1.90545490e-03  6.15085252e-02\n",
            "  2.25608125e-02 -2.78451538e-04 -1.29330356e-03  6.53618947e-02\n",
            "  2.40183119e-02  6.89405277e-02 -4.88534458e-02 -6.88490346e-02\n",
            "  4.87680584e-02  2.62358086e-03 -3.47608216e-02 -5.30738235e-02\n",
            " -6.29414171e-02  6.37843907e-02 -4.68985774e-02 -4.27669659e-02\n",
            "  3.85626256e-02 -2.08997633e-03  7.08657801e-02 -5.17704561e-02\n",
            " -1.84790289e-03  6.52367696e-02  1.13967974e-02 -7.10580051e-02\n",
            " -2.50349324e-02 -1.73044223e-02 -2.22233534e-02 -3.03014293e-02\n",
            " -1.27648264e-02  4.08258811e-02  4.76631932e-02  1.20753581e-02\n",
            "  7.33509362e-02 -5.92542700e-02 -3.56313400e-02 -6.18080795e-02\n",
            "  1.67263187e-02 -7.34972358e-02 -6.62697256e-02  1.17441360e-02\n",
            "  4.55360003e-02 -4.56649764e-03 -1.41220167e-02 -6.57193959e-02\n",
            "  4.06474108e-03  6.11267015e-02 -3.55546316e-03 -1.90265328e-02\n",
            "  4.29028720e-02  1.65379569e-02  5.81662953e-02 -3.63481045e-02\n",
            " -8.66994634e-03 -5.37822302e-03  2.52435394e-02 -8.74487311e-03\n",
            "  4.67590205e-02  5.56527525e-02  2.58029588e-02  3.90322097e-02\n",
            "  5.88141615e-03 -3.96233201e-02 -1.92702431e-02  1.60574038e-02\n",
            "  6.41882122e-02  3.73585708e-02 -3.78035754e-02  6.18415214e-02\n",
            "  3.07237506e-02 -6.32792935e-02  5.24267070e-02 -5.90548441e-02\n",
            " -6.41785190e-02  3.01358383e-02 -3.25480266e-03  2.42520925e-02\n",
            " -4.93391976e-02 -5.15051782e-02  7.04837516e-02 -6.81940541e-02\n",
            " -9.25834663e-03 -6.69467002e-02  7.34200999e-02  5.82126305e-02\n",
            " -1.19044166e-02 -7.41216838e-02  7.11785182e-02 -5.25999069e-02\n",
            " -1.35081923e-02 -6.90381415e-03 -5.25530316e-02 -5.74171953e-02\n",
            "  1.58697851e-02  5.35735637e-02  4.09739614e-02 -6.26449361e-02\n",
            "  2.44465955e-02  2.43476760e-02 -4.52845776e-03 -4.57288772e-02\n",
            "  1.93263516e-02 -2.24359240e-02  7.13017583e-02 -3.48184071e-02\n",
            "  4.42376398e-02 -3.56845818e-02 -1.42773231e-02 -5.64473309e-02\n",
            "  1.08579602e-02 -4.17191312e-02  6.93755224e-02 -3.18597630e-02\n",
            "  6.79087564e-02 -1.46854362e-02  6.53851405e-02  6.75595254e-02\n",
            "  5.38052851e-03  3.55128683e-02  1.14949001e-02 -1.44866370e-02\n",
            "  2.20665839e-02 -2.25367080e-02 -3.15814354e-02 -6.86416999e-02\n",
            "  2.44617760e-02 -1.05074421e-03 -2.30923966e-02  6.81128055e-02\n",
            "  7.19581321e-02  3.68783772e-02  7.21041933e-02  5.69778048e-02\n",
            "  3.69804092e-02 -3.07851285e-02 -1.81525871e-02 -3.29717249e-02\n",
            " -2.55324282e-02 -3.73437442e-02  2.78369244e-02 -3.93290706e-02\n",
            "  4.08390760e-02 -6.01370877e-04  6.69846609e-02  5.01419194e-02\n",
            "  6.54771104e-02  2.56256294e-03 -4.88803862e-03 -1.07403314e-02\n",
            " -7.14366809e-02 -6.38979953e-03 -7.29070008e-02 -6.12866357e-02\n",
            "  2.68912911e-02 -6.83241785e-02 -5.15436195e-02 -7.24311322e-02\n",
            "  1.17459968e-02  2.31662337e-02 -4.90168557e-02  5.74965850e-02\n",
            "  4.95309420e-02  7.08155558e-02 -6.62959181e-04 -2.96341907e-02\n",
            "  2.47403532e-02  6.37984276e-02 -6.88167587e-02  3.07109542e-02\n",
            "  1.32340454e-02 -1.01350779e-02  5.63412830e-02 -2.06925981e-02\n",
            "  3.93653065e-02 -6.99684396e-02  6.40936121e-02  5.74237034e-02\n",
            " -2.42220499e-02  4.24624234e-02  3.94663140e-02  1.89940562e-03\n",
            "  6.02667071e-02 -7.41196796e-02  1.66770741e-02  6.52943105e-02\n",
            "  3.93428057e-02 -5.86256273e-02  3.31545472e-02  3.13445963e-02\n",
            " -2.31246222e-02  5.47046326e-02  5.24371937e-02 -9.80890123e-04\n",
            " -7.18955323e-02  4.71791290e-02  4.77631912e-02  5.42784669e-02\n",
            "  6.71634302e-02  2.31752340e-02 -9.61190835e-03  4.71977517e-02\n",
            " -6.90911561e-02  4.40493673e-02  7.27699175e-02  5.47000952e-02\n",
            " -4.15407345e-02 -5.81546761e-02  5.32379188e-02 -5.51787093e-02\n",
            " -1.29293641e-02 -6.47818670e-02 -3.17260809e-02  4.69124466e-02\n",
            " -1.52070923e-02 -1.38719222e-02 -3.58243994e-02 -4.13949750e-02\n",
            "  3.57022956e-02  2.63211764e-02  5.72195612e-02 -1.22177107e-02\n",
            " -4.20350805e-02  3.48857306e-02  4.60634455e-02  2.52572503e-02\n",
            " -4.07100283e-02  4.52224351e-02  5.53498231e-02  3.75437923e-02\n",
            " -6.22394383e-02 -1.68468002e-02 -1.62685546e-03  4.10161242e-02\n",
            "  2.73392629e-02 -3.36651132e-02 -6.47622906e-03  6.51487112e-02\n",
            " -6.14617169e-02 -5.35347080e-03 -3.28252465e-02  5.98043613e-02\n",
            " -7.90190231e-03 -4.17746343e-02  4.93473038e-02  5.44943474e-02\n",
            "  3.40359733e-02  7.14442804e-02  6.33684024e-02 -4.79378998e-02\n",
            " -8.15607794e-03 -4.95544970e-02  2.08270606e-02 -6.68503493e-02\n",
            "  2.09512264e-02  4.86658253e-02 -2.27616150e-02 -3.04329563e-02\n",
            "  3.00316848e-02  6.70515448e-02  1.22264195e-02  3.18494588e-02\n",
            " -1.40105756e-02 -3.68065871e-02  7.26120248e-02  6.57826290e-02\n",
            " -1.92636717e-02  4.03082967e-02  6.23252913e-02  6.54448643e-02\n",
            "  6.10438921e-02  2.03161314e-02 -3.99568789e-02  3.20890807e-02\n",
            "  5.28088622e-02 -1.94879435e-02  7.05006123e-02 -2.86487844e-02\n",
            "  4.26173620e-02 -3.63877080e-02 -2.98552751e-03 -8.94962996e-03\n",
            "  8.70086066e-03 -6.94703981e-02 -1.35803241e-02  1.46649908e-02\n",
            "  5.82785644e-02 -2.77560838e-02 -3.00997961e-03 -7.07315505e-02\n",
            " -4.98141684e-02  5.86145977e-03  3.08760032e-02  6.20438196e-02\n",
            " -6.38683736e-02  6.60779849e-02  4.40444350e-02  7.65505154e-03\n",
            " -1.48677845e-02  4.69926968e-02 -6.21457696e-02 -6.11486398e-02\n",
            " -2.72983890e-02 -8.77522677e-03  1.12303179e-02  2.76358239e-02\n",
            "  4.26029526e-02  3.00016776e-02  4.06343639e-02  3.06591317e-02\n",
            " -5.43916132e-03 -5.49287573e-02 -9.43430979e-03  7.24976808e-02\n",
            " -6.29910082e-02 -4.09219451e-02  5.19430004e-02  2.92923604e-03\n",
            " -5.95506504e-02  5.55170514e-03 -3.54813747e-02 -4.82078671e-04\n",
            " -6.50173659e-03  7.12276250e-03 -1.23858536e-02 -2.54812348e-03\n",
            " -5.46767637e-02 -9.65765584e-03 -4.39502392e-03 -4.56457026e-02\n",
            "  1.77497230e-02  6.37093708e-02  6.00306690e-03  4.42595668e-02\n",
            "  6.52597621e-02 -2.11452506e-02  2.87169218e-02 -1.99584067e-02\n",
            " -2.24681050e-02 -5.63610904e-02  3.70357111e-02 -7.15722963e-02\n",
            "  2.59398632e-02 -7.41056800e-02  6.78409934e-02 -2.49410141e-02\n",
            "  4.79065673e-03  7.11374357e-02 -5.31130694e-02 -3.16333782e-04], shape=(512,), dtype=float32)\n",
            "Diabetes is a chronic condition that requires careful management. Individuals with diabetes should focus on controlling their blood sugar levels through a combination of diet, exercise, and medication as prescribed by their healthcare provider.\n",
            "tf.Tensor(\n",
            "[-3.39695923e-02 -2.95696408e-02  1.31843556e-02  6.41219169e-02\n",
            " -5.04382849e-02  7.80860474e-03 -3.13800722e-02 -1.23017095e-02\n",
            " -4.65775281e-02 -3.25956009e-02  7.61842355e-02 -1.24215223e-02\n",
            " -2.92345360e-02 -6.47316426e-02 -7.59713799e-02 -4.79679145e-02\n",
            " -7.63249174e-02  6.16156608e-02 -2.67006811e-02  5.46740964e-02\n",
            " -1.23566175e-02  4.25775349e-03  6.52220547e-02 -2.64075538e-03\n",
            "  7.42199048e-02  9.03685112e-03 -1.78109631e-02  7.44404793e-02\n",
            " -3.36852036e-02 -7.15698376e-02 -7.18113407e-03  7.63249695e-02\n",
            "  1.58430133e-02  7.41264299e-02  2.68724356e-02 -4.10974063e-02\n",
            "  1.18728941e-02 -6.14226125e-02 -6.71468815e-03  5.16948402e-02\n",
            " -5.01055568e-02  7.92717189e-03  1.33836567e-02 -4.98252064e-02\n",
            "  3.56117263e-02  5.87157197e-02 -2.45606552e-05  3.50478552e-02\n",
            "  6.52000606e-02 -6.80320635e-02 -5.51217087e-02  3.62841450e-02\n",
            "  6.54928982e-02  5.48483431e-02 -3.15114483e-02 -1.18859988e-02\n",
            " -1.37478914e-02 -2.02346593e-02  3.52482013e-02  4.34182137e-02\n",
            " -1.03139188e-02 -3.43504846e-02 -3.91384177e-02 -5.60321584e-02\n",
            " -3.71119156e-02 -5.27750179e-02  6.84666261e-02 -4.81624976e-02\n",
            " -4.38688137e-02 -5.35652563e-02 -3.88649851e-02 -8.15308653e-03\n",
            " -2.27222908e-02  6.47514239e-02 -7.63539970e-03  4.43532802e-02\n",
            " -7.05329105e-02  2.17970414e-03  7.48632848e-02  3.41582820e-02\n",
            "  2.25168224e-02  4.42096731e-03  3.56040560e-02  6.90232813e-02\n",
            " -7.38313049e-02 -4.01043333e-02  2.92655751e-02  6.84166793e-03\n",
            " -2.31117606e-02 -7.62270242e-02 -5.51557094e-02 -4.34899004e-03\n",
            "  2.02907100e-02 -2.84203421e-02  6.88659921e-02  1.91862639e-02\n",
            "  8.10793787e-03  2.32300200e-02  2.95620058e-02 -3.57918777e-02\n",
            "  1.20690241e-02 -5.50355241e-02  1.72484163e-02  4.00178647e-03\n",
            "  5.24975136e-02  2.82400046e-02 -2.33492665e-02  3.35429348e-02\n",
            "  2.89161429e-02  6.91903681e-02  3.96762230e-02  3.44447680e-02\n",
            "  5.03148735e-02 -4.85891849e-02 -3.77178029e-03  2.79821940e-02\n",
            "  1.95515715e-02  1.58534683e-02 -1.25794075e-02  8.80146399e-03\n",
            "  1.96870416e-02 -1.67292971e-02  2.33607814e-02  6.11275323e-02\n",
            " -3.61354202e-02  3.80453318e-02 -4.30717990e-02 -4.48277704e-02\n",
            "  5.04716001e-02  2.31769755e-02  2.27024153e-04  7.63249472e-02\n",
            " -3.94704156e-02  2.38876846e-02  3.05019114e-02 -1.83253586e-02\n",
            " -4.34219316e-02 -7.19140619e-02  3.96167114e-03 -3.49556617e-02\n",
            "  4.94239442e-02  4.62017655e-02  2.71736812e-02 -5.27320616e-02\n",
            " -2.33726688e-02  1.65382735e-02  5.84273674e-02 -2.35338695e-02\n",
            "  2.35911366e-03 -6.71005100e-02  6.09726496e-02  2.15207264e-02\n",
            " -3.46234553e-02  4.78520952e-02 -2.24496424e-02 -5.24649397e-03\n",
            " -6.94964007e-02  2.02992540e-02  3.13425693e-03 -5.90538606e-02\n",
            " -4.57773022e-02 -1.18424250e-02 -7.20063085e-03  8.33058171e-03\n",
            " -4.08845097e-02 -3.45179476e-02  1.10930577e-02  1.13849342e-02\n",
            "  3.07363719e-02  5.82047105e-02 -3.99573483e-02 -7.62603208e-02\n",
            "  6.83745071e-02 -4.45242934e-02 -2.65188627e-02 -1.61413290e-02\n",
            " -4.46597226e-02 -1.41493278e-02 -4.33684886e-02  4.92957309e-02\n",
            " -5.00996187e-02 -3.89852375e-02  6.71803281e-02 -5.48865721e-02\n",
            "  5.26752397e-02 -7.66912987e-03  4.64814268e-02 -6.84646219e-02\n",
            " -1.48040894e-02 -5.44046052e-02 -5.18806912e-02 -6.73642606e-02\n",
            "  3.00936028e-02  7.16437250e-02  5.95000796e-02 -1.32872975e-02\n",
            "  5.96995726e-02  4.39264104e-02 -4.90615815e-02 -4.94553074e-02\n",
            "  2.14009043e-02 -6.76093847e-02 -5.12970537e-02  2.34558620e-02\n",
            "  6.47434592e-02 -2.86370330e-02  6.05857670e-02 -4.19670604e-02\n",
            "  5.67022152e-02  3.41089517e-02 -7.21166981e-03 -5.66275381e-02\n",
            " -9.00488067e-03  5.56983687e-02  5.95711060e-02 -7.06154779e-02\n",
            "  9.64414701e-03  4.23054881e-02 -2.62051318e-02 -4.21734378e-02\n",
            " -5.36333546e-02  6.01506867e-02 -2.88829077e-02  4.78671379e-02\n",
            "  7.03831762e-02 -1.81006901e-02  1.21709434e-02  6.55775284e-03\n",
            "  5.68521656e-02  6.45466596e-02  5.77400625e-02  1.86744481e-02\n",
            " -5.88661768e-02 -6.79862350e-02  2.00474489e-04 -5.76208718e-02\n",
            " -4.98728044e-02 -6.37057722e-02  4.06050421e-02  5.44411242e-02\n",
            "  2.66558006e-02 -2.94337738e-02  3.60188596e-02 -6.72967434e-02\n",
            " -6.21529445e-02 -4.36292551e-02  6.86794743e-02  6.48873597e-02\n",
            " -2.36969907e-02 -7.62253329e-02  7.20446929e-02 -5.08058853e-02\n",
            " -3.21533829e-02  2.96800025e-02 -3.17631401e-02 -4.12762128e-02\n",
            "  3.58981043e-02  6.65644184e-02  5.40591702e-02 -5.34540266e-02\n",
            "  4.36443500e-02 -1.43356505e-03  2.47280654e-02 -1.63406394e-02\n",
            " -6.82453513e-02 -6.52936697e-02 -1.75964460e-02 -6.61555231e-02\n",
            " -3.63915227e-02  5.64777553e-02 -2.35992391e-02  3.17945927e-02\n",
            "  6.95408881e-02 -7.61941001e-02  7.46182874e-02  1.54541014e-02\n",
            "  8.70129187e-03 -2.60483976e-02  6.97496608e-02  3.97009477e-02\n",
            "  4.26236074e-03 -1.90108977e-02  3.84446234e-02  2.80013140e-02\n",
            " -4.36857045e-02  7.54562439e-04 -3.66682671e-02 -6.37818277e-02\n",
            " -6.82586730e-02 -6.76153377e-02 -2.51989141e-02  1.10797994e-02\n",
            "  6.47658706e-02 -1.86071862e-02  6.60822541e-02  1.11654578e-02\n",
            "  2.72199214e-02 -3.46970819e-02  9.40126553e-03  8.35161470e-03\n",
            "  3.80180217e-02  5.95852993e-02  3.47437561e-02 -5.74774668e-02\n",
            " -6.19691089e-02  6.95353299e-02  7.45427832e-02  5.38280234e-02\n",
            "  4.29011993e-02 -7.51208514e-02 -2.42944602e-02 -1.51125109e-03\n",
            " -5.14746867e-02  4.29043174e-02 -3.29709128e-02  6.50200769e-02\n",
            "  4.66050319e-02 -5.12433313e-02  7.35532045e-02 -7.49856085e-02\n",
            " -4.51993011e-02 -1.34924352e-02  3.08785029e-02  7.18036890e-02\n",
            "  3.92315499e-02  7.52841383e-02 -5.95219135e-02 -4.35033366e-02\n",
            " -2.54412997e-03 -5.75677641e-02 -4.97492813e-02 -3.47161083e-03\n",
            " -7.00286180e-02 -6.43288437e-03  2.23509874e-02 -7.30575398e-02\n",
            " -5.20385765e-02  1.64237525e-02  4.81831580e-02  4.05562371e-02\n",
            " -4.15154956e-02 -4.77362536e-02 -4.08301726e-02  2.69510914e-02\n",
            "  3.36391442e-02 -7.62884691e-02  5.83987683e-02  7.41040558e-02\n",
            " -1.71856750e-02 -5.50672561e-02 -1.19811110e-03  5.48280659e-04\n",
            "  1.61993541e-02 -1.73338670e-02 -4.89087962e-02  2.72404123e-03\n",
            " -7.36857727e-02 -5.59220649e-02  6.47487268e-02  1.27309503e-03\n",
            " -5.91248646e-02  2.49027908e-02 -3.29949893e-02  1.10534681e-02\n",
            " -6.07017577e-02  2.13525891e-02  5.63025549e-02  2.05533784e-02\n",
            "  2.23227553e-02  5.43979406e-02  3.33497189e-02 -3.46324071e-02\n",
            " -4.05158587e-02  4.72371234e-03  5.99066578e-02  4.28782776e-02\n",
            "  1.82112530e-02 -3.83621454e-02 -5.51201357e-03  9.48227197e-03\n",
            "  5.48181236e-02  7.38598406e-02 -2.86615994e-02  2.24739611e-02\n",
            " -2.71187704e-02  5.82668222e-02 -4.43953797e-02  1.06062489e-02\n",
            " -7.58088427e-03  5.59559837e-02 -1.30103789e-02  5.53575121e-02\n",
            " -7.34630302e-02 -6.26951084e-02  1.39123704e-02 -3.64438840e-03\n",
            "  4.78277467e-02  4.54744659e-02  5.81022091e-02  5.55075482e-02\n",
            " -4.64285631e-03  4.51351050e-03  5.19136013e-03 -6.16744421e-02\n",
            "  1.56901497e-02  3.07986569e-02  3.67139205e-02 -5.90265058e-02\n",
            " -3.27957608e-02 -1.03517640e-02  2.47664005e-02 -1.66744785e-03\n",
            " -3.47056314e-02 -6.26008362e-02 -6.35510907e-02 -5.14542237e-02\n",
            " -4.53291871e-02  6.41195700e-02 -3.17773931e-02 -2.06572544e-02\n",
            " -5.57293706e-02  1.13452524e-02  1.14722345e-02  1.48495454e-02\n",
            "  3.41090113e-02 -4.02760319e-02  6.62261471e-02  1.96478702e-02\n",
            "  7.58427456e-02 -2.91644665e-03 -5.12315258e-02  4.59024012e-02\n",
            " -2.83850525e-02 -1.20580578e-02 -5.85131645e-02  5.84206209e-02\n",
            "  3.80970328e-03  2.10121460e-02 -3.97022441e-02  5.04568592e-02\n",
            "  2.86490377e-02  2.47801542e-02  3.78002375e-02 -6.69160560e-02\n",
            " -9.71103553e-03 -7.56846443e-02 -2.45277416e-02 -4.03459966e-02\n",
            "  1.47361979e-02 -7.38195435e-04 -2.37081796e-02 -6.42913654e-02\n",
            " -7.61944754e-03 -5.41196130e-02  8.07463285e-03 -4.47982596e-03\n",
            " -5.55771366e-02  5.07118292e-02 -1.17849903e-02  5.83221689e-02\n",
            "  2.09987313e-02  6.14571683e-02  4.96247821e-02  5.53973252e-03\n",
            "  2.02250499e-02 -4.39796895e-02  5.48629873e-02  1.67606361e-02\n",
            "  4.65046614e-02 -6.36903793e-02 -4.40729782e-03 -5.87908961e-02\n",
            " -4.34156656e-02 -7.50042591e-03 -1.87028479e-02 -5.45235500e-02\n",
            "  3.78241427e-02  3.80679546e-03  3.42663266e-02  2.62323469e-02\n",
            " -6.06699586e-02 -4.69645485e-03 -5.15986606e-02 -3.07102818e-02\n",
            " -4.81075682e-02  5.42259179e-02  4.29063067e-02  4.18826602e-02\n",
            " -6.40844405e-02 -7.30844513e-02 -2.62718890e-02 -7.89760891e-03\n",
            " -5.14815114e-02  3.35848592e-02 -1.33173936e-03  3.45930494e-02\n",
            "  4.68514785e-02  2.73081958e-02  5.80789298e-02  1.02721872e-02\n",
            "  3.71544948e-03 -5.24021946e-02 -4.29212824e-02 -5.31213284e-02\n",
            "  1.66959260e-02 -7.63249174e-02  2.05238834e-02  2.80148573e-02\n",
            " -1.04694711e-02  7.41612837e-02 -1.61409546e-02 -5.09396493e-02], shape=(512,), dtype=float32)\n",
            "Mental health is as important as physical health. Stress management techniques, such as meditation and deep breathing exercises, can contribute to overall well-being. If experiencing persistent mental health issues, seeking professional help is advisable.\n",
            "tf.Tensor(\n",
            "[-0.01069618 -0.01775396  0.06702132  0.05723531  0.06444247  0.01941205\n",
            "  0.05921553 -0.00517446  0.05504256  0.04203967  0.07431332 -0.04232002\n",
            " -0.04781249  0.0384827   0.01537801 -0.07492724 -0.07511225  0.02076391\n",
            " -0.00748495 -0.00800513 -0.04143152 -0.04269218  0.0695403  -0.00198252\n",
            " -0.00979119  0.01377936  0.02676692 -0.05015132 -0.01593732 -0.04651849\n",
            " -0.0515179   0.0751134  -0.01894102  0.02886633  0.06008511  0.01790459\n",
            " -0.02949883 -0.05615167 -0.05349158  0.01009434 -0.02941848  0.07456506\n",
            "  0.05511199  0.0473586   0.07323364 -0.00718513 -0.04187027  0.05687694\n",
            " -0.00461215 -0.02239885 -0.06000222 -0.0008502   0.02635591  0.02595707\n",
            "  0.0562384   0.06262273  0.05074995  0.02454894  0.02325584  0.03791453\n",
            " -0.02747045 -0.04428494  0.05015004 -0.00762511 -0.02226993 -0.05121651\n",
            "  0.00680749  0.0243651  -0.01826785  0.05173127  0.00639924  0.02345205\n",
            " -0.03281852  0.03555805 -0.00168735  0.01705356  0.04161526 -0.01924692\n",
            "  0.07510159 -0.06063001  0.06616258 -0.02219687  0.02194032  0.0606217\n",
            "  0.0360209  -0.06683237  0.03096156  0.0147549   0.00995188 -0.07028709\n",
            "  0.04893419  0.00483113 -0.06102854 -0.02055135  0.01730012  0.05953918\n",
            "  0.05482258  0.00420171 -0.02292383 -0.00681578 -0.01939389  0.02701678\n",
            " -0.06093203 -0.02631381 -0.04413925 -0.03116591  0.03028879 -0.01527166\n",
            "  0.04498071 -0.01220215 -0.03309736  0.04606272  0.05720719 -0.03902884\n",
            " -0.02170018  0.05338013  0.02450347 -0.02245786  0.06317954  0.01529917\n",
            "  0.02260353  0.0648612  -0.0016267  -0.05381509 -0.00923896 -0.01448029\n",
            " -0.07063147 -0.07490046  0.05452755  0.015068    0.00566992  0.07511322\n",
            "  0.01545579  0.00318455  0.02978239  0.00678431 -0.00470844  0.01784007\n",
            "  0.00177593 -0.02923595  0.06986152  0.04156386 -0.02660884  0.02340062\n",
            " -0.00356033  0.06189569  0.06625385  0.07511096 -0.05075003 -0.06490134\n",
            "  0.00049875 -0.03753403  0.04952437 -0.04363476 -0.06263706 -0.06684393\n",
            " -0.00926603  0.01371455  0.0635777   0.02496305  0.04289304  0.0262154\n",
            "  0.0627446  -0.013126   -0.01362807  0.03158797  0.04642841 -0.00931356\n",
            " -0.03384615  0.04171131 -0.01198936 -0.07509609  0.04029773  0.05510132\n",
            " -0.0559358  -0.00892265 -0.03719348  0.06009855  0.00612007  0.04258602\n",
            "  0.01277211 -0.05361456  0.02579011  0.0434874  -0.04984323  0.06499686\n",
            " -0.02834308 -0.0403498  -0.05839394  0.01265867  0.04291802 -0.06404329\n",
            "  0.03422094 -0.02090164  0.06369597  0.00404967  0.02021866 -0.0557229\n",
            " -0.03298283 -0.03643545  0.02597987 -0.07116197  0.04116035 -0.00313204\n",
            "  0.01228899  0.00383932 -0.05868924 -0.07049286  0.02200903 -0.03237561\n",
            "  0.03550376 -0.06365272  0.0458293   0.03625223 -0.00205614  0.04141672\n",
            "  0.00736319  0.03885033  0.06290966  0.0252023  -0.03818499  0.00365613\n",
            "  0.03004446 -0.06662042  0.01709305  0.05374715 -0.05886022 -0.0418063\n",
            "  0.04672157  0.06170346 -0.03167227  0.03393285 -0.02786794 -0.05293722\n",
            "  0.01940593  0.0143903  -0.018169    0.06906031 -0.02402893 -0.05777492\n",
            " -0.06830292  0.02062441  0.01269807 -0.05355498 -0.00662708 -0.07173017\n",
            " -0.06988209 -0.03269447 -0.06954611 -0.07511069  0.07224125 -0.05953375\n",
            "  0.01298041 -0.05647491 -0.05916396  0.02128743  0.04741771  0.06629703\n",
            " -0.00631059 -0.04968743  0.0627659   0.07068888 -0.02492095  0.00068407\n",
            " -0.00767501  0.05589841  0.06405737 -0.01370856  0.03800419 -0.05334206\n",
            "  0.00131523  0.00484566  0.0242542  -0.07422978  0.00059929 -0.06678331\n",
            "  0.04228621  0.03299062  0.07309088  0.05775002  0.05670604 -0.00972603\n",
            "  0.02294243 -0.01666811 -0.04346431  0.00737538  0.07483699 -0.02489812\n",
            "  0.00767365  0.06088512 -0.07119087  0.07098496  0.07466232 -0.05183586\n",
            "  0.07496052  0.03329915  0.04134526  0.02976196  0.02839984 -0.05475904\n",
            "  0.0182212   0.01391689  0.04674667 -0.00943177 -0.03683982 -0.01598764\n",
            "  0.05850308  0.05719065  0.03511348  0.06493035 -0.06825493  0.0218963\n",
            " -0.06703528  0.01462691 -0.02854166  0.01845853 -0.05292742 -0.05271675\n",
            " -0.03780622 -0.04594245 -0.03087702  0.05270492  0.05668817 -0.01065204\n",
            "  0.03573106  0.06624202  0.01991969  0.03771485  0.05287958  0.05786385\n",
            " -0.00113602  0.05406278  0.02475002  0.06628416 -0.06713258  0.04085914\n",
            "  0.05969995 -0.06891659  0.0006489  -0.0652882  -0.03579416 -0.02142397\n",
            "  0.02704084  0.06610563 -0.04742057 -0.05772054  0.02030432 -0.03006244\n",
            " -0.01554444 -0.05178323  0.05960584  0.06191969 -0.03533872  0.06332392\n",
            "  0.07000988 -0.06279591 -0.07142032 -0.01351296  0.00051252  0.02515663\n",
            " -0.03984488  0.06729997  0.03152023  0.02335074 -0.04564026  0.00565354\n",
            "  0.06423303  0.01308185  0.04409547  0.04327413  0.03686477 -0.00362294\n",
            "  0.01304537  0.06675041 -0.04634729 -0.01078763  0.07162705 -0.01376011\n",
            " -0.02075216 -0.04777875  0.03124488  0.00790499  0.07188655  0.06422488\n",
            " -0.0504484  -0.04685911  0.0733714   0.06213256  0.00109777  0.05320838\n",
            "  0.02332557  0.04753368 -0.02403573 -0.06850991  0.05573025 -0.02070213\n",
            " -0.04641652  0.05997298  0.01781183  0.0694751  -0.06943238 -0.06442858\n",
            " -0.04174279  0.05824315 -0.04664799  0.01039249 -0.01604187  0.04037873\n",
            "  0.06961115  0.06458782  0.05910228 -0.01440077  0.02395966  0.01720709\n",
            " -0.03075589 -0.06884208  0.03912662  0.02323009 -0.05932179  0.06114198\n",
            "  0.03439563  0.0591723   0.00145596 -0.02397708  0.01573821 -0.04803219\n",
            "  0.05931412  0.04650562  0.03506538 -0.0401673  -0.00374733  0.00837081\n",
            "  0.05591404  0.02314075 -0.06535155  0.02360996 -0.04177011 -0.02475435\n",
            "  0.06150777  0.06073409  0.01734044  0.05599385  0.04231112  0.01683932\n",
            " -0.01901258  0.0326542   0.04238277 -0.00143747  0.04733725 -0.01135812\n",
            "  0.0621906   0.04380956 -0.01265433 -0.00365019  0.06572806  0.01617509\n",
            "  0.01673261  0.06729191  0.01675284 -0.00770043  0.03704478  0.0230625\n",
            " -0.03787298 -0.07206533 -0.02846717  0.03429081  0.03135513 -0.00597261\n",
            " -0.0627052   0.00839586  0.0007615  -0.06736232 -0.04254533 -0.03982458\n",
            "  0.0184482  -0.06071296  0.05132841  0.05908144  0.05371604  0.01918724\n",
            " -0.0152366   0.0266745   0.00653795 -0.07323199  0.04723836 -0.01147025\n",
            " -0.03563986  0.02377131  0.02938052 -0.06389946  0.00354829 -0.04053876\n",
            " -0.06621822  0.06036266  0.0692515   0.03431467  0.04863451  0.01082729\n",
            "  0.02671279 -0.01849342  0.04278161 -0.03874071  0.01638612 -0.06974111\n",
            " -0.05961354 -0.07511347 -0.0517245  -0.05124674  0.01825029  0.06956717\n",
            " -0.06637956 -0.05749491], shape=(512,), dtype=float32)\n",
            "Adequate sleep is crucial for cognitive function and overall health. Establishing a consistent sleep routine, creating a comfortable sleep environment, and avoiding stimulants before bedtime can contribute to better sleep quality.\n",
            "tf.Tensor(\n",
            "[ 3.83078761e-04 -6.56164438e-02  6.39501512e-02  3.46708372e-02\n",
            "  4.94332537e-02 -6.86199516e-02 -4.89889048e-02  2.19489802e-02\n",
            "  1.69501062e-02  7.30842501e-02 -3.87635641e-02  7.57951736e-02\n",
            " -5.08662648e-02  4.88840342e-05 -2.39647087e-02 -3.90247144e-02\n",
            " -6.78807497e-02  6.38215840e-02 -6.24710694e-02  2.89282054e-02\n",
            " -4.16824855e-02  2.92261876e-02  5.25504909e-02  4.37251218e-02\n",
            " -1.38528952e-02  3.20963487e-02  3.16388719e-02  1.09587274e-02\n",
            " -1.94604192e-02 -3.57516296e-02  1.47470064e-03  7.29077011e-02\n",
            " -4.43079621e-02 -2.44803950e-02  1.54287023e-02 -7.45914923e-03\n",
            " -5.40817529e-02 -6.92871138e-02  6.14194535e-02  4.52866890e-02\n",
            "  4.21697237e-02  7.07861409e-02 -4.75302339e-02 -1.09026134e-02\n",
            "  7.25696981e-02 -1.05362693e-02 -5.68030588e-02  6.54005408e-02\n",
            " -6.34815171e-02  6.19597323e-02 -4.79118638e-02 -3.65845375e-02\n",
            "  5.47536649e-02 -3.87995020e-02 -1.04115112e-02  7.12023824e-02\n",
            "  4.89163771e-02 -6.75324304e-03  6.35878444e-02  3.36355940e-02\n",
            " -3.96927409e-02 -3.45683768e-02  6.42003939e-02 -3.51152681e-02\n",
            "  3.33599895e-02  1.44436806e-02  2.34516170e-02  3.25612281e-03\n",
            "  4.74340618e-02 -2.41738018e-02  1.83396395e-02 -5.04703820e-02\n",
            "  1.17047771e-03 -2.49649081e-02 -2.05139490e-03  6.79101348e-02\n",
            " -2.50364970e-02 -1.69193409e-02  6.92293942e-02  4.34851125e-02\n",
            " -2.63258204e-04 -6.36996701e-02  5.48573956e-02  7.57467672e-02\n",
            "  2.69706976e-02 -6.46285638e-02  3.07647884e-02 -2.45601833e-02\n",
            "  1.31627992e-02  1.28377024e-02  8.07414483e-03 -3.18537802e-02\n",
            " -6.13243692e-02  9.79385618e-03  3.13776173e-02 -8.41054320e-03\n",
            " -1.08465319e-03  2.78225783e-02  3.31934206e-02 -6.92460984e-02\n",
            "  5.42261563e-02 -6.29267097e-02 -2.16176594e-03  5.86736277e-02\n",
            " -2.28414405e-02  2.41575446e-02 -2.83746421e-02  2.96891797e-02\n",
            " -5.23364209e-02  3.66168320e-02  4.62270677e-02  4.96491678e-02\n",
            " -1.33941034e-02  5.11125028e-02  3.58241354e-03  6.12881631e-02\n",
            " -7.57391229e-02  7.58173317e-02  3.87204513e-02 -5.25672100e-02\n",
            "  2.86852270e-02  1.48167657e-02 -1.12615544e-02 -4.26093079e-02\n",
            "  7.13188425e-02 -3.94926071e-02 -2.76637897e-02 -7.20069557e-02\n",
            "  1.05659403e-02  5.85044622e-02  5.78030522e-05  7.55209848e-02\n",
            " -1.99599527e-02 -1.36051644e-02 -3.02254315e-03  4.47335690e-02\n",
            "  4.70429808e-02 -6.79944232e-02  2.41000522e-02  8.14052485e-03\n",
            " -5.21087423e-02  6.01279587e-02 -1.18790718e-03 -3.04428674e-02\n",
            " -1.83332358e-02 -2.94593032e-02  1.32551398e-02  6.31099045e-02\n",
            "  6.42562062e-02 -2.19385754e-02  5.30050881e-02  1.00221280e-02\n",
            " -4.44554314e-02  5.97627386e-02  1.35870613e-02  9.12287459e-03\n",
            " -3.74319404e-02  6.19702265e-02  7.99384154e-03 -4.96317036e-02\n",
            "  5.28007299e-02 -1.45379761e-02  5.04446104e-02 -5.03229760e-02\n",
            " -5.03861755e-02 -4.46132794e-02 -6.36065006e-02  3.46024777e-03\n",
            " -1.09226042e-02 -3.07127777e-02 -2.56767627e-02 -4.86792736e-02\n",
            "  3.70000154e-02  5.72730973e-02 -6.01907782e-02  4.99543250e-02\n",
            " -6.61655515e-02 -7.22087920e-02  1.41351009e-02  5.99910431e-02\n",
            "  5.98288961e-02 -2.78828014e-03  4.63207141e-02  1.47709129e-02\n",
            " -9.61795263e-03  4.17111367e-02 -2.47922335e-02 -5.47321439e-02\n",
            " -2.41592694e-02 -2.03054175e-02  1.15986187e-02  4.90464494e-02\n",
            "  2.24354956e-02 -1.72573179e-02  5.38428575e-02 -5.01742810e-02\n",
            "  3.25062685e-02 -3.37555893e-02 -2.30219029e-02 -3.98201868e-02\n",
            "  1.38527565e-02  2.08445657e-02 -6.56723650e-03  3.69011089e-02\n",
            "  1.88453865e-04  7.12383725e-03  1.99154206e-02 -5.10846116e-02\n",
            " -1.51093146e-02  5.18848225e-02  1.11717042e-02  3.18623520e-02\n",
            "  8.38681683e-03  3.54964696e-02  2.09449474e-02  1.82217043e-02\n",
            " -1.01747280e-02  1.54305883e-02  2.42643505e-02 -6.68985844e-02\n",
            " -6.74092323e-02 -2.04452686e-02  4.68538003e-03 -5.71950972e-02\n",
            " -2.42736489e-02  6.78480640e-02 -7.16051161e-02  1.68479364e-02\n",
            "  7.00554103e-02  6.47338405e-02  5.09009548e-02  8.80439766e-03\n",
            "  5.31507619e-02 -5.52692823e-02 -9.68106650e-03 -7.93283712e-03\n",
            " -4.79196608e-02 -4.13857438e-02  7.44537031e-03  4.72363904e-02\n",
            " -4.56058159e-02 -2.58866772e-02  3.57888862e-02 -5.87140657e-02\n",
            " -5.53237461e-02 -5.79242557e-02 -5.46338372e-02 -6.46489784e-02\n",
            " -6.96276501e-02 -7.57396519e-02  6.01721816e-02 -4.69706059e-02\n",
            " -3.54755856e-02 -5.68504035e-02 -5.53487465e-02 -5.07714809e-04\n",
            "  2.24055909e-02  4.20629047e-02  5.91184348e-02  3.55406739e-02\n",
            "  2.14288272e-02  4.20817882e-02  2.20999750e-03 -1.74241439e-02\n",
            " -5.95311150e-02 -4.08779271e-02 -2.26668138e-02  2.34596450e-02\n",
            "  4.01353836e-02 -7.31321722e-02 -3.11516225e-02 -7.42764771e-02\n",
            "  1.42225064e-02 -3.00120916e-02 -7.55509138e-02 -7.45447651e-02\n",
            "  6.25308156e-02  3.31207886e-02  6.01915345e-02  5.25997318e-02\n",
            " -4.12967205e-02 -7.32395519e-03  4.56483699e-02 -6.28881529e-02\n",
            "  4.22892049e-02 -8.66792351e-03  3.27996053e-02 -1.08330762e-02\n",
            "  4.46931645e-03 -8.60399287e-03 -5.97079583e-02  6.91152737e-02\n",
            "  6.44606873e-02 -3.51409130e-02  7.48230219e-02  3.10044363e-02\n",
            "  5.09505495e-02  6.17894195e-02 -3.98592427e-02  3.18467021e-02\n",
            " -3.39297652e-02  5.88820167e-02  6.62236586e-02  2.93786102e-03\n",
            " -6.49278611e-02  1.03443507e-02  7.54314885e-02  5.00310473e-02\n",
            "  6.33445084e-02 -4.88755815e-02 -3.36326398e-02  3.67022194e-02\n",
            "  5.51726185e-02 -3.75532173e-02 -3.65327857e-02  6.40190691e-02\n",
            "  5.31585142e-02 -6.40889108e-02  1.82389736e-03  5.07580712e-02\n",
            " -5.97056113e-02 -6.43704757e-02  5.35450177e-04 -3.10305655e-02\n",
            " -4.12173159e-02 -8.22713319e-03 -3.50785516e-02  5.99154085e-02\n",
            "  4.89502475e-02 -3.87617992e-03 -7.58060068e-02 -6.95102103e-03\n",
            "  3.12921144e-02  6.73406944e-02  2.68496946e-02  1.07985586e-02\n",
            "  3.62981372e-02 -3.73004489e-02  2.13300735e-02  3.82981524e-02\n",
            " -5.28474897e-02 -2.33244337e-02  2.46683750e-02  1.41519625e-02\n",
            " -2.19386593e-02 -6.74794540e-02  6.10742494e-02 -5.17172068e-02\n",
            " -2.44063493e-02 -6.89457729e-02 -2.57160105e-02  2.22581085e-02\n",
            "  6.20041043e-02  5.98625243e-02  2.16445746e-03 -6.06977344e-02\n",
            " -7.36575648e-02  2.50346791e-02 -1.54382912e-02 -5.48419431e-02\n",
            " -5.35997748e-02 -6.03782386e-02  4.33657728e-02 -1.30879518e-03\n",
            " -4.69088070e-02  2.66037323e-02  5.48445247e-02  6.57455027e-02\n",
            " -1.29249124e-02  5.36369048e-02  2.44352557e-02  4.34682965e-02\n",
            " -2.50351597e-02 -9.11781285e-03 -4.41857316e-02 -1.36831095e-02\n",
            " -3.36009189e-02  2.19986141e-02 -1.85674820e-02 -4.45375219e-02\n",
            "  3.83245721e-02  6.64867810e-04  7.40788057e-02  8.26479122e-03\n",
            "  1.38974497e-02 -3.88283022e-02  4.42784838e-02  1.48284445e-02\n",
            "  1.32876867e-02  2.97659705e-03  3.77654694e-02  3.95361111e-02\n",
            "  2.52807662e-02 -5.78500070e-02  4.90179434e-02 -6.15094751e-02\n",
            " -4.43631560e-02 -3.18308808e-02 -1.58569422e-02  7.33276010e-02\n",
            " -5.19988537e-02  6.71188533e-02  2.77468916e-02 -2.30617970e-02\n",
            " -2.45090411e-03 -5.97823644e-03 -1.22880861e-02  1.38860205e-02\n",
            "  3.00535676e-03  6.37578666e-02  5.60656227e-02  3.72358598e-02\n",
            "  5.00134705e-03 -1.44067435e-02  5.18176705e-02 -3.06894705e-02\n",
            "  5.53953685e-02 -1.44492658e-02  1.87026206e-02  4.62944582e-02\n",
            "  8.81578866e-03  4.41445708e-02  5.44850640e-02  6.90759495e-02\n",
            " -2.84642428e-02 -5.13122752e-02  3.46083380e-02  6.72081336e-02\n",
            " -5.91602921e-02 -4.96481992e-02  3.92471366e-02 -7.48030543e-02\n",
            "  5.22311358e-03  7.58072734e-02 -4.99053039e-02  4.65448201e-02\n",
            "  3.03485803e-03  6.85028881e-02  5.86556606e-02  2.96893138e-02\n",
            "  5.15969284e-03  6.27181754e-02 -7.02060387e-02  6.40539229e-02\n",
            " -6.74031898e-02 -4.97108735e-02  1.19171096e-02 -4.51219976e-02\n",
            "  3.28026898e-02 -5.14682196e-02 -7.58197233e-02 -2.40137707e-03\n",
            " -3.71312946e-02 -1.55361583e-02  6.27938434e-02  7.35298321e-02\n",
            " -2.78398171e-02  6.19014315e-02  4.84382436e-02  2.20659357e-02\n",
            "  6.56594522e-03  3.79117839e-02 -6.16908930e-02 -7.32112154e-02\n",
            " -6.73583103e-03  5.41360863e-02  1.10048912e-02  5.67189865e-02\n",
            " -3.97367030e-03 -3.72419320e-02  1.82423517e-02  7.46291736e-03\n",
            " -2.44248677e-02 -4.97144721e-02 -1.78915504e-02 -1.70981232e-02\n",
            "  3.79654355e-02 -7.16038644e-02  5.59211299e-02  4.12804149e-02\n",
            "  7.53183961e-02  4.99503016e-02 -2.16640439e-02 -7.00435638e-02\n",
            " -4.28313464e-02  4.88241017e-02  1.64906103e-02 -1.73220541e-02\n",
            "  7.05888793e-02 -3.08356676e-02  1.47175947e-02 -5.96927144e-02\n",
            " -1.66204274e-02  5.79179786e-02  2.46568606e-03  6.24289736e-02\n",
            "  3.63495760e-02  4.72999141e-02  1.02264760e-02 -2.75160894e-02\n",
            " -7.41606876e-02 -6.91097751e-02 -2.28034016e-02 -4.98145446e-02\n",
            "  2.40886714e-02 -7.57524520e-02  1.91499665e-02 -2.18711551e-02\n",
            " -1.88616421e-02  7.00462088e-02  6.93901926e-02 -5.89092635e-03], shape=(512,), dtype=float32)\n",
            "The Mediterranean diet, rich in fruits, vegetables, whole grains, and olive oil, has been associated with numerous health benefits. It is known to promote heart health, weight management, and a reduced risk of chronic diseases.\n",
            "tf.Tensor(\n",
            "[-0.04573164 -0.00433189  0.05124642  0.01180773  0.04625314  0.03365522\n",
            "  0.00373739 -0.00439405  0.07313415  0.00039714  0.07394983 -0.05223694\n",
            "  0.0066976  -0.06325603 -0.07875683  0.0504177  -0.07876286  0.00398227\n",
            " -0.06024368  0.02392884 -0.05134594 -0.05564338  0.06029246  0.00209922\n",
            "  0.04586722 -0.02289616 -0.03105858  0.01898209  0.02276565  0.0050109\n",
            " -0.01300053  0.07876939  0.05494825  0.03401629 -0.00845574  0.03692617\n",
            " -0.06219019 -0.05316778 -0.06616709 -0.01553209 -0.06333013  0.05294863\n",
            "  0.07362277  0.04356954 -0.048346   -0.0173863  -0.0677813   0.00313631\n",
            " -0.06300226 -0.00746706 -0.02404364 -0.03808895 -0.03707299  0.06057468\n",
            "  0.05773938  0.01092551 -0.02346671 -0.00554431  0.07161745  0.05250371\n",
            " -0.05147696  0.03539832  0.05688303  0.00124418 -0.00283512 -0.04396951\n",
            "  0.03810166 -0.07390333 -0.02990071 -0.06589317  0.01127244  0.05712396\n",
            " -0.05963957  0.02412816  0.06032736  0.00218183  0.02871755  0.04972772\n",
            "  0.07458702 -0.00650336 -0.01259794  0.01574245  0.06891004 -0.00112481\n",
            " -0.04940147  0.02468203  0.0015735   0.01059842 -0.00674223 -0.07200649\n",
            " -0.06323059 -0.00760992  0.02259232 -0.00411748  0.00264257  0.03443654\n",
            "  0.02575818  0.04743801  0.0668693   0.02776076 -0.05670836 -0.07009842\n",
            "  0.02273578 -0.03015803  0.04109171  0.02584262 -0.02706094 -0.01782246\n",
            "  0.05147599  0.06116451  0.05723862  0.01740546 -0.01106211  0.03747769\n",
            " -0.05807737  0.00342091  0.05098596 -0.00394671  0.05961918  0.05877493\n",
            "  0.0760686   0.05303281  0.06300703  0.03702288 -0.05191832 -0.04954968\n",
            " -0.0485693   0.0304297  -0.02596107  0.00226146 -0.04642378  0.07876922\n",
            " -0.03755236  0.04212562  0.00131224  0.068813    0.04186012  0.02431185\n",
            " -0.00121438  0.01419881 -0.02494093  0.07033736 -0.04180567 -0.02265518\n",
            " -0.00328739  0.03377765  0.00388103 -0.02623281  0.01663399 -0.01649568\n",
            "  0.01145113 -0.00881746 -0.07499842 -0.05210631  0.05511827 -0.03994439\n",
            " -0.06229065 -0.01921622 -0.04122725 -0.04795988  0.00247055 -0.04058848\n",
            " -0.03041023  0.05795367 -0.01334024 -0.03636473 -0.05482376 -0.02714333\n",
            " -0.05695183  0.02887516 -0.04655194 -0.06161323  0.03159886 -0.02480518\n",
            "  0.06093425 -0.06156274 -0.03943031 -0.04296355 -0.02871821  0.05162448\n",
            " -0.03061491  0.01533096 -0.00661458  0.00073545 -0.04264896  0.03696537\n",
            " -0.05342803 -0.07812433  0.06160699 -0.06750055 -0.07134508  0.00234308\n",
            " -0.04081641  0.04290649  0.01700799 -0.0647535   0.07695565 -0.02926548\n",
            " -0.04269307 -0.03701632 -0.00669439 -0.07297311  0.06384412 -0.04784898\n",
            " -0.05897149  0.07017171  0.06707407 -0.05859405 -0.02697733  0.06104916\n",
            "  0.04356299  0.04915554  0.02055327 -0.03698301  0.04721452 -0.00165432\n",
            "  0.03214004 -0.00420403  0.06570072 -0.03880521 -0.01409325 -0.01715435\n",
            " -0.05189631  0.06079601  0.05754952 -0.06759987 -0.04805484 -0.073388\n",
            "  0.0361521  -0.07687194  0.03139282  0.00708997 -0.01150848 -0.06322099\n",
            "  0.0314674  -0.05730638 -0.04734931  0.02451863  0.03332593 -0.02430507\n",
            " -0.06326228 -0.00295226  0.06394896 -0.00402662 -0.00310627 -0.07668846\n",
            "  0.07876073  0.07414944  0.05752712 -0.07845662  0.07586288 -0.00479477\n",
            " -0.02755833 -0.00488903 -0.03328702 -0.0348298   0.06724564  0.04615731\n",
            "  0.01548135 -0.0453487  -0.00999675  0.01623671 -0.0660881  -0.00578564\n",
            "  0.00689555 -0.03735516  0.06051524 -0.04053613 -0.06363923 -0.01056893\n",
            " -0.04833644  0.03272493  0.02325858 -0.06651968 -0.02409532 -0.06450712\n",
            "  0.05209154  0.02984564  0.04428006  0.06384206  0.03670487  0.03298179\n",
            " -0.01173395 -0.05975075 -0.05611616  0.01538211 -0.02597845 -0.06437363\n",
            " -0.01589745 -0.0211714  -0.00639816  0.05741282  0.07332638 -0.01864186\n",
            " -0.00580467 -0.0063444   0.0344204   0.04695727 -0.04843002  0.03282541\n",
            " -0.04574537 -0.05570205  0.0020462  -0.00909856  0.05638778 -0.02267992\n",
            "  0.02556921  0.06200282  0.06689788 -0.00274173 -0.0517723   0.00099602\n",
            " -0.06780002 -0.0248237   0.00918404 -0.01261681 -0.05785166 -0.01646779\n",
            " -0.06115122 -0.00343625 -0.03834699  0.03721744  0.00318322  0.0785121\n",
            " -0.00200209  0.07819378 -0.02252775  0.00055568 -0.03941127  0.07079481\n",
            "  0.01049353 -0.0101421  -0.02705803 -0.00868533  0.0284357  -0.07803369\n",
            " -0.00489048 -0.01890091 -0.02269818  0.03705458  0.02619535  0.05630952\n",
            "  0.07239159 -0.0313213   0.04883073 -0.07876963  0.03718698  0.06144092\n",
            "  0.07190376 -0.04482499 -0.0050785  -0.05425579  0.06669633  0.01637424\n",
            " -0.0454641   0.03948926 -0.07383375  0.04862186  0.02602032 -0.03379387\n",
            " -0.00209072  0.06294902 -0.0594573   0.04768477 -0.06257086  0.00991652\n",
            "  0.06993032  0.03093289 -0.03032536  0.06822498  0.04540091  0.00336681\n",
            " -0.05792961 -0.05674117  0.03122502 -0.01355334  0.04779965 -0.0073265\n",
            "  0.00250407  0.02874608  0.01005934  0.04711418 -0.01244986  0.06162656\n",
            " -0.00326827  0.05610656 -0.02304259 -0.04421709  0.04758326  0.05978048\n",
            "  0.02889738 -0.01231988 -0.04326803  0.00952304  0.02448778 -0.00753153\n",
            "  0.05601     0.01129144  0.03380721  0.02041965 -0.01287326 -0.02919445\n",
            " -0.04310767  0.02612454 -0.02802717 -0.02484367  0.02885255 -0.02369756\n",
            "  0.00434437  0.01783369  0.01946012  0.05893221  0.01455627 -0.04935774\n",
            " -0.01514892 -0.07038061 -0.00629095  0.05136592  0.05722528 -0.07126371\n",
            " -0.02911805  0.07690795 -0.04388205  0.03446445 -0.00821753 -0.00459636\n",
            "  0.07488275  0.07052495  0.00541804  0.04573349  0.06152602  0.0174297\n",
            " -0.02147257 -0.0534195  -0.066983    0.02893806  0.0324098   0.07047768\n",
            "  0.07496743 -0.07158448  0.01044143 -0.05602372 -0.06704325 -0.02227228\n",
            " -0.01278009 -0.07689823 -0.03770611  0.01937068 -0.01856623 -0.0390289\n",
            " -0.05038029 -0.01328643 -0.00475574 -0.00423803 -0.00853496 -0.00266647\n",
            " -0.0760605   0.0761262   0.0416595  -0.0395527   0.0179047   0.06198502\n",
            " -0.00451832  0.03038097 -0.04093397 -0.04320993 -0.0485227  -0.02664988\n",
            "  0.06185137 -0.00576818 -0.06162505  0.0280876  -0.03578658 -0.02433266\n",
            " -0.00035484  0.05441862  0.04250438  0.02280833  0.06775236  0.02066635\n",
            "  0.0192176   0.06149102 -0.07456858 -0.01216353 -0.04599228 -0.05861494\n",
            " -0.01790223  0.0525585  -0.07875986  0.01959137 -0.02410154 -0.05137973\n",
            "  0.01022402  0.00755761  0.03836415 -0.0310231   0.0673042   0.00540709\n",
            "  0.00489583 -0.01964034 -0.05270445  0.00240254  0.00354539 -0.05810123\n",
            " -0.05327302 -0.07876625 -0.06679875 -0.02740205 -0.01308979  0.07787195\n",
            " -0.01237087 -0.05826054], shape=(512,), dtype=float32)\n",
            "Quitting smoking is a challenging but worthwhile endeavor. Support from friends, family, and smoking cessation programs can significantly increase the chances of successfully quitting. Nicotine replacement therapy is also an option.\n",
            "tf.Tensor(\n",
            "[-0.00313478 -0.06985118 -0.0570608  -0.00779608 -0.06457961 -0.07104541\n",
            " -0.0054296  -0.04446645  0.00645364 -0.04101203  0.01549751 -0.06842203\n",
            "  0.01663585  0.0348426   0.01898188 -0.06776031 -0.07064519  0.05659673\n",
            "  0.04050533  0.06409178 -0.0346343   0.0644087   0.06281657 -0.00168153\n",
            " -0.01662197  0.04501282  0.00564214 -0.04851711 -0.06331468 -0.02680841\n",
            "  0.02514881  0.06930206 -0.01335518 -0.0667339  -0.02848127 -0.04820376\n",
            " -0.00560274 -0.03921673 -0.05492558  0.05671777 -0.00501238  0.01239768\n",
            " -0.03840086  0.00777622  0.06650835  0.03041766 -0.0306526   0.00289172\n",
            "  0.0607472  -0.02913143 -0.05904002 -0.0623783  -0.02118192  0.03161266\n",
            " -0.03981427  0.04037175  0.03516549  0.04148828  0.02010315 -0.05754725\n",
            " -0.05277433 -0.03928264  0.03770244 -0.05113017 -0.05426941  0.02692371\n",
            " -0.01303618  0.04099294 -0.05559169  0.06584287 -0.01480165 -0.01182\n",
            " -0.00535971  0.0208914  -0.01457984 -0.01881763  0.04010088 -0.02114083\n",
            "  0.06936888  0.02461389  0.07129592  0.03470403  0.04136892 -0.06139378\n",
            " -0.05122451 -0.06735457 -0.05152217  0.01235585 -0.0240753   0.00976274\n",
            "  0.01594271  0.03846308 -0.05407916 -0.0247262   0.00093961 -0.00766224\n",
            "  0.04445028 -0.04752971 -0.0195288  -0.06286359  0.0639814  -0.0295037\n",
            " -0.05129614 -0.05186737 -0.0096962   0.03269381 -0.019661    0.05620993\n",
            "  0.04676125  0.03007196 -0.06603624 -0.05078084 -0.00759717  0.03960004\n",
            "  0.0206303   0.02659234  0.06460905 -0.05990674  0.0552457   0.01148832\n",
            "  0.00597582  0.07172479  0.02345074  0.01946939  0.01485817 -0.02123036\n",
            " -0.04578561 -0.05861393  0.00220875 -0.04815988 -0.03661615  0.06804283\n",
            "  0.02854812 -0.06256437 -0.04226049  0.04153437  0.02713762  0.05569449\n",
            " -0.02130736  0.03272936  0.07187812 -0.01913728 -0.04879105  0.03683983\n",
            " -0.03055282 -0.04860693 -0.02425194  0.06292596 -0.04805954  0.05755448\n",
            "  0.01929245 -0.05883975 -0.04213466 -0.06811388 -0.05522126 -0.05770568\n",
            " -0.00493393  0.0059418   0.01340207 -0.06208654 -0.07180192 -0.00783545\n",
            "  0.00074095  0.05687258 -0.04752825  0.05736018 -0.04857404 -0.05751851\n",
            "  0.00048215  0.0568495  -0.04391433 -0.07177237 -0.05989743  0.03994964\n",
            "  0.0298789  -0.01108301 -0.05943537 -0.0003268   0.0397911   0.03557223\n",
            "  0.04810705 -0.01133015  0.06760335  0.07005689  0.05996681  0.04735261\n",
            "  0.07189527 -0.06230517  0.03113892  0.02698529 -0.05908589  0.06923492\n",
            "  0.01887751  0.05605382  0.06283402  0.00053647 -0.06812486 -0.04847383\n",
            " -0.04382017 -0.04460654 -0.01330478 -0.04620434  0.01318684  0.0435876\n",
            "  0.04974727  0.05388073  0.02204025 -0.0035757  -0.03220702  0.03599158\n",
            " -0.0183163  -0.04863662  0.06118248  0.01961849 -0.04023189  0.06402124\n",
            "  0.00999642  0.06942862  0.01783493  0.03854786 -0.00212998  0.01238375\n",
            " -0.01492254 -0.0173886   0.00497167 -0.01177789 -0.04759252 -0.06488584\n",
            "  0.02393196  0.04851892  0.06742409  0.03468519  0.00886803 -0.06739253\n",
            " -0.05901557 -0.02824346 -0.00848437 -0.03086038 -0.02301835  0.06194193\n",
            " -0.01133056 -0.03190831 -0.02250031 -0.06698801 -0.00057805 -0.05546156\n",
            "  0.00926827 -0.01070194 -0.07011927 -0.07089679  0.04256627 -0.0194931\n",
            " -0.02325378 -0.03891166 -0.04032993  0.04621358 -0.02269385  0.07076228\n",
            " -0.06915079  0.04455195 -0.00766534  0.03000401 -0.0102124  -0.01630673\n",
            " -0.0541744  -0.00815558  0.06225616  0.05671786  0.03642379  0.01454791\n",
            " -0.05737282 -0.03534668 -0.01383185  0.01455492  0.03887434 -0.00651706\n",
            "  0.03809391  0.06305023  0.04904442 -0.04766203  0.0687839  -0.02371819\n",
            " -0.02215712  0.01883574  0.06849443  0.00333421 -0.00851093 -0.03195289\n",
            " -0.05415905 -0.02118003  0.00426233  0.02986991  0.07115956 -0.04674651\n",
            "  0.07185314 -0.0279415   0.04856544 -0.00810672 -0.00906552 -0.03128268\n",
            "  0.05395855 -0.07144255  0.04526558  0.00824639 -0.01601367 -0.05863994\n",
            " -0.05897537 -0.02104725 -0.01073858  0.07123207  0.04192144  0.04725648\n",
            " -0.06171069  0.02198383 -0.00912709 -0.07136609  0.03034828 -0.02341472\n",
            " -0.01910811 -0.04566907 -0.02290295 -0.01716327 -0.01175346  0.07173222\n",
            "  0.02624685  0.04324683  0.05076542 -0.06472285  0.04869227  0.06681401\n",
            " -0.07097995  0.02466678 -0.04084703  0.05858121  0.06208555 -0.04242282\n",
            "  0.00680123 -0.01670946  0.00552662 -0.03024019 -0.05699012 -0.06049647\n",
            " -0.04661333  0.02000145 -0.00054235 -0.07189456 -0.06357685  0.04906174\n",
            " -0.02558295  0.01033871  0.04547757  0.05862569  0.0041041   0.0617607\n",
            " -0.01731248 -0.02217194 -0.06884315  0.05011681  0.03539076  0.06468429\n",
            " -0.04850716  0.06216695  0.04935716  0.02244844 -0.01658084 -0.03099819\n",
            "  0.0355832   0.04489192 -0.00088577 -0.07188287 -0.06208048 -0.03428145\n",
            " -0.01606471  0.06434566 -0.05988692 -0.04948895  0.04993126 -0.04334933\n",
            "  0.07055493 -0.07118266 -0.00482751  0.05379028  0.06016818  0.03833047\n",
            "  0.04655025  0.04639338  0.067784    0.02856646  0.05996986  0.06640095\n",
            " -0.05181737  0.06778683 -0.0532609  -0.00625394 -0.01912077 -0.02668151\n",
            "  0.03039584 -0.0431765   0.05839124  0.03623505  0.03894058  0.05344908\n",
            " -0.03765901 -0.03293819 -0.06117282 -0.0634191  -0.03324974  0.0506277\n",
            "  0.00219988  0.03126295  0.04021138  0.05479065  0.05995914  0.01376322\n",
            "  0.00303885 -0.03998588  0.07085105  0.06780735 -0.00731358 -0.0479852\n",
            "  0.05981005  0.07083032  0.0303691   0.00899117 -0.04892774 -0.05515017\n",
            "  0.01480911  0.04633293  0.04239929  0.00792185  0.02605399 -0.06562251\n",
            "  0.05300304  0.07064363 -0.04742719  0.0574538  -0.02282257  0.03823316\n",
            "  0.02743119  0.02575919 -0.04012515 -0.0015691  -0.01364006  0.05017074\n",
            " -0.03231283 -0.05076948 -0.05987671  0.00597316 -0.02123281  0.02132789\n",
            " -0.008565   -0.00410333 -0.03565531  0.02979537  0.04103741  0.06541395\n",
            "  0.00049473  0.05708537 -0.04001622  0.04032397  0.01967939  0.01993969\n",
            " -0.03539115 -0.06793191  0.05112002  0.05577223 -0.06050664 -0.05022647\n",
            "  0.052495   -0.00075649 -0.00160145 -0.03524055 -0.05791019 -0.06921268\n",
            "  0.04269018  0.01140229 -0.00520192 -0.02308857  0.07096037  0.04408317\n",
            " -0.06149061  0.06654236  0.02548246 -0.06656408  0.06524265 -0.01295472\n",
            "  0.00196981 -0.01289222 -0.02002867 -0.04248162  0.01020931 -0.02958428\n",
            " -0.04740424  0.05995061  0.0658562  -0.0450844   0.07169072 -0.00135805\n",
            "  0.05853796  0.03936079 -0.02936287 -0.06088182 -0.05383362 -0.05612575\n",
            "  0.01685421 -0.06323291  0.04400139 -0.04636957  0.01529212  0.06715009\n",
            " -0.05261469 -0.00591853], shape=(512,), dtype=float32)\n",
            "Regular physical activity has numerous benefits, including improved cardiovascular health, weight management, and mood enhancement. Finding enjoyable forms of exercise can make it easier to maintain a consistent routine.\n",
            "tf.Tensor(\n",
            "[-0.03631151 -0.07009664  0.06151347  0.06211573  0.00955404 -0.01323275\n",
            "  0.01548337  0.04569551  0.05465183  0.0386996   0.00752554 -0.05572725\n",
            "  0.00918352  0.00831023 -0.00036123  0.01047656 -0.08027691  0.06399791\n",
            " -0.03911078  0.04313585  0.03361315  0.02021017  0.067509    0.01433039\n",
            "  0.04428018  0.02230277  0.01941944  0.05951195 -0.05087952 -0.01770716\n",
            " -0.04962949  0.08044194  0.04239646  0.00293741 -0.04625329  0.01320898\n",
            "  0.0203393  -0.07504953  0.02107594 -0.0021801  -0.05936753  0.07853551\n",
            " -0.00463408  0.02352563  0.07051106 -0.00010761 -0.0460868  -0.02033026\n",
            "  0.01875586  0.02783797 -0.04336117  0.00850027 -0.02865943  0.02025395\n",
            "  0.07586011  0.05567519  0.04160867 -0.05368038  0.05322979  0.01756323\n",
            " -0.03125786 -0.01796795  0.06645729  0.05910759  0.04992754 -0.02506929\n",
            "  0.05021216  0.02026918 -0.02142894 -0.04687177  0.02345625  0.01938644\n",
            " -0.01758031 -0.02968574 -0.0308616   0.05313069 -0.04365224 -0.03100068\n",
            "  0.08047257  0.03671445  0.06099761 -0.05152451  0.0598322   0.03837969\n",
            " -0.01887992 -0.06719288  0.01717602 -0.05139286 -0.06003762  0.00689983\n",
            "  0.00749513  0.03942238 -0.0360309   0.00056195  0.00891962  0.01238024\n",
            " -0.00030412  0.06239254  0.00365713 -0.07043745  0.0237708  -0.06793185\n",
            " -0.01923799 -0.00837973  0.04678833  0.02927173 -0.00782729  0.05096324\n",
            "  0.04382907  0.01587844  0.00027313  0.06728631 -0.03478223 -0.03466341\n",
            " -0.0754896   0.04663273 -0.03750847  0.00380146  0.03502208 -0.02497998\n",
            "  0.06173238  0.02873472 -0.04727457  0.02426947  0.01990633 -0.03329459\n",
            " -0.07441986  0.02994581  0.0471592   0.00670385 -0.02146295  0.08048676\n",
            " -0.00401247 -0.04565919 -0.02536627  0.06725362  0.06991369  0.01910044\n",
            "  0.0509906  -0.01985038  0.04911959  0.03899584  0.04845786 -0.0318876\n",
            " -0.0049084   0.00531512  0.03458877 -0.03219891  0.0533497  -0.04454874\n",
            "  0.07799909  0.00178713 -0.0617553  -0.04422408 -0.05697281 -0.05447154\n",
            " -0.03352413  0.04707443  0.07622641 -0.06661621 -0.01409671  0.02641255\n",
            "  0.0244444   0.04608413 -0.05871551  0.03041853 -0.00016231 -0.06105171\n",
            "  0.0044236   0.01044607 -0.05584586 -0.05311007 -0.02767286 -0.0508419\n",
            " -0.05480469 -0.04710555 -0.05258561  0.0584054   0.01956793 -0.02608852\n",
            "  0.00443654 -0.03199988  0.03178634  0.01395016 -0.0052517   0.07847051\n",
            " -0.00508113 -0.07604916  0.04966051 -0.02928546 -0.0219164  -0.0039009\n",
            " -0.01878015  0.02188352  0.01185054  0.03823879  0.07543777 -0.00429702\n",
            " -0.06009523 -0.06610523  0.0395651  -0.08042497 -0.04259636 -0.01768561\n",
            " -0.01788098  0.03763508  0.01432544 -0.05176554  0.00917871 -0.04422544\n",
            "  0.0418574  -0.03273918  0.03583585 -0.01848843  0.05252803  0.04369172\n",
            "  0.01292442  0.00588861  0.04504143 -0.00864496  0.01586607  0.02618205\n",
            "  0.00802614 -0.00677033 -0.02076826  0.00703874 -0.03540336 -0.03853721\n",
            "  0.04306003  0.04975355  0.06715741  0.07077729 -0.02367683 -0.00469428\n",
            "  0.02262856 -0.06800787 -0.06633934  0.07063835 -0.01967889  0.07092001\n",
            " -0.06314723 -0.03925604 -0.03647278 -0.01053988 -0.06979746 -0.07395538\n",
            "  0.07924671 -0.0282087   0.00164868 -0.08048352  0.07828236 -0.0698966\n",
            " -0.04265619  0.00701441  0.00967532 -0.01942631 -0.00418567  0.07700645\n",
            "  0.06344183 -0.06081113  0.00376127 -0.02423826 -0.03952758  0.03374366\n",
            " -0.02509793  0.00595559  0.02355903 -0.01688455  0.02859022 -0.05293526\n",
            " -0.03345251 -0.05577251  0.02300853 -0.06258955  0.02232989 -0.04624692\n",
            "  0.02504922  0.03450898  0.05282768  0.07767282  0.06516095 -0.03426993\n",
            "  0.01384559 -0.01689446  0.02233216 -0.02415388  0.05595154  0.00305095\n",
            " -0.01304023 -0.07119444 -0.04878159  0.07076071  0.06878294 -0.03118982\n",
            "  0.07956352  0.02641985  0.07594723 -0.0259657   0.01439651 -0.07767969\n",
            " -0.05974849 -0.0489521   0.02455556 -0.01699773 -0.02957572  0.02676934\n",
            "  0.04704369 -0.03354612  0.06429587 -0.013386   -0.04272714  0.04451336\n",
            " -0.05911759 -0.03330092 -0.07575303  0.01257905 -0.06210484  0.04425335\n",
            " -0.04205741 -0.06786733 -0.05886821 -0.00916975 -0.00933909 -0.00026777\n",
            " -0.06612625  0.05044783  0.00625266 -0.03047142 -0.05249905 -0.00711519\n",
            " -0.05282409 -0.0671235   0.06218693  0.04200587 -0.02162488  0.03176628\n",
            " -0.01460323 -0.04521319  0.05164079  0.00849486 -0.05478719 -0.00206254\n",
            "  0.01091811  0.01405137  0.0656551  -0.07810657  0.04549857  0.05364276\n",
            "  0.0615505  -0.07559742  0.01837222 -0.00095351 -0.03976453  0.03142089\n",
            "  0.05768609 -0.05373936 -0.07665192 -0.01686357  0.00145637  0.0051537\n",
            "  0.03896021  0.06539813 -0.04152685  0.02332084 -0.07504024 -0.00934978\n",
            "  0.07109717  0.03003569 -0.01095225 -0.00657885  0.02743866  0.01631467\n",
            " -0.05604206  0.0078896  -0.02213412  0.00051987 -0.01748012 -0.02388775\n",
            " -0.0177721  -0.04972363  0.07855031  0.04103228  0.07727005  0.00070728\n",
            " -0.07008345  0.01093478  0.06382256  0.04818697  0.03841755  0.01191939\n",
            "  0.06379442 -0.01092603 -0.01593067  0.00152604  0.06193347 -0.0521212\n",
            "  0.06006341 -0.00036635  0.03053669  0.01034564 -0.02904106 -0.0154673\n",
            "  0.02683412  0.01141814 -0.01964921 -0.05220541 -0.00390457 -0.01937108\n",
            "  0.04268437  0.07076662  0.06276119  0.06753759 -0.01567126  0.01085291\n",
            "  0.03748576 -0.06150387 -0.04861777  0.07408812 -0.06360565  0.00041257\n",
            "  0.03177069  0.0665502  -0.02745645 -0.06787643 -0.0137099   0.01700103\n",
            "  0.04200242  0.04099468 -0.07197919 -0.01728734  0.06703618  0.05078102\n",
            "  0.04020887  0.05856336 -0.06651019  0.06063492  0.0165313   0.03741913\n",
            "  0.07280332 -0.07102173  0.00828405  0.04071864 -0.04977445 -0.02074094\n",
            "  0.06182002 -0.05624904  0.02479436 -0.02344038  0.03463195  0.03699459\n",
            " -0.01181505 -0.00533035 -0.03609503 -0.0342971   0.04669583  0.06988671\n",
            " -0.07890721  0.07542349  0.0740876  -0.05373019  0.00512118  0.06225927\n",
            " -0.04779438 -0.02107715  0.06020411  0.01066455  0.01018576  0.03087803\n",
            "  0.02417358 -0.0185558   0.04007425  0.02652873  0.03506781 -0.02553426\n",
            " -0.0178467   0.01588188  0.05893277 -0.04006848  0.07867875 -0.05499389\n",
            "  0.03079735 -0.00702831 -0.03687206 -0.00299833  0.01238803 -0.04287093\n",
            "  0.0478703   0.02091018  0.06198147 -0.02804333 -0.03166775 -0.00721736\n",
            "  0.06368607  0.07355846  0.04155786  0.02407193  0.07453231 -0.05505202\n",
            " -0.04744616  0.01636629 -0.03869372 -0.05245952  0.04501265 -0.07622169\n",
            " -0.0143531  -0.07678615  0.01430719  0.03168104  0.05788893  0.07723197\n",
            " -0.0505226   0.06805689], shape=(512,), dtype=float32)\n",
            "Hydration is essential for overall health. Drinking an adequate amount of water helps maintain bodily functions, supports digestion, and contributes to healthy skin. It's recommended to aim for at least eight glasses of water per day.\n",
            "tf.Tensor(\n",
            "[-1.98876094e-02 -2.41370946e-02 -6.24156371e-02  4.06625047e-02\n",
            "  7.64888451e-02 -3.36726429e-03 -2.58887559e-02  1.04780355e-02\n",
            "  6.60725087e-02  4.95311581e-02  1.69435143e-02 -1.99601669e-02\n",
            " -6.85846731e-02  4.07755673e-02 -7.86080062e-02  6.33292496e-02\n",
            " -7.85196424e-02  3.07466388e-02 -6.55464455e-02  8.51210486e-03\n",
            " -6.86710253e-02  1.14727682e-02  6.78412765e-02 -2.69662198e-02\n",
            "  3.59359346e-02  2.33486462e-02 -4.73540872e-02 -4.79949377e-02\n",
            " -5.10502383e-02  2.72866734e-03 -9.55886859e-03  7.85010681e-02\n",
            "  4.51055132e-02 -1.66115239e-02 -6.78664297e-02 -1.75621938e-02\n",
            " -1.19002238e-02 -4.96475734e-02  8.05903459e-04 -2.58357683e-03\n",
            "  1.37520535e-02  7.69363642e-02  4.24085297e-02  4.89667095e-02\n",
            "  6.13803156e-02 -5.63596003e-02 -6.72626272e-02 -4.56361435e-02\n",
            " -2.52605043e-02  3.95647436e-02 -1.65226813e-02  1.14231901e-02\n",
            "  4.54236120e-02 -5.06843217e-02 -3.97359468e-02  3.82987484e-02\n",
            " -2.85426658e-02 -9.08005796e-03  5.57922088e-02 -4.43011662e-03\n",
            " -2.89784651e-02  5.46085509e-03  4.69471589e-02 -4.57780585e-02\n",
            "  2.09225509e-02 -8.43374990e-03  5.10530174e-02 -4.41099815e-02\n",
            " -4.14830446e-03 -6.56805784e-02 -4.96126972e-02  7.10124429e-03\n",
            "  2.03040913e-02 -4.15186332e-05  5.14564514e-02  3.68901603e-02\n",
            " -1.34167196e-02 -6.32104203e-02  7.40402862e-02 -8.15869868e-03\n",
            " -8.34890059e-04 -6.02836311e-02  6.93552271e-02  6.51329905e-02\n",
            "  7.38992495e-03 -4.48654816e-02  4.77194823e-02  3.51885408e-02\n",
            " -3.94972712e-02  2.06463374e-02  4.56640273e-02 -3.96041758e-02\n",
            " -7.13689625e-02  3.18896100e-02 -7.76172727e-02 -2.68502568e-04\n",
            " -4.28005606e-02  1.31251058e-03  2.41490826e-02 -5.58455773e-02\n",
            " -6.89152107e-02 -5.89214489e-02  4.93540578e-02  2.64613889e-02\n",
            " -1.78946462e-02  1.85712725e-02  1.84361134e-02  1.03535422e-03\n",
            "  4.57026064e-02  2.29030550e-02  4.85213809e-02  4.21365462e-02\n",
            "  6.04233034e-02  1.01320315e-02 -7.68017620e-02  7.06407428e-02\n",
            "  2.23038886e-02 -1.48339262e-02  2.65944675e-02 -5.80450445e-02\n",
            "  7.77312964e-02 -7.39055574e-02 -5.80402389e-02 -3.37889753e-02\n",
            "  1.48062278e-02 -2.89567839e-02 -5.04084267e-02  2.81629916e-02\n",
            "  4.27823961e-02  5.99930882e-02 -1.85487755e-02  7.87738413e-02\n",
            "  1.93256349e-03 -1.11663267e-02  2.72033806e-03  3.59829068e-02\n",
            "  4.44201976e-02 -7.80676976e-02 -1.08160609e-02 -7.24186301e-02\n",
            " -5.31154312e-02  5.22211082e-02  6.88504502e-02  1.65527947e-02\n",
            " -1.88186637e-03  4.05681729e-02  2.75474880e-03 -6.29328862e-02\n",
            " -9.32014082e-04 -4.89571095e-02 -5.86144766e-03  1.46374665e-02\n",
            " -5.71592972e-02 -2.48482823e-02  2.92125810e-02 -6.55269101e-02\n",
            "  9.90867708e-03  5.35579175e-02  1.75589975e-02  5.25606535e-02\n",
            "  4.39326838e-02  4.74813581e-02 -7.53453327e-03  3.54622714e-02\n",
            " -5.26813231e-02  2.91973837e-02 -5.13584949e-02  7.46750459e-02\n",
            " -3.42159644e-02 -5.66110313e-02 -4.62986082e-02 -3.87583077e-02\n",
            " -4.09392035e-03 -6.91469461e-02  6.20308556e-02  1.93366632e-02\n",
            "  1.02455821e-02  4.53133844e-02 -2.02278104e-02  1.25439316e-02\n",
            " -5.13302572e-02  3.77937667e-02  6.69463500e-02 -6.04085885e-02\n",
            " -2.60774381e-02  6.26318529e-02  5.47331870e-02 -5.25312088e-02\n",
            " -6.82860911e-02 -3.48538794e-02 -5.32534383e-02 -7.16038421e-03\n",
            " -4.55825217e-02  4.40315120e-02 -8.03770963e-03 -2.35424843e-02\n",
            "  7.33830482e-02 -4.20889221e-02 -2.25655478e-03 -6.23593293e-02\n",
            " -7.18939397e-03 -7.44115263e-02 -2.92962696e-02  3.19538713e-02\n",
            " -1.70603278e-03 -4.60496619e-02 -7.30664819e-04 -6.29819855e-02\n",
            " -4.80955541e-02  5.98765388e-02  1.59667619e-02  3.54795891e-04\n",
            "  1.67413950e-02  5.95803522e-02  3.13307159e-02 -3.65191437e-02\n",
            " -7.42441043e-02  1.25918239e-02  5.10298014e-02 -2.35812999e-02\n",
            " -3.51295173e-02  3.50695476e-02 -3.64565551e-02 -2.92981602e-02\n",
            "  1.41025742e-03  4.11909446e-02 -6.46112040e-02  5.69683574e-02\n",
            "  5.14769852e-02 -6.81173578e-02  2.18703803e-02  3.38220894e-02\n",
            "  3.60479802e-02 -6.80640861e-02 -7.66909420e-02 -2.63846107e-02\n",
            " -3.78415324e-02  6.73965439e-02 -3.56363431e-02 -3.09168431e-03\n",
            " -6.11450225e-02  4.81814407e-02  2.08222941e-02 -6.89590275e-02\n",
            " -6.01630174e-02 -7.28159249e-02  7.77480304e-02  6.94235042e-02\n",
            " -6.39548153e-02 -7.87228271e-02  5.89426495e-02 -2.38667317e-02\n",
            "  5.24085276e-02 -2.81501450e-02 -2.02005822e-02  1.43499635e-02\n",
            " -6.37534889e-04  7.73876011e-02  1.61345955e-02 -1.17967762e-02\n",
            " -7.32303644e-03  2.17323005e-02 -1.37797687e-02  1.38499700e-02\n",
            "  2.71066632e-02  5.72332880e-03  6.43149540e-02  6.44665677e-03\n",
            "  1.59455079e-03  6.09150268e-02  2.81621385e-02 -1.06159467e-02\n",
            " -3.42095122e-02 -6.38066232e-02  1.78748351e-02 -2.72287223e-02\n",
            "  7.12192431e-02 -6.18039295e-02  4.62426022e-02  7.16579705e-02\n",
            "  4.60947976e-02  2.36281399e-02  3.05823274e-02 -5.37237339e-02\n",
            " -4.16945331e-02  3.00988983e-02  5.60320728e-02  5.64755611e-02\n",
            "  1.66164842e-02  1.89129673e-02  1.93181969e-02  7.06707165e-02\n",
            "  7.05739334e-02  2.54405104e-03  7.84332529e-02  4.01736014e-02\n",
            " -3.28820897e-03 -4.56910469e-02 -1.11867199e-02 -1.55041395e-02\n",
            " -3.49482708e-02  5.82773983e-02  2.25742646e-02 -4.19592261e-02\n",
            "  5.53790517e-02  2.13137437e-02  6.51921034e-02  1.79240033e-02\n",
            " -2.07576081e-02  8.40700325e-03 -4.99840938e-02  2.59590000e-02\n",
            " -1.88934039e-02 -2.27165110e-02  7.22150430e-02 -1.67267192e-02\n",
            "  3.03947702e-02 -6.02210946e-02 -3.43840756e-02  2.67065819e-02\n",
            " -3.84426080e-02 -1.25924041e-02 -1.91633701e-02  7.40635172e-02\n",
            "  4.91156755e-03  7.39290714e-02 -6.34325519e-02  1.90285947e-02\n",
            " -2.07026955e-02  4.78176773e-02  4.49269748e-04  2.22272109e-02\n",
            " -3.98409441e-02  6.88190162e-02  5.53134196e-02 -4.22470756e-02\n",
            "  3.58350426e-02 -5.36899045e-02  2.96011418e-02 -5.14150783e-02\n",
            "  1.97413880e-02  2.34275609e-02 -6.81099817e-02  6.33819699e-02\n",
            "  1.48327183e-02 -7.87749141e-02  1.50897829e-02  1.86429564e-02\n",
            " -5.25376461e-02 -3.21364887e-02  6.31857365e-02 -1.27935950e-02\n",
            "  2.38807872e-02  5.03879376e-02  6.64526671e-02 -3.00566480e-02\n",
            " -7.59243965e-02 -5.57700433e-02 -6.02840930e-02 -3.57706025e-02\n",
            " -3.46101224e-02  3.19044217e-02  3.41021791e-02 -1.13146733e-02\n",
            " -4.10672575e-02  5.89756258e-02  5.20186163e-02  4.34223004e-02\n",
            " -3.20470221e-02  6.63268715e-02  2.37510093e-02 -7.36068643e-04\n",
            " -2.60797460e-02 -7.67333135e-02 -6.78956807e-02  3.57572245e-03\n",
            " -4.27702926e-02 -3.58939394e-02 -6.10215776e-03  1.95221137e-02\n",
            " -4.36519310e-02  2.39517763e-02  6.11008666e-02  8.80782865e-03\n",
            " -7.03231618e-02 -1.74467936e-02  4.21433896e-02 -1.52391503e-02\n",
            "  3.64634283e-02  4.82015498e-02  5.14404662e-02 -2.89224572e-02\n",
            " -1.04157180e-02 -4.88307104e-02  6.63186237e-02 -3.80034707e-02\n",
            "  6.98184744e-02  3.27839106e-02 -1.75214447e-02  7.54077435e-02\n",
            " -6.81874827e-02 -2.41807308e-02 -5.26223565e-04 -5.09721972e-02\n",
            " -4.81812656e-02 -1.28719062e-02 -1.75895803e-02 -3.44556198e-03\n",
            "  3.93957123e-02  5.30284718e-02  5.78380339e-02  6.00529350e-02\n",
            " -2.30721030e-02 -6.02745414e-02  1.55009786e-02 -1.87009890e-02\n",
            "  7.12210163e-02 -8.63789581e-03  3.62508819e-02 -1.70110893e-02\n",
            "  2.93569416e-02  2.26396266e-02 -3.80297168e-03 -4.86029238e-02\n",
            "  2.83999089e-02  5.03051318e-02  4.97237593e-02  1.64544582e-02\n",
            "  3.76731046e-02  3.92653458e-02  7.42959157e-02 -6.36534095e-02\n",
            " -1.52031863e-02  2.72458922e-02  3.27935471e-04  6.71933144e-02\n",
            "  5.42058842e-03  3.65534425e-02  2.41581313e-02 -3.98532907e-03\n",
            " -2.95879263e-02  1.13848867e-02 -6.32627402e-03 -1.37449587e-02\n",
            "  3.17609385e-02 -5.16589470e-02  2.07342929e-03  1.99737363e-02\n",
            " -1.96952168e-02 -1.54973781e-02 -2.52564833e-03 -4.65896279e-02\n",
            " -3.34418565e-02 -4.74304333e-02 -3.81790064e-02  7.23252147e-02\n",
            " -7.81070590e-02  7.24617839e-02  7.29486719e-02  3.46206268e-03\n",
            "  2.06481051e-02  2.20027491e-02  5.12864627e-02 -6.67920932e-02\n",
            "  6.52843490e-02 -3.96457996e-04 -3.03906016e-02  4.37002257e-02\n",
            "  2.24605016e-03 -1.82513637e-03 -7.87688121e-02  2.02922598e-02\n",
            " -1.22010671e-02 -7.13029802e-02 -9.29424446e-03  6.40030531e-03\n",
            "  7.35535324e-02  2.83975657e-02  6.14864863e-02 -6.22060113e-02\n",
            " -3.48306000e-02 -2.08537076e-02 -7.06865042e-02 -6.82870001e-02\n",
            "  1.95649508e-02 -6.83974996e-02 -2.73190457e-02  7.30576888e-02\n",
            " -2.69693416e-02  5.66876074e-03  4.57320586e-02 -3.10489740e-02\n",
            "  3.12324427e-02  6.43892810e-02 -1.50973499e-02  6.67625293e-02\n",
            "  7.14117810e-02 -1.72355715e-02 -2.06096843e-02  1.19873229e-02\n",
            "  3.42986803e-03  2.14318046e-03  4.17091548e-02 -7.43601918e-02\n",
            " -3.37084904e-02 -7.43203685e-02 -5.23131788e-02 -1.59617737e-02\n",
            " -3.60818207e-02  7.61229768e-02 -2.33549606e-02  1.66275185e-02], shape=(512,), dtype=float32)\n",
            "Balanced nutrition plays a crucial role in maintaining a healthy weight and preventing chronic diseases. A diet rich in fruits, vegetables, lean proteins, and whole grains provides essential nutrients for optimal health.\n",
            "tf.Tensor(\n",
            "[-0.0385791  -0.03823084  0.03331903  0.05162169  0.06045366 -0.02176354\n",
            " -0.01080342  0.03608593  0.01837168  0.03164818  0.05265752 -0.04275857\n",
            " -0.03076879 -0.07161933 -0.07396854  0.06374732 -0.0739668   0.06449062\n",
            " -0.02446422  0.00501953 -0.04554357 -0.03690386  0.0582886   0.00532906\n",
            "  0.0487187  -0.03828118 -0.00922582  0.03165798 -0.02842093  0.03763874\n",
            " -0.00571995  0.07396858  0.05957643  0.03152581 -0.01016961 -0.02602228\n",
            " -0.01458712 -0.01559242 -0.06767057 -0.02054679 -0.03780805  0.04013981\n",
            "  0.07074961  0.01775286  0.00050008 -0.04548851 -0.03007176 -0.05078286\n",
            " -0.06487748 -0.04566835  0.01769277 -0.02993067 -0.02818302  0.0471984\n",
            "  0.03003934  0.00376589  0.0424146   0.01494016  0.06736809  0.06574548\n",
            "  0.03185273 -0.06376959  0.01092428 -0.03488399 -0.04813088  0.00665135\n",
            "  0.05964346 -0.06432305  0.02995052 -0.0728342  -0.0144886   0.05551482\n",
            "  0.05685323  0.01744963  0.06431334  0.06866682  0.04290824  0.07144669\n",
            "  0.07390752 -0.0377941  -0.06137051  0.03581885  0.06900714  0.02244608\n",
            "  0.00108453 -0.01681013  0.00029355 -0.02369028  0.00551879 -0.05114692\n",
            " -0.01624782 -0.03695935 -0.00026359  0.05484376  0.0715227   0.04984384\n",
            "  0.02844746  0.06484614  0.06615452  0.0643068  -0.05070737 -0.05906351\n",
            "  0.00992321 -0.01718745 -0.02603523 -0.00268953 -0.04991994 -0.02033304\n",
            " -0.03356037  0.05824712  0.04233647  0.04423294  0.04157053  0.06321937\n",
            " -0.07181454  0.05237623  0.05496829  0.02582987  0.0301965   0.0399379\n",
            "  0.02591803 -0.03027295  0.06736819  0.03185802  0.00957125  0.01138439\n",
            " -0.06871772  0.05826026  0.02686614  0.02874567 -0.03513749  0.07396902\n",
            " -0.01279796  0.04842238  0.05423362  0.03857502  0.05161083  0.02005928\n",
            "  0.00156269  0.0176171  -0.01524009  0.04120662  0.00279366  0.00281539\n",
            " -0.06450066 -0.06371181 -0.02987838 -0.03902739 -0.01190531  0.03650872\n",
            "  0.00779532 -0.00172489 -0.0477881   0.01736881  0.07226062 -0.06122112\n",
            " -0.05880489 -0.0037568  -0.01582592  0.00654333  0.04909577 -0.05551563\n",
            " -0.00490201  0.06514121  0.00957605 -0.02033213 -0.05689989  0.0475203\n",
            " -0.01703992 -0.02198426 -0.06078655 -0.05252318  0.0368862  -0.00454925\n",
            "  0.05931999 -0.05604791 -0.03649689 -0.03916722 -0.01168286  0.02206667\n",
            " -0.02678675  0.02316645  0.04425292 -0.05507192 -0.04806682  0.02505043\n",
            " -0.05172954 -0.07247882 -0.05347712 -0.03717289 -0.05807222 -0.03383601\n",
            " -0.00948265  0.02109279  0.03046045 -0.04890375  0.07392579 -0.0626559\n",
            " -0.06762448 -0.06760307  0.06129234 -0.07344668  0.01589797  0.03684011\n",
            "  0.01618114  0.04325228 -0.0263667  -0.07014693 -0.00385873  0.04293006\n",
            "  0.01362471  0.0162493   0.01374525 -0.02216112  0.0264451  -0.05256601\n",
            "  0.01695918  0.02651889  0.06986398 -0.02725547  0.03686143  0.0474473\n",
            " -0.0665504   0.03710219  0.04395891 -0.05908224 -0.01834382 -0.01475466\n",
            "  0.02970094 -0.07219226 -0.04445305  0.01883051  0.00338168 -0.04392731\n",
            "  0.04216034  0.01329515 -0.05972328  0.02663405  0.01948514 -0.04330888\n",
            " -0.0263013  -0.05384166  0.07152298 -0.0510937  -0.02122331 -0.06422815\n",
            "  0.07396898  0.07352441  0.06272998 -0.07390341  0.05689472 -0.04647487\n",
            "  0.06721702 -0.02160178 -0.01842833 -0.05884474 -0.0165171   0.00350186\n",
            "  0.0513065  -0.07105527  0.04457095  0.0493339  -0.02469979  0.05470292\n",
            "  0.00925029 -0.04567738  0.02858078 -0.06576244  0.0310384  -0.05987799\n",
            " -0.04387352 -0.00962135  0.04323088  0.02756361  0.02716668 -0.05043634\n",
            "  0.0511185   0.0442864   0.06137599  0.07292666  0.01310357 -0.00338084\n",
            "  0.03365734 -0.05680627 -0.07172838  0.04139839 -0.04032951 -0.06425262\n",
            " -0.01688937  0.00366953 -0.01710128  0.07013338  0.07376312 -0.02939125\n",
            "  0.07259867  0.04108423 -0.02582625  0.05974958 -0.06094566  0.04525582\n",
            " -0.02066468  0.04586643  0.03790541  0.05249913  0.06476606 -0.01447983\n",
            "  0.0650181   0.05162752  0.060079    0.06191036  0.02203946 -0.02066874\n",
            " -0.00174625 -0.01354467 -0.0711092   0.01231071  0.04973713 -0.07028143\n",
            " -0.0147021   0.01686781  0.04067942  0.02692808 -0.01404271  0.07388323\n",
            "  0.0587676   0.07221417 -0.02794207  0.02070905  0.04359786  0.04582279\n",
            " -0.05754597  0.00534832 -0.03538326  0.01656754  0.04475512 -0.07378779\n",
            "  0.02823223  0.01145362  0.04083956  0.05679039  0.00831704  0.05687204\n",
            "  0.03599285 -0.05455859 -0.00673259 -0.07396902  0.01519131  0.01654753\n",
            "  0.03981192 -0.03130129  0.03772668  0.05833513  0.06343259  0.03180505\n",
            "  0.04900745  0.00430016 -0.07112356  0.03125991  0.0391321   0.01819778\n",
            "  0.01902493  0.02849401 -0.06336854  0.06153008 -0.05641176  0.05245836\n",
            "  0.0695195   0.04966209 -0.0069276   0.06457033  0.06642774  0.00792149\n",
            " -0.03080391 -0.07363826  0.01868042 -0.01852303  0.00772142  0.04853654\n",
            " -0.04317359  0.01222979  0.02593296  0.02942517  0.06036777  0.03808363\n",
            " -0.03186673  0.05001029  0.02327477 -0.04857466 -0.03551553  0.0656379\n",
            " -0.00753921 -0.05142943 -0.01082034 -0.05786709  0.03666545  0.01564985\n",
            "  0.03520483  0.04356363  0.00895547  0.06779449 -0.04943835 -0.04120813\n",
            "  0.0108233  -0.003596   -0.05659062 -0.01134622  0.02944455 -0.01473593\n",
            "  0.04724086  0.0507392   0.04234941  0.06055564  0.04068173 -0.06818151\n",
            " -0.02116817 -0.0232996  -0.01424128 -0.00310351  0.06700066 -0.04885319\n",
            " -0.0423633   0.05797596 -0.03865358  0.02399398 -0.03354668 -0.01801172\n",
            "  0.07238533  0.06839245  0.05175341  0.0280917   0.06415024 -0.02625357\n",
            "  0.0284968  -0.03788185 -0.06247962  0.04597183  0.0251269   0.01793676\n",
            "  0.05991979 -0.03091262  0.04694208 -0.0273972  -0.04370112  0.00810727\n",
            "  0.00078443 -0.06417639 -0.05198669  0.05850082  0.03219179 -0.04663602\n",
            " -0.03069775 -0.04806994 -0.06012622  0.02876958  0.04621236 -0.00869328\n",
            " -0.07394191  0.07188771  0.05270029  0.03816692 -0.01099666  0.03142514\n",
            " -0.00603415 -0.01604141 -0.05909997  0.01886756 -0.00295654  0.0096269\n",
            " -0.00156068  0.01532812 -0.01514943 -0.01556037  0.00327691 -0.05150419\n",
            " -0.00870604  0.06612975 -0.02438115  0.06285273  0.06425507  0.05767025\n",
            " -0.05425425  0.03651875 -0.06786051 -0.04152367 -0.05493839 -0.00938975\n",
            " -0.0051353   0.0121642  -0.07396866 -0.01558515 -0.00242031 -0.01740994\n",
            "  0.03124801  0.05604181 -0.01731023  0.01294842  0.07027007  0.05182184\n",
            " -0.00902768 -0.05622974 -0.04532539 -0.06689598  0.03552149 -0.07071246\n",
            " -0.0259253  -0.07385122 -0.06100285  0.03681644 -0.00968608  0.07388219\n",
            " -0.00692947 -0.04203615], shape=(512,), dtype=float32)\n",
            "Prevention is key in healthcare. Regular check-ups with healthcare providers, vaccinations, and screenings for common health conditions contribute to early detection and effective management.\n",
            "tf.Tensor(\n",
            "[-0.0589052  -0.00314605  0.05445509 -0.02553325 -0.04055401 -0.06367672\n",
            "  0.02748559  0.02470461 -0.04449262 -0.07959664  0.08402028 -0.03400571\n",
            " -0.01719984 -0.07190457  0.0057884  -0.02244936 -0.08404887  0.01873239\n",
            " -0.07448909  0.05798201 -0.04940645 -0.01104875 -0.03071833 -0.04293113\n",
            "  0.06190846  0.04153391  0.0196276   0.04205843  0.01010266 -0.00687356\n",
            " -0.05537228  0.08404931  0.04421671  0.06144626  0.04630787  0.04579839\n",
            " -0.02785647 -0.03335457 -0.07129844 -0.05891869  0.06197504  0.01297554\n",
            "  0.07237176  0.00338365  0.01921784  0.0022542  -0.03459325 -0.02606441\n",
            " -0.01939368  0.01463881 -0.0687765  -0.02699641 -0.00107075  0.04434118\n",
            " -0.0798781   0.06431955 -0.01962819  0.02593519  0.00598227  0.0679251\n",
            " -0.04131128 -0.02672586  0.02566167  0.00139158 -0.02155508 -0.04587281\n",
            "  0.0649378  -0.03633792  0.00078408 -0.03796934  0.0376544  -0.05478177\n",
            " -0.05728057  0.0613592   0.0822736  -0.00307957 -0.05597245 -0.02071422\n",
            " -0.02010934  0.03062347  0.06280079  0.02199757  0.05093368  0.03879299\n",
            " -0.05587878 -0.06491977  0.07100916 -0.06611753  0.04696656  0.01538914\n",
            " -0.0375153   0.03985642 -0.02187758  0.01720185  0.00032065 -0.03878375\n",
            "  0.00732474  0.0499289  -0.05303353  0.02198634  0.06815238  0.05177461\n",
            "  0.03122802  0.02464669  0.06013048 -0.05149196  0.05383738 -0.0060603\n",
            "  0.01626899  0.05885028  0.04746488  0.07815254 -0.00954242 -0.05284167\n",
            "  0.02137324  0.03179056 -0.02509458  0.07619005  0.03183416  0.0127941\n",
            "  0.00056292 -0.0758356   0.0272925   0.03307743  0.03861682  0.01961708\n",
            " -0.00367091  0.03011303 -0.02637619 -0.04101355  0.03060653  0.08404639\n",
            " -0.06075605 -0.01660919  0.03324961 -0.01661877  0.0276012   0.07531198\n",
            "  0.07306214  0.03895179  0.03793555  0.02929848  0.06580342  0.05888283\n",
            " -0.05062898  0.00674279  0.00140998 -0.07253344  0.01032145 -0.05468527\n",
            "  0.07831788  0.06006435 -0.03031067 -0.03248952 -0.02775356 -0.02087677\n",
            " -0.03227283  0.00728405  0.0428471  -0.03752941  0.06008141 -0.00099011\n",
            "  0.03298071  0.01843187  0.07733243 -0.01348552  0.06888881  0.0599203\n",
            " -0.02335896  0.06573867  0.05912603 -0.08353233  0.07096859 -0.04477526\n",
            "  0.0036879   0.0364074  -0.03284046 -0.05178907 -0.06743942  0.05053068\n",
            " -0.04275434 -0.00687634  0.07918887  0.00261089  0.05045687 -0.03445242\n",
            "  0.05387587 -0.05101544 -0.06012267 -0.0047392   0.02569502 -0.07932141\n",
            "  0.02303621  0.03843581  0.04883422 -0.05082028  0.01145622  0.00627799\n",
            " -0.03653736 -0.05305494  0.02693552  0.0179466  -0.04877795  0.03922893\n",
            "  0.0725694  -0.00172087  0.03220608  0.01195829 -0.0461882   0.0285489\n",
            " -0.01473337 -0.04931787  0.04350075 -0.00216002  0.03113237  0.0044606\n",
            "  0.04308124  0.02071318 -0.02817287  0.01998092 -0.02300414  0.03742901\n",
            "  0.01997203  0.03164048  0.00108731  0.05043348 -0.0578921   0.04593766\n",
            "  0.06990799  0.06957309  0.04043355 -0.03867061  0.07380423  0.03458128\n",
            "  0.03624634  0.03938809 -0.04689987  0.00306815 -0.01166147 -0.0758328\n",
            " -0.06145206  0.04588442  0.0789593  -0.04499258 -0.00064546  0.00177146\n",
            "  0.01991064  0.06623127  0.042101   -0.07533579  0.0595992  -0.05156054\n",
            "  0.024093   -0.01811604 -0.04371903 -0.04336731  0.02781486  0.02961711\n",
            "  0.04283284 -0.05466742  0.01019746  0.0155174  -0.0256798   0.03906806\n",
            " -0.04652029 -0.03834884  0.0788817  -0.011661    0.07881014  0.0158264\n",
            "  0.03078801 -0.06188573 -0.02291091 -0.08158097 -0.03272176 -0.0800724\n",
            "  0.04383276 -0.06491811  0.06342748  0.07111212 -0.05761736  0.00103313\n",
            "  0.02772721  0.0355336   0.05180028 -0.01121222 -0.02495011  0.04144396\n",
            "  0.06268949  0.03304783  0.04584733  0.03315004  0.04698747 -0.06196333\n",
            "  0.08298483  0.04017688  0.0406743  -0.01798124  0.02804797  0.06200986\n",
            " -0.03679832  0.04554053 -0.04258301 -0.05175267 -0.03846149  0.02564248\n",
            " -0.03518915  0.03851675  0.0083018  -0.06151352 -0.01838373  0.04633671\n",
            " -0.05853799 -0.04030186  0.04521576 -0.03439781  0.03614488  0.01348388\n",
            "  0.03168778 -0.02627248 -0.00413034  0.05943633  0.05935706 -0.05872912\n",
            "  0.00348666  0.08253054  0.00833681  0.05022412  0.06242412  0.01480848\n",
            "  0.05864064 -0.03160102 -0.01292979  0.00465157  0.03309285  0.06245821\n",
            " -0.00508817 -0.01450242  0.01028393 -0.04153725  0.04136389  0.03597565\n",
            "  0.07984346  0.04745994  0.00675765 -0.06426266  0.01560856 -0.02056456\n",
            " -0.01597476 -0.02324796  0.03209038 -0.03386082 -0.01684612  0.04549772\n",
            "  0.01712255  0.01384386 -0.06637128  0.06513929  0.03935421 -0.00937422\n",
            "  0.07332299  0.02313422 -0.06775834 -0.01978952 -0.06039931  0.02682186\n",
            "  0.02750219  0.05862643 -0.01954358  0.04684637 -0.01050508 -0.04702922\n",
            "  0.00537544  0.01053615  0.02825968 -0.02578803 -0.03391749 -0.02188521\n",
            "  0.00598937 -0.01270155 -0.03886861  0.0189318   0.03278137 -0.05078705\n",
            " -0.061622   -0.0013487  -0.00334463 -0.05494568 -0.06295339  0.03597032\n",
            "  0.04276002  0.05111141 -0.02747913 -0.03697871  0.02137087  0.02665791\n",
            "  0.03009548 -0.04807954  0.04462512  0.06595147  0.02043156  0.06972288\n",
            " -0.07218054  0.04355304  0.01639704  0.0699874   0.05511218  0.04244741\n",
            "  0.04574064  0.01887473 -0.00603357  0.06149875  0.03186794  0.00279152\n",
            " -0.00750351 -0.05723766 -0.00683064  0.05723809 -0.05999454 -0.04848261\n",
            " -0.06901205  0.05383426  0.00783345 -0.03096223  0.04480074 -0.04207113\n",
            "  0.06180331  0.04616062 -0.01426844  0.04469526  0.02205119 -0.02843474\n",
            "  0.01530195  0.03746966 -0.03421311  0.00146308  0.026402   -0.00279347\n",
            "  0.06039961  0.06717962  0.01352813  0.06508571  0.0078202   0.02380328\n",
            "  0.05576807 -0.06393494 -0.00149022  0.05853478 -0.02338745 -0.03798441\n",
            "  0.02484523  0.0111395  -0.01452404 -0.02909378 -0.02490569  0.03534201\n",
            "  0.07374765 -0.04593866  0.01424181  0.05379455 -0.02853232 -0.02682947\n",
            " -0.01605464  0.04343256 -0.05631515 -0.04842841  0.07179268  0.03253698\n",
            " -0.04067734 -0.06164669 -0.00371764  0.00247582 -0.00457823 -0.0386278\n",
            " -0.02605543  0.06025567 -0.05430465  0.08117932  0.01941938  0.03421328\n",
            "  0.00780661  0.02308976  0.0407959  -0.01499833  0.00153996  0.00389174\n",
            "  0.00592671 -0.03408319 -0.03824147  0.00402378 -0.06996981 -0.05030056\n",
            "  0.02835344  0.03516481  0.02821826 -0.03322663 -0.07588345  0.03936036\n",
            "  0.01962093  0.02642155  0.04914306 -0.07374602 -0.06264893 -0.0725701\n",
            "  0.06455997 -0.08404936  0.01643519  0.05112373 -0.01989884  0.08169486\n",
            " -0.0515089   0.0638934 ], shape=(512,), dtype=float32)\n"
          ]
        }
      ]
    },
    {
      "cell_type": "markdown",
      "source": [
        "### Chatbot Skeleton"
      ],
      "metadata": {
        "id": "zyOV3A6h6WIA"
      }
    },
    {
      "cell_type": "code",
      "source": [
        "# Define Greeting functions:\n",
        "import random\n",
        "\n",
        "greet_inputs = (\"Hello!\",\"Hi there\")\n",
        "greet_responses = (\"Hey there!\", \"Hi!\", \"Hello.\")\n",
        "def greet(sentence):\n",
        "  for word in sentence.split():\n",
        "    if word.lower() in greet_inputs:\n",
        "      return random.choice(greet_responses)"
      ],
      "metadata": {
        "id": "xdZbOa_n6uAg"
      },
      "execution_count": null,
      "outputs": []
    },
    {
      "cell_type": "markdown",
      "source": [
        "### Chatbot using TFIDF and Cosine Similarity"
      ],
      "metadata": {
        "id": "g-_OHD7DPdmO"
      }
    },
    {
      "cell_type": "code",
      "source": [
        "from sklearn.metrics.pairwise import cosine_similarity\n",
        "\n",
        "def response(user_response):\n",
        "  robo1_response = \"\"\n",
        "  TfidfVec = TfidfVectorizer(tokenizer = tokenize_and_lemmatize, stop_words = \"english\")\n",
        "  tfidf = TfidfVec.fit_transform(sentences)\n",
        "\n",
        "  vals = cosine_similarity(tfidf[-1], tfidf)\n",
        "  idx = vals.argsort()[0][-2]\n",
        "  flat = vals.flatten()\n",
        "  flat.sort()\n",
        "\n",
        "  req_tfidf = flat[-2]\n",
        "  if req_tfidf == 0:\n",
        "    robo1_response += \"Sorry, I can't understand you.\"\n",
        "    return robo1_response\n",
        "  else:\n",
        "    robo1_response += sentences[idx]\n",
        "    return robo1_response\n"
      ],
      "metadata": {
        "id": "lvE0Vubr9cZy"
      },
      "execution_count": null,
      "outputs": []
    },
    {
      "cell_type": "code",
      "source": [
        "# Defining the chatflow\n",
        "flag = True\n",
        "print(\"Greetings! I am a healthcare chatbot. Feel free to ask your health related queries. Type Bye for ending conversation\")\n",
        "while flag == True:\n",
        "  user_response = input()\n",
        "  user_response = user_response.lower()\n",
        "\n",
        "  if user_response != 'bye':\n",
        "    if (user_response == \"thank you\" or user_response == \"thanks\"):\n",
        "      flag = False\n",
        "      print(\"Bot: You are welcome!\")\n",
        "    else:\n",
        "      if(greet(user_response) != None):\n",
        "        print(\"Bot:\"+greet(user_response))\n",
        "      else:\n",
        "        temp = []\n",
        "        sentences.append(user_response)\n",
        "        temp.append(nltk.word_tokenize(user_response))\n",
        "        para.extend(temp)\n",
        "        final_words = list (set(para[0]))\n",
        "\n",
        "        print(\"Bot: \", end=\"\")\n",
        "        print(response(user_response))\n",
        "\n",
        "        sentences.remove(user_response)\n",
        "  else:\n",
        "    flag = False\n",
        "    print(\"Bot: Goodbye!\")"
      ],
      "metadata": {
        "colab": {
          "base_uri": "https://localhost:8080/"
        },
        "id": "uN1L1C07MYkL",
        "outputId": "4f44b0a5-3e67-4274-b944-5fa302a05aa4"
      },
      "execution_count": null,
      "outputs": [
        {
          "output_type": "stream",
          "name": "stdout",
          "text": [
            "Greetings! I am a healthcare chatbot. Feel free to ask your health related queries. Type Bye for ending conversation\n",
            "what is healthcare?\n",
            "Bot: Prevention is key in healthcare. Regular check-ups with healthcare providers, vaccinations, and screenings for common health conditions contribute to early detection and effective management.\n",
            "why is sleep important?\n",
            "Bot: Adequate sleep is crucial for cognitive function and overall health. Establishing a consistent sleep routine, creating a comfortable sleep environment, and avoiding stimulants before bedtime can contribute to better sleep quality.\n",
            "what is diabetes?\n",
            "Bot: Diabetes is a chronic condition that requires careful management. Individuals with diabetes should focus on controlling their blood sugar levels through a combination of diet, exercise, and medication as prescribed by their healthcare provider.\n",
            "What is a balanced diet?\n",
            "Bot: Cardiovascular health is crucial for overall well-being. Regular exercise, a balanced diet, and avoiding smoking are key factors in maintaining a healthy heart. It's essential to monitor cholesterol levels and blood pressure regularly.\n",
            "bye\n",
            "Bot: Goodbye!\n"
          ]
        }
      ]
    },
    {
      "cell_type": "code",
      "source": [
        "for i in para:\n",
        "  print(i)"
      ],
      "metadata": {
        "id": "EwGOwReADe7n",
        "colab": {
          "base_uri": "https://localhost:8080/"
        },
        "outputId": "6024c120-1f1e-4ada-dce5-9d006829294c"
      },
      "execution_count": null,
      "outputs": [
        {
          "output_type": "stream",
          "name": "stdout",
          "text": [
            "['cardiovascular', 'health', 'crucial', 'overall', 'wellbee', 'regular', 'exercise', 'balanced', 'diet', 'avoid', 'smoking', 'key', 'factor', 'maintain', 'healthy', 'heart', 'essential', 'monitor', 'cholesterol', 'level', 'blood', 'pressure', 'regularly']\n",
            "['diabetes', 'chronic', 'condition', 'require', 'careful', 'management', 'individual', 'diabete', 'focus', 'control', 'blood', 'sugar', 'level', 'combination', 'diet', 'exercise', 'medication', 'prescribe', 'healthcare', 'provider']\n",
            "['mental', 'health', 'important', 'physical', 'health', 'stress', 'management', 'technique', 'meditation', 'deep', 'breathing', 'exercise', 'contribute', 'overall', 'wellbeing', 'experience', 'persistent', 'mental', 'health', 'issue', 'seek', 'professional', 'help', 'advisable']\n",
            "['adequate', 'sleep', 'crucial', 'cognitive', 'function', 'overall', 'health', 'establish', 'consistent', 'sleep', 'routine', 'create', 'comfortable', 'sleep', 'environment', 'avoid', 'stimulant', 'bedtime', 'contribute', 'well', 'sleep', 'quality']\n",
            "['mediterranean', 'diet', 'rich', 'fruit', 'vegetable', 'grain', 'olive', 'oil', 'associate', 'numerous', 'health', 'benefit', 'know', 'promote', 'heart', 'health', 'weight', 'management', 'reduce', 'risk', 'chronic', 'disease']\n",
            "['quit', 'smoking', 'challenging', 'worthwhile', 'endeavor', 'support', 'friend', 'family', 'smoking', 'cessation', 'program', 'significantly', 'increase', 'chance', 'successfully', 'quit', 'nicotine', 'replacement', 'therapy', 'option']\n",
            "['regular', 'physical', 'activity', 'numerous', 'benefit', 'include', 'improve', 'cardiovascular', 'health', 'weight', 'management', 'mood', 'enhancement', 'find', 'enjoyable', 'form', 'exercise', 'easy', 'maintain', 'consistent', 'routine']\n",
            "['hydration', 'essential', 'overall', 'health', 'drink', 'adequate', 'water', 'help', 'maintain', 'bodily', 'function', 'support', 'digestion', 'contribute', 'healthy', 'skin', 'recommend', 'aim', 'glass', 'water', 'day']\n",
            "['balanced', 'nutrition', 'play', 'crucial', 'role', 'maintain', 'healthy', 'weight', 'prevent', 'chronic', 'disease', 'diet', 'rich', 'fruit', 'vegetable', 'lean', 'protein', 'grain', 'provide', 'essential', 'nutrient', 'optimal', 'health']\n",
            "['prevention', 'key', 'healthcare', 'regular', 'checkup', 'healthcare', 'provider', 'vaccination', 'screening', 'common', 'health', 'condition', 'contribute', 'early', 'detection', 'effective', 'management']\n",
            "['what', 'is', 'healthcare', '?']\n",
            "['why', 'is', 'sleep', 'important', '?']\n",
            "['what', 'is', 'diabetes', '?']\n",
            "['what', 'is', 'a', 'balanced', 'diet', '?']\n"
          ]
        }
      ]
    }
  ]
}